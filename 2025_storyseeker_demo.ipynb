{
  "nbformat": 4,
  "nbformat_minor": 0,
  "metadata": {
    "colab": {
      "provenance": [],
      "gpuType": "T4"
    },
    "kernelspec": {
      "name": "python3",
      "display_name": "Python 3"
    },
    "language_info": {
      "name": "python"
    },
    "accelerator": "GPU"
  },
  "cells": [
    {
      "cell_type": "markdown",
      "source": [
        "# **🔭StorySeeker Demo**\n",
        "\n",
        "This notebook was created by Maria Antoniak as part of the 🔭StorySeeker toolkit. See the [central project Github](https://github.com/maria-antoniak/storyseeker) for more information.\n",
        "\n",
        "Use this notebook to use the 🔭StorySeeker model to predict whether or not a text contains a story.\n",
        "\n",
        "If you use our data, codebook, or models, please cite the following paper.\n",
        "\n",
        "> [Where do people tell stories online? Story Detection Across Online Communities](https://aclanthology.org/2024.acl-long.383/)   \n",
        "> Maria Antoniak, Joel Mire, Maarten Sap, Elliott Ash, Andrew Piper   \n",
        "> ACL 2024  \n",
        "\n",
        "\n",
        "<br><br><br><br>\n",
        "\n",
        "## **Install and import necessary packages**\n"
      ],
      "metadata": {
        "id": "jZ5ygHjoK926"
      }
    },
    {
      "cell_type": "code",
      "execution_count": null,
      "metadata": {
        "colab": {
          "base_uri": "https://localhost:8080/"
        },
        "id": "samASDrJ-MkT",
        "outputId": "0b0c3e40-7431-491f-f159-60686b73d447"
      },
      "outputs": [
        {
          "output_type": "stream",
          "name": "stdout",
          "text": [
            "Requirement already satisfied: transformers[torch] in /usr/local/lib/python3.11/dist-packages (4.51.1)\n",
            "Requirement already satisfied: filelock in /usr/local/lib/python3.11/dist-packages (from transformers[torch]) (3.18.0)\n",
            "Requirement already satisfied: huggingface-hub<1.0,>=0.30.0 in /usr/local/lib/python3.11/dist-packages (from transformers[torch]) (0.30.2)\n",
            "Requirement already satisfied: numpy>=1.17 in /usr/local/lib/python3.11/dist-packages (from transformers[torch]) (1.26.4)\n",
            "Requirement already satisfied: packaging>=20.0 in /usr/local/lib/python3.11/dist-packages (from transformers[torch]) (24.2)\n",
            "Requirement already satisfied: pyyaml>=5.1 in /usr/local/lib/python3.11/dist-packages (from transformers[torch]) (6.0.2)\n",
            "Requirement already satisfied: regex!=2019.12.17 in /usr/local/lib/python3.11/dist-packages (from transformers[torch]) (2024.11.6)\n",
            "Requirement already satisfied: requests in /usr/local/lib/python3.11/dist-packages (from transformers[torch]) (2.32.3)\n",
            "Requirement already satisfied: tokenizers<0.22,>=0.21 in /usr/local/lib/python3.11/dist-packages (from transformers[torch]) (0.21.1)\n",
            "Requirement already satisfied: safetensors>=0.4.3 in /usr/local/lib/python3.11/dist-packages (from transformers[torch]) (0.5.3)\n",
            "Requirement already satisfied: tqdm>=4.27 in /usr/local/lib/python3.11/dist-packages (from transformers[torch]) (4.67.1)\n",
            "Requirement already satisfied: torch>=2.0 in /usr/local/lib/python3.11/dist-packages (from transformers[torch]) (2.6.0+cu124)\n",
            "Requirement already satisfied: accelerate>=0.26.0 in /usr/local/lib/python3.11/dist-packages (from transformers[torch]) (1.5.2)\n",
            "Requirement already satisfied: psutil in /usr/local/lib/python3.11/dist-packages (from accelerate>=0.26.0->transformers[torch]) (5.9.5)\n",
            "Requirement already satisfied: fsspec>=2023.5.0 in /usr/local/lib/python3.11/dist-packages (from huggingface-hub<1.0,>=0.30.0->transformers[torch]) (2025.3.2)\n",
            "Requirement already satisfied: typing-extensions>=3.7.4.3 in /usr/local/lib/python3.11/dist-packages (from huggingface-hub<1.0,>=0.30.0->transformers[torch]) (4.13.1)\n",
            "Requirement already satisfied: networkx in /usr/local/lib/python3.11/dist-packages (from torch>=2.0->transformers[torch]) (3.4.2)\n",
            "Requirement already satisfied: jinja2 in /usr/local/lib/python3.11/dist-packages (from torch>=2.0->transformers[torch]) (3.1.6)\n",
            "Collecting nvidia-cuda-nvrtc-cu12==12.4.127 (from torch>=2.0->transformers[torch])\n",
            "  Using cached nvidia_cuda_nvrtc_cu12-12.4.127-py3-none-manylinux2014_x86_64.whl.metadata (1.5 kB)\n",
            "Collecting nvidia-cuda-runtime-cu12==12.4.127 (from torch>=2.0->transformers[torch])\n",
            "  Using cached nvidia_cuda_runtime_cu12-12.4.127-py3-none-manylinux2014_x86_64.whl.metadata (1.5 kB)\n",
            "Collecting nvidia-cuda-cupti-cu12==12.4.127 (from torch>=2.0->transformers[torch])\n",
            "  Using cached nvidia_cuda_cupti_cu12-12.4.127-py3-none-manylinux2014_x86_64.whl.metadata (1.6 kB)\n",
            "Collecting nvidia-cudnn-cu12==9.1.0.70 (from torch>=2.0->transformers[torch])\n",
            "  Using cached nvidia_cudnn_cu12-9.1.0.70-py3-none-manylinux2014_x86_64.whl.metadata (1.6 kB)\n",
            "Collecting nvidia-cublas-cu12==12.4.5.8 (from torch>=2.0->transformers[torch])\n",
            "  Using cached nvidia_cublas_cu12-12.4.5.8-py3-none-manylinux2014_x86_64.whl.metadata (1.5 kB)\n",
            "Collecting nvidia-cufft-cu12==11.2.1.3 (from torch>=2.0->transformers[torch])\n",
            "  Using cached nvidia_cufft_cu12-11.2.1.3-py3-none-manylinux2014_x86_64.whl.metadata (1.5 kB)\n",
            "Collecting nvidia-curand-cu12==10.3.5.147 (from torch>=2.0->transformers[torch])\n",
            "  Using cached nvidia_curand_cu12-10.3.5.147-py3-none-manylinux2014_x86_64.whl.metadata (1.5 kB)\n",
            "Collecting nvidia-cusolver-cu12==11.6.1.9 (from torch>=2.0->transformers[torch])\n",
            "  Using cached nvidia_cusolver_cu12-11.6.1.9-py3-none-manylinux2014_x86_64.whl.metadata (1.6 kB)\n",
            "Collecting nvidia-cusparse-cu12==12.3.1.170 (from torch>=2.0->transformers[torch])\n",
            "  Using cached nvidia_cusparse_cu12-12.3.1.170-py3-none-manylinux2014_x86_64.whl.metadata (1.6 kB)\n",
            "Requirement already satisfied: nvidia-cusparselt-cu12==0.6.2 in /usr/local/lib/python3.11/dist-packages (from torch>=2.0->transformers[torch]) (0.6.2)\n",
            "Requirement already satisfied: nvidia-nccl-cu12==2.21.5 in /usr/local/lib/python3.11/dist-packages (from torch>=2.0->transformers[torch]) (2.21.5)\n",
            "Requirement already satisfied: nvidia-nvtx-cu12==12.4.127 in /usr/local/lib/python3.11/dist-packages (from torch>=2.0->transformers[torch]) (12.4.127)\n",
            "Collecting nvidia-nvjitlink-cu12==12.4.127 (from torch>=2.0->transformers[torch])\n",
            "  Using cached nvidia_nvjitlink_cu12-12.4.127-py3-none-manylinux2014_x86_64.whl.metadata (1.5 kB)\n",
            "Requirement already satisfied: triton==3.2.0 in /usr/local/lib/python3.11/dist-packages (from torch>=2.0->transformers[torch]) (3.2.0)\n",
            "Requirement already satisfied: sympy==1.13.1 in /usr/local/lib/python3.11/dist-packages (from torch>=2.0->transformers[torch]) (1.13.1)\n",
            "Requirement already satisfied: mpmath<1.4,>=1.1.0 in /usr/local/lib/python3.11/dist-packages (from sympy==1.13.1->torch>=2.0->transformers[torch]) (1.3.0)\n",
            "Requirement already satisfied: charset-normalizer<4,>=2 in /usr/local/lib/python3.11/dist-packages (from requests->transformers[torch]) (3.4.1)\n",
            "Requirement already satisfied: idna<4,>=2.5 in /usr/local/lib/python3.11/dist-packages (from requests->transformers[torch]) (3.10)\n",
            "Requirement already satisfied: urllib3<3,>=1.21.1 in /usr/local/lib/python3.11/dist-packages (from requests->transformers[torch]) (2.3.0)\n",
            "Requirement already satisfied: certifi>=2017.4.17 in /usr/local/lib/python3.11/dist-packages (from requests->transformers[torch]) (2025.1.31)\n",
            "Requirement already satisfied: MarkupSafe>=2.0 in /usr/local/lib/python3.11/dist-packages (from jinja2->torch>=2.0->transformers[torch]) (3.0.2)\n",
            "Downloading nvidia_cublas_cu12-12.4.5.8-py3-none-manylinux2014_x86_64.whl (363.4 MB)\n",
            "\u001b[2K   \u001b[90m━━━━━━━━━━━━━━━━━━━━━━━━━━━━━━━━━━━━━━━━\u001b[0m \u001b[32m363.4/363.4 MB\u001b[0m \u001b[31m4.0 MB/s\u001b[0m eta \u001b[36m0:00:00\u001b[0m\n",
            "\u001b[?25hUsing cached nvidia_cuda_cupti_cu12-12.4.127-py3-none-manylinux2014_x86_64.whl (13.8 MB)\n",
            "Using cached nvidia_cuda_nvrtc_cu12-12.4.127-py3-none-manylinux2014_x86_64.whl (24.6 MB)\n",
            "Using cached nvidia_cuda_runtime_cu12-12.4.127-py3-none-manylinux2014_x86_64.whl (883 kB)\n",
            "Using cached nvidia_cudnn_cu12-9.1.0.70-py3-none-manylinux2014_x86_64.whl (664.8 MB)\n",
            "Using cached nvidia_cufft_cu12-11.2.1.3-py3-none-manylinux2014_x86_64.whl (211.5 MB)\n",
            "Using cached nvidia_curand_cu12-10.3.5.147-py3-none-manylinux2014_x86_64.whl (56.3 MB)\n",
            "Using cached nvidia_cusolver_cu12-11.6.1.9-py3-none-manylinux2014_x86_64.whl (127.9 MB)\n",
            "Using cached nvidia_cusparse_cu12-12.3.1.170-py3-none-manylinux2014_x86_64.whl (207.5 MB)\n",
            "Using cached nvidia_nvjitlink_cu12-12.4.127-py3-none-manylinux2014_x86_64.whl (21.1 MB)\n",
            "Installing collected packages: nvidia-nvjitlink-cu12, nvidia-curand-cu12, nvidia-cufft-cu12, nvidia-cuda-runtime-cu12, nvidia-cuda-nvrtc-cu12, nvidia-cuda-cupti-cu12, nvidia-cublas-cu12, nvidia-cusparse-cu12, nvidia-cudnn-cu12, nvidia-cusolver-cu12\n",
            "  Attempting uninstall: nvidia-nvjitlink-cu12\n",
            "    Found existing installation: nvidia-nvjitlink-cu12 12.5.82\n",
            "    Uninstalling nvidia-nvjitlink-cu12-12.5.82:\n",
            "      Successfully uninstalled nvidia-nvjitlink-cu12-12.5.82\n",
            "  Attempting uninstall: nvidia-curand-cu12\n",
            "    Found existing installation: nvidia-curand-cu12 10.3.6.82\n",
            "    Uninstalling nvidia-curand-cu12-10.3.6.82:\n",
            "      Successfully uninstalled nvidia-curand-cu12-10.3.6.82\n",
            "  Attempting uninstall: nvidia-cufft-cu12\n",
            "    Found existing installation: nvidia-cufft-cu12 11.2.3.61\n",
            "    Uninstalling nvidia-cufft-cu12-11.2.3.61:\n",
            "      Successfully uninstalled nvidia-cufft-cu12-11.2.3.61\n",
            "  Attempting uninstall: nvidia-cuda-runtime-cu12\n",
            "    Found existing installation: nvidia-cuda-runtime-cu12 12.5.82\n",
            "    Uninstalling nvidia-cuda-runtime-cu12-12.5.82:\n",
            "      Successfully uninstalled nvidia-cuda-runtime-cu12-12.5.82\n",
            "  Attempting uninstall: nvidia-cuda-nvrtc-cu12\n",
            "    Found existing installation: nvidia-cuda-nvrtc-cu12 12.5.82\n",
            "    Uninstalling nvidia-cuda-nvrtc-cu12-12.5.82:\n",
            "      Successfully uninstalled nvidia-cuda-nvrtc-cu12-12.5.82\n",
            "  Attempting uninstall: nvidia-cuda-cupti-cu12\n",
            "    Found existing installation: nvidia-cuda-cupti-cu12 12.5.82\n",
            "    Uninstalling nvidia-cuda-cupti-cu12-12.5.82:\n",
            "      Successfully uninstalled nvidia-cuda-cupti-cu12-12.5.82\n",
            "  Attempting uninstall: nvidia-cublas-cu12\n",
            "    Found existing installation: nvidia-cublas-cu12 12.5.3.2\n",
            "    Uninstalling nvidia-cublas-cu12-12.5.3.2:\n",
            "      Successfully uninstalled nvidia-cublas-cu12-12.5.3.2\n",
            "  Attempting uninstall: nvidia-cusparse-cu12\n",
            "    Found existing installation: nvidia-cusparse-cu12 12.5.1.3\n",
            "    Uninstalling nvidia-cusparse-cu12-12.5.1.3:\n",
            "      Successfully uninstalled nvidia-cusparse-cu12-12.5.1.3\n",
            "  Attempting uninstall: nvidia-cudnn-cu12\n",
            "    Found existing installation: nvidia-cudnn-cu12 9.3.0.75\n",
            "    Uninstalling nvidia-cudnn-cu12-9.3.0.75:\n",
            "      Successfully uninstalled nvidia-cudnn-cu12-9.3.0.75\n",
            "  Attempting uninstall: nvidia-cusolver-cu12\n",
            "    Found existing installation: nvidia-cusolver-cu12 11.6.3.83\n",
            "    Uninstalling nvidia-cusolver-cu12-11.6.3.83:\n",
            "      Successfully uninstalled nvidia-cusolver-cu12-11.6.3.83\n",
            "Successfully installed nvidia-cublas-cu12-12.4.5.8 nvidia-cuda-cupti-cu12-12.4.127 nvidia-cuda-nvrtc-cu12-12.4.127 nvidia-cuda-runtime-cu12-12.4.127 nvidia-cudnn-cu12-9.1.0.70 nvidia-cufft-cu12-11.2.1.3 nvidia-curand-cu12-10.3.5.147 nvidia-cusolver-cu12-11.6.1.9 nvidia-cusparse-cu12-12.3.1.170 nvidia-nvjitlink-cu12-12.4.127\n"
          ]
        }
      ],
      "source": [
        "pip install transformers[torch]"
      ]
    },
    {
      "cell_type": "code",
      "source": [
        "import torch\n",
        "from transformers import RobertaTokenizerFast, RobertaForSequenceClassification\n",
        "from transformers import Trainer, TrainingArguments"
      ],
      "metadata": {
        "id": "u2V4bE9V-RoH"
      },
      "execution_count": null,
      "outputs": []
    },
    {
      "cell_type": "code",
      "source": [
        "from collections import defaultdict\n",
        "import gdown\n",
        "import gzip\n",
        "import json\n",
        "import os\n",
        "import random\n",
        "import pickle\n",
        "\n",
        "import pandas as pd\n",
        "import numpy as np\n",
        "from sklearn.metrics import accuracy_score, precision_recall_fscore_support, classification_report\n",
        "from sklearn.feature_extraction.text import TfidfVectorizer\n",
        "from sklearn.model_selection import train_test_split\n",
        "from sklearn.linear_model import LogisticRegression\n",
        "\n",
        "%matplotlib inline\n",
        "import matplotlib.pyplot as plt\n",
        "import seaborn as sns\n",
        "from matplotlib import ticker\n",
        "sns.set(style='ticks', font_scale=1.2)"
      ],
      "metadata": {
        "id": "ZLIIs0xF-U7_"
      },
      "execution_count": null,
      "outputs": []
    },
    {
      "cell_type": "markdown",
      "source": [
        "<br><br><br><br>\n",
        "\n",
        "## **Set parameters and file paths**\n",
        "\n",
        "This is one of many ways you can load your own dataset. I'm using a dataset of congressional speeches as an example, but you should change this to your own dataset.\n",
        "\n",
        "Create a folder in your Google Drive and note the location. I like to put all my Colab files in a central directory named ```Colab Output``` but you could use a different location.\n",
        "\n",
        "Upload your data files to that new folder."
      ],
      "metadata": {
        "id": "tSKJYTkZ-e2M"
      }
    },
    {
      "cell_type": "code",
      "source": [
        "from google.colab import drive\n",
        "drive.mount('/content/drive')"
      ],
      "metadata": {
        "colab": {
          "base_uri": "https://localhost:8080/"
        },
        "id": "gmVxf2t_-aIz",
        "outputId": "6c5627f5-b740-4be3-f3dd-0b9843c24d2f"
      },
      "execution_count": null,
      "outputs": [
        {
          "output_type": "stream",
          "name": "stdout",
          "text": [
            "Drive already mounted at /content/drive; to attempt to forcibly remount, call drive.mount(\"/content/drive\", force_remount=True).\n"
          ]
        }
      ]
    },
    {
      "cell_type": "markdown",
      "source": [
        "Update the following two paths to your new folder."
      ],
      "metadata": {
        "id": "Ew2GLSYzPBjG"
      }
    },
    {
      "cell_type": "code",
      "source": [
        "colab_directory_path = '/content/drive/My Drive/Colab Output/2025-04-congress-storyseeker'"
      ],
      "metadata": {
        "id": "-NNP115a-j3Z"
      },
      "execution_count": null,
      "outputs": []
    },
    {
      "cell_type": "code",
      "source": [
        "%cd /content/drive/My Drive/Colab Output/2025-04-congress-storyseeker"
      ],
      "metadata": {
        "colab": {
          "base_uri": "https://localhost:8080/"
        },
        "id": "Vcqw7sTS-uWf",
        "outputId": "70ae97d7-6b9a-4ab4-e91b-be9d21ee64c2"
      },
      "execution_count": null,
      "outputs": [
        {
          "output_type": "stream",
          "name": "stdout",
          "text": [
            "/content/drive/My Drive/Colab Output/2025-04-congress-storyseeker\n"
          ]
        }
      ]
    },
    {
      "cell_type": "markdown",
      "source": [
        "<br><br><br><br>\n",
        "\n",
        "## **Load StorySeeker model from Hugging Face**\n",
        "\n",
        "Here I'm loading the StorySeeker model, which is a pretrained RoBERTa model that has been finetuned using our StorySeeker dataset.\n",
        "\n",
        "I'm also laoding the appropriate tokenizer, which we will need later.\n",
        "\n",
        "If you get an error when loading the model, make sure your Colab is using a GPU in its runtime."
      ],
      "metadata": {
        "id": "cI2TGTjqDF9b"
      }
    },
    {
      "cell_type": "code",
      "source": [
        "from transformers import AutoTokenizer, AutoModelForSequenceClassification"
      ],
      "metadata": {
        "id": "e-ggLx8ADV4i"
      },
      "execution_count": null,
      "outputs": []
    },
    {
      "cell_type": "code",
      "source": [
        "device_name = 'cuda'\n",
        "max_length = 512"
      ],
      "metadata": {
        "id": "A2GJ_gq7D2VS"
      },
      "execution_count": null,
      "outputs": []
    },
    {
      "cell_type": "code",
      "source": [
        "tokenizer = AutoTokenizer.from_pretrained(\"mariaantoniak/storyseeker\")\n",
        "model = AutoModelForSequenceClassification.from_pretrained(\"mariaantoniak/storyseeker\")"
      ],
      "metadata": {
        "colab": {
          "base_uri": "https://localhost:8080/"
        },
        "id": "IGf-gKbyDGF3",
        "outputId": "5600de02-684b-4181-b1ec-7c2db6e700f8"
      },
      "execution_count": null,
      "outputs": [
        {
          "output_type": "stream",
          "name": "stderr",
          "text": [
            "/usr/local/lib/python3.11/dist-packages/huggingface_hub/utils/_auth.py:94: UserWarning: \n",
            "The secret `HF_TOKEN` does not exist in your Colab secrets.\n",
            "To authenticate with the Hugging Face Hub, create a token in your settings tab (https://huggingface.co/settings/tokens), set it as secret in your Google Colab and restart your session.\n",
            "You will be able to reuse this secret in all of your notebooks.\n",
            "Please note that authentication is recommended but still optional to access public models or datasets.\n",
            "  warnings.warn(\n"
          ]
        }
      ]
    },
    {
      "cell_type": "code",
      "source": [
        "trainer = Trainer(model=model)\n",
        "trainer.model = model.cuda()"
      ],
      "metadata": {
        "id": "3RXHp1o2ESHF"
      },
      "execution_count": null,
      "outputs": []
    },
    {
      "cell_type": "markdown",
      "source": [
        "<br><br><br><br>\n",
        "\n",
        "## **Encode the congressional data and run prediction**\n",
        "\n",
        "Here I'm loading my example dataset. You should replace this with your own dataset. If your dataset is not a CSV, then you will need to modify this code so that your data is loaded properly.\n",
        "\n",
        "You don't need any additional metadata, just a set of texts."
      ],
      "metadata": {
        "id": "cZqvGAb0F-DK"
      }
    },
    {
      "cell_type": "code",
      "source": [
        "congress_df = pd.read_csv('congress_sample_for_storyseeker.10k.csv')\n",
        "len(congress_df.index)"
      ],
      "metadata": {
        "colab": {
          "base_uri": "https://localhost:8080/"
        },
        "id": "11nx1_4N_gu-",
        "outputId": "7c91edbd-018b-4757-db9d-15669264604e"
      },
      "execution_count": null,
      "outputs": [
        {
          "output_type": "execute_result",
          "data": {
            "text/plain": [
              "10000"
            ]
          },
          "metadata": {},
          "execution_count": 27
        }
      ]
    },
    {
      "cell_type": "code",
      "source": [
        "congress_df.sample(3)"
      ],
      "metadata": {
        "colab": {
          "base_uri": "https://localhost:8080/",
          "height": 389
        },
        "id": "31-nJzXR_vhH",
        "outputId": "d7d9f698-48f1-49fc-d01e-1565bf782b27"
      },
      "execution_count": null,
      "outputs": [
        {
          "output_type": "execute_result",
          "data": {
            "text/plain": [
              "      Unnamed: 0   gpo_id        date  congress chamber state     member  \\\n",
              "6252      296406   171043  1998-06-03       105   house    IN     SOUDER   \n",
              "4684      647102   364069  2005-04-26       109   house    GA    GINGREY   \n",
              "1731      786065  1238936  2008-01-22       110  senate    KY  MCCONNELL   \n",
              "\n",
              "                                     name    icpsr  party_code  nominate_dim1  \\\n",
              "6252                                  NaN      NaN         NaN            NaN   \n",
              "4684                        GINGREY, Phil  20319.0       200.0          0.561   \n",
              "1731  McCONNELL, Addison Mitchell (Mitch)  14921.0       200.0          0.403   \n",
              "\n",
              "      nominate_dim2                                          statement  year  \\\n",
              "6252            NaN  Speaker, I thank the chairman for yielding me ...  1998   \n",
              "4684          0.272  But, Mr. Speaker, absolutely. What the gentlem...  2005   \n",
              "1731          0.010  President, with a new year we welcome the newe...  2008   \n",
              "\n",
              "      month year-month  statement_length  \n",
              "6252      6    1998-06               382  \n",
              "4684      4    2005-04               227  \n",
              "1731      1    2008-01               230  "
            ],
            "text/html": [
              "\n",
              "  <div id=\"df-cf7f460a-1a39-41ed-a64a-a894eb162636\" class=\"colab-df-container\">\n",
              "    <div>\n",
              "<style scoped>\n",
              "    .dataframe tbody tr th:only-of-type {\n",
              "        vertical-align: middle;\n",
              "    }\n",
              "\n",
              "    .dataframe tbody tr th {\n",
              "        vertical-align: top;\n",
              "    }\n",
              "\n",
              "    .dataframe thead th {\n",
              "        text-align: right;\n",
              "    }\n",
              "</style>\n",
              "<table border=\"1\" class=\"dataframe\">\n",
              "  <thead>\n",
              "    <tr style=\"text-align: right;\">\n",
              "      <th></th>\n",
              "      <th>Unnamed: 0</th>\n",
              "      <th>gpo_id</th>\n",
              "      <th>date</th>\n",
              "      <th>congress</th>\n",
              "      <th>chamber</th>\n",
              "      <th>state</th>\n",
              "      <th>member</th>\n",
              "      <th>name</th>\n",
              "      <th>icpsr</th>\n",
              "      <th>party_code</th>\n",
              "      <th>nominate_dim1</th>\n",
              "      <th>nominate_dim2</th>\n",
              "      <th>statement</th>\n",
              "      <th>year</th>\n",
              "      <th>month</th>\n",
              "      <th>year-month</th>\n",
              "      <th>statement_length</th>\n",
              "    </tr>\n",
              "  </thead>\n",
              "  <tbody>\n",
              "    <tr>\n",
              "      <th>6252</th>\n",
              "      <td>296406</td>\n",
              "      <td>171043</td>\n",
              "      <td>1998-06-03</td>\n",
              "      <td>105</td>\n",
              "      <td>house</td>\n",
              "      <td>IN</td>\n",
              "      <td>SOUDER</td>\n",
              "      <td>NaN</td>\n",
              "      <td>NaN</td>\n",
              "      <td>NaN</td>\n",
              "      <td>NaN</td>\n",
              "      <td>NaN</td>\n",
              "      <td>Speaker, I thank the chairman for yielding me ...</td>\n",
              "      <td>1998</td>\n",
              "      <td>6</td>\n",
              "      <td>1998-06</td>\n",
              "      <td>382</td>\n",
              "    </tr>\n",
              "    <tr>\n",
              "      <th>4684</th>\n",
              "      <td>647102</td>\n",
              "      <td>364069</td>\n",
              "      <td>2005-04-26</td>\n",
              "      <td>109</td>\n",
              "      <td>house</td>\n",
              "      <td>GA</td>\n",
              "      <td>GINGREY</td>\n",
              "      <td>GINGREY, Phil</td>\n",
              "      <td>20319.0</td>\n",
              "      <td>200.0</td>\n",
              "      <td>0.561</td>\n",
              "      <td>0.272</td>\n",
              "      <td>But, Mr. Speaker, absolutely. What the gentlem...</td>\n",
              "      <td>2005</td>\n",
              "      <td>4</td>\n",
              "      <td>2005-04</td>\n",
              "      <td>227</td>\n",
              "    </tr>\n",
              "    <tr>\n",
              "      <th>1731</th>\n",
              "      <td>786065</td>\n",
              "      <td>1238936</td>\n",
              "      <td>2008-01-22</td>\n",
              "      <td>110</td>\n",
              "      <td>senate</td>\n",
              "      <td>KY</td>\n",
              "      <td>MCCONNELL</td>\n",
              "      <td>McCONNELL, Addison Mitchell (Mitch)</td>\n",
              "      <td>14921.0</td>\n",
              "      <td>200.0</td>\n",
              "      <td>0.403</td>\n",
              "      <td>0.010</td>\n",
              "      <td>President, with a new year we welcome the newe...</td>\n",
              "      <td>2008</td>\n",
              "      <td>1</td>\n",
              "      <td>2008-01</td>\n",
              "      <td>230</td>\n",
              "    </tr>\n",
              "  </tbody>\n",
              "</table>\n",
              "</div>\n",
              "    <div class=\"colab-df-buttons\">\n",
              "\n",
              "  <div class=\"colab-df-container\">\n",
              "    <button class=\"colab-df-convert\" onclick=\"convertToInteractive('df-cf7f460a-1a39-41ed-a64a-a894eb162636')\"\n",
              "            title=\"Convert this dataframe to an interactive table.\"\n",
              "            style=\"display:none;\">\n",
              "\n",
              "  <svg xmlns=\"http://www.w3.org/2000/svg\" height=\"24px\" viewBox=\"0 -960 960 960\">\n",
              "    <path d=\"M120-120v-720h720v720H120Zm60-500h600v-160H180v160Zm220 220h160v-160H400v160Zm0 220h160v-160H400v160ZM180-400h160v-160H180v160Zm440 0h160v-160H620v160ZM180-180h160v-160H180v160Zm440 0h160v-160H620v160Z\"/>\n",
              "  </svg>\n",
              "    </button>\n",
              "\n",
              "  <style>\n",
              "    .colab-df-container {\n",
              "      display:flex;\n",
              "      gap: 12px;\n",
              "    }\n",
              "\n",
              "    .colab-df-convert {\n",
              "      background-color: #E8F0FE;\n",
              "      border: none;\n",
              "      border-radius: 50%;\n",
              "      cursor: pointer;\n",
              "      display: none;\n",
              "      fill: #1967D2;\n",
              "      height: 32px;\n",
              "      padding: 0 0 0 0;\n",
              "      width: 32px;\n",
              "    }\n",
              "\n",
              "    .colab-df-convert:hover {\n",
              "      background-color: #E2EBFA;\n",
              "      box-shadow: 0px 1px 2px rgba(60, 64, 67, 0.3), 0px 1px 3px 1px rgba(60, 64, 67, 0.15);\n",
              "      fill: #174EA6;\n",
              "    }\n",
              "\n",
              "    .colab-df-buttons div {\n",
              "      margin-bottom: 4px;\n",
              "    }\n",
              "\n",
              "    [theme=dark] .colab-df-convert {\n",
              "      background-color: #3B4455;\n",
              "      fill: #D2E3FC;\n",
              "    }\n",
              "\n",
              "    [theme=dark] .colab-df-convert:hover {\n",
              "      background-color: #434B5C;\n",
              "      box-shadow: 0px 1px 3px 1px rgba(0, 0, 0, 0.15);\n",
              "      filter: drop-shadow(0px 1px 2px rgba(0, 0, 0, 0.3));\n",
              "      fill: #FFFFFF;\n",
              "    }\n",
              "  </style>\n",
              "\n",
              "    <script>\n",
              "      const buttonEl =\n",
              "        document.querySelector('#df-cf7f460a-1a39-41ed-a64a-a894eb162636 button.colab-df-convert');\n",
              "      buttonEl.style.display =\n",
              "        google.colab.kernel.accessAllowed ? 'block' : 'none';\n",
              "\n",
              "      async function convertToInteractive(key) {\n",
              "        const element = document.querySelector('#df-cf7f460a-1a39-41ed-a64a-a894eb162636');\n",
              "        const dataTable =\n",
              "          await google.colab.kernel.invokeFunction('convertToInteractive',\n",
              "                                                    [key], {});\n",
              "        if (!dataTable) return;\n",
              "\n",
              "        const docLinkHtml = 'Like what you see? Visit the ' +\n",
              "          '<a target=\"_blank\" href=https://colab.research.google.com/notebooks/data_table.ipynb>data table notebook</a>'\n",
              "          + ' to learn more about interactive tables.';\n",
              "        element.innerHTML = '';\n",
              "        dataTable['output_type'] = 'display_data';\n",
              "        await google.colab.output.renderOutput(dataTable, element);\n",
              "        const docLink = document.createElement('div');\n",
              "        docLink.innerHTML = docLinkHtml;\n",
              "        element.appendChild(docLink);\n",
              "      }\n",
              "    </script>\n",
              "  </div>\n",
              "\n",
              "\n",
              "<div id=\"df-0ad0fb1f-d388-4ac9-af86-9c8f2eef14af\">\n",
              "  <button class=\"colab-df-quickchart\" onclick=\"quickchart('df-0ad0fb1f-d388-4ac9-af86-9c8f2eef14af')\"\n",
              "            title=\"Suggest charts\"\n",
              "            style=\"display:none;\">\n",
              "\n",
              "<svg xmlns=\"http://www.w3.org/2000/svg\" height=\"24px\"viewBox=\"0 0 24 24\"\n",
              "     width=\"24px\">\n",
              "    <g>\n",
              "        <path d=\"M19 3H5c-1.1 0-2 .9-2 2v14c0 1.1.9 2 2 2h14c1.1 0 2-.9 2-2V5c0-1.1-.9-2-2-2zM9 17H7v-7h2v7zm4 0h-2V7h2v10zm4 0h-2v-4h2v4z\"/>\n",
              "    </g>\n",
              "</svg>\n",
              "  </button>\n",
              "\n",
              "<style>\n",
              "  .colab-df-quickchart {\n",
              "      --bg-color: #E8F0FE;\n",
              "      --fill-color: #1967D2;\n",
              "      --hover-bg-color: #E2EBFA;\n",
              "      --hover-fill-color: #174EA6;\n",
              "      --disabled-fill-color: #AAA;\n",
              "      --disabled-bg-color: #DDD;\n",
              "  }\n",
              "\n",
              "  [theme=dark] .colab-df-quickchart {\n",
              "      --bg-color: #3B4455;\n",
              "      --fill-color: #D2E3FC;\n",
              "      --hover-bg-color: #434B5C;\n",
              "      --hover-fill-color: #FFFFFF;\n",
              "      --disabled-bg-color: #3B4455;\n",
              "      --disabled-fill-color: #666;\n",
              "  }\n",
              "\n",
              "  .colab-df-quickchart {\n",
              "    background-color: var(--bg-color);\n",
              "    border: none;\n",
              "    border-radius: 50%;\n",
              "    cursor: pointer;\n",
              "    display: none;\n",
              "    fill: var(--fill-color);\n",
              "    height: 32px;\n",
              "    padding: 0;\n",
              "    width: 32px;\n",
              "  }\n",
              "\n",
              "  .colab-df-quickchart:hover {\n",
              "    background-color: var(--hover-bg-color);\n",
              "    box-shadow: 0 1px 2px rgba(60, 64, 67, 0.3), 0 1px 3px 1px rgba(60, 64, 67, 0.15);\n",
              "    fill: var(--button-hover-fill-color);\n",
              "  }\n",
              "\n",
              "  .colab-df-quickchart-complete:disabled,\n",
              "  .colab-df-quickchart-complete:disabled:hover {\n",
              "    background-color: var(--disabled-bg-color);\n",
              "    fill: var(--disabled-fill-color);\n",
              "    box-shadow: none;\n",
              "  }\n",
              "\n",
              "  .colab-df-spinner {\n",
              "    border: 2px solid var(--fill-color);\n",
              "    border-color: transparent;\n",
              "    border-bottom-color: var(--fill-color);\n",
              "    animation:\n",
              "      spin 1s steps(1) infinite;\n",
              "  }\n",
              "\n",
              "  @keyframes spin {\n",
              "    0% {\n",
              "      border-color: transparent;\n",
              "      border-bottom-color: var(--fill-color);\n",
              "      border-left-color: var(--fill-color);\n",
              "    }\n",
              "    20% {\n",
              "      border-color: transparent;\n",
              "      border-left-color: var(--fill-color);\n",
              "      border-top-color: var(--fill-color);\n",
              "    }\n",
              "    30% {\n",
              "      border-color: transparent;\n",
              "      border-left-color: var(--fill-color);\n",
              "      border-top-color: var(--fill-color);\n",
              "      border-right-color: var(--fill-color);\n",
              "    }\n",
              "    40% {\n",
              "      border-color: transparent;\n",
              "      border-right-color: var(--fill-color);\n",
              "      border-top-color: var(--fill-color);\n",
              "    }\n",
              "    60% {\n",
              "      border-color: transparent;\n",
              "      border-right-color: var(--fill-color);\n",
              "    }\n",
              "    80% {\n",
              "      border-color: transparent;\n",
              "      border-right-color: var(--fill-color);\n",
              "      border-bottom-color: var(--fill-color);\n",
              "    }\n",
              "    90% {\n",
              "      border-color: transparent;\n",
              "      border-bottom-color: var(--fill-color);\n",
              "    }\n",
              "  }\n",
              "</style>\n",
              "\n",
              "  <script>\n",
              "    async function quickchart(key) {\n",
              "      const quickchartButtonEl =\n",
              "        document.querySelector('#' + key + ' button');\n",
              "      quickchartButtonEl.disabled = true;  // To prevent multiple clicks.\n",
              "      quickchartButtonEl.classList.add('colab-df-spinner');\n",
              "      try {\n",
              "        const charts = await google.colab.kernel.invokeFunction(\n",
              "            'suggestCharts', [key], {});\n",
              "      } catch (error) {\n",
              "        console.error('Error during call to suggestCharts:', error);\n",
              "      }\n",
              "      quickchartButtonEl.classList.remove('colab-df-spinner');\n",
              "      quickchartButtonEl.classList.add('colab-df-quickchart-complete');\n",
              "    }\n",
              "    (() => {\n",
              "      let quickchartButtonEl =\n",
              "        document.querySelector('#df-0ad0fb1f-d388-4ac9-af86-9c8f2eef14af button');\n",
              "      quickchartButtonEl.style.display =\n",
              "        google.colab.kernel.accessAllowed ? 'block' : 'none';\n",
              "    })();\n",
              "  </script>\n",
              "</div>\n",
              "\n",
              "    </div>\n",
              "  </div>\n"
            ],
            "application/vnd.google.colaboratory.intrinsic+json": {
              "type": "dataframe",
              "repr_error": "0"
            }
          },
          "metadata": {},
          "execution_count": 16
        }
      ]
    },
    {
      "cell_type": "code",
      "source": [
        "texts = congress_df['statement'].tolist()"
      ],
      "metadata": {
        "id": "ejDQa5QCBbD9"
      },
      "execution_count": null,
      "outputs": []
    },
    {
      "cell_type": "code",
      "source": [
        "unique_labels = ['not story', 'story']\n",
        "label2id = {label: id for id, label in enumerate(unique_labels)}\n",
        "id2label = {id: label for label, id in label2id.items()}"
      ],
      "metadata": {
        "id": "LoNviVu4DmHx"
      },
      "execution_count": null,
      "outputs": []
    },
    {
      "cell_type": "code",
      "source": [
        "val_encodings  = tokenizer(texts, truncation=True, padding=True, max_length=max_length)\n",
        "\n",
        "val_labels_encoded  = [0]*len(texts)"
      ],
      "metadata": {
        "id": "bKuT_L4_DmKs"
      },
      "execution_count": null,
      "outputs": []
    },
    {
      "cell_type": "code",
      "source": [
        "class MyDataset(torch.utils.data.Dataset):\n",
        "    def __init__(self, encodings, labels):\n",
        "        self.encodings = encodings\n",
        "        self.labels = labels\n",
        "\n",
        "    def __getitem__(self, idx):\n",
        "        item = {key: torch.tensor(val[idx]) for key, val in self.encodings.items()}\n",
        "        item['labels'] = torch.tensor(self.labels[idx])\n",
        "        return item\n",
        "\n",
        "    def __len__(self):\n",
        "        return len(self.labels)"
      ],
      "metadata": {
        "id": "bKqLe60eDmNw"
      },
      "execution_count": null,
      "outputs": []
    },
    {
      "cell_type": "code",
      "source": [
        "val_dataset = MyDataset(val_encodings, val_labels_encoded)"
      ],
      "metadata": {
        "id": "V1o_p0lVD7wN"
      },
      "execution_count": null,
      "outputs": []
    },
    {
      "cell_type": "code",
      "source": [
        "predicted_results = trainer.predict(val_dataset)"
      ],
      "metadata": {
        "colab": {
          "base_uri": "https://localhost:8080/",
          "height": 180
        },
        "id": "IDhbdzx0DGJZ",
        "outputId": "965a3109-be92-41f1-d3ad-e7473ba947bb"
      },
      "execution_count": null,
      "outputs": [
        {
          "output_type": "display_data",
          "data": {
            "text/plain": [
              "<IPython.core.display.HTML object>"
            ],
            "text/html": []
          },
          "metadata": {}
        },
        {
          "output_type": "stream",
          "name": "stderr",
          "text": [
            "\u001b[34m\u001b[1mwandb\u001b[0m: \u001b[33mWARNING\u001b[0m The `run_name` is currently set to the same value as `TrainingArguments.output_dir`. If this was not intended, please specify a different run name by setting the `TrainingArguments.run_name` parameter.\n",
            "\u001b[34m\u001b[1mwandb\u001b[0m: Using wandb-core as the SDK backend.  Please refer to https://wandb.me/wandb-core for more information.\n",
            "\u001b[34m\u001b[1mwandb\u001b[0m: Currently logged in as: \u001b[33mmaria-antoniak\u001b[0m (\u001b[33mmaria-antoniak-1\u001b[0m) to \u001b[32mhttps://api.wandb.ai\u001b[0m. Use \u001b[1m`wandb login --relogin`\u001b[0m to force relogin\n"
          ]
        },
        {
          "output_type": "display_data",
          "data": {
            "text/plain": [
              "<IPython.core.display.HTML object>"
            ],
            "text/html": [
              "Tracking run with wandb version 0.19.9"
            ]
          },
          "metadata": {}
        },
        {
          "output_type": "display_data",
          "data": {
            "text/plain": [
              "<IPython.core.display.HTML object>"
            ],
            "text/html": [
              "Run data is saved locally in <code>/content/drive/My Drive/Colab Output/2025-04-congress-storyseeker/wandb/run-20250415_110050-awmxwfe7</code>"
            ]
          },
          "metadata": {}
        },
        {
          "output_type": "display_data",
          "data": {
            "text/plain": [
              "<IPython.core.display.HTML object>"
            ],
            "text/html": [
              "Syncing run <strong><a href='https://wandb.ai/maria-antoniak-1/huggingface/runs/awmxwfe7' target=\"_blank\">tmp_trainer</a></strong> to <a href='https://wandb.ai/maria-antoniak-1/huggingface' target=\"_blank\">Weights & Biases</a> (<a href='https://wandb.me/developer-guide' target=\"_blank\">docs</a>)<br>"
            ]
          },
          "metadata": {}
        },
        {
          "output_type": "display_data",
          "data": {
            "text/plain": [
              "<IPython.core.display.HTML object>"
            ],
            "text/html": [
              " View project at <a href='https://wandb.ai/maria-antoniak-1/huggingface' target=\"_blank\">https://wandb.ai/maria-antoniak-1/huggingface</a>"
            ]
          },
          "metadata": {}
        },
        {
          "output_type": "display_data",
          "data": {
            "text/plain": [
              "<IPython.core.display.HTML object>"
            ],
            "text/html": [
              " View run at <a href='https://wandb.ai/maria-antoniak-1/huggingface/runs/awmxwfe7' target=\"_blank\">https://wandb.ai/maria-antoniak-1/huggingface/runs/awmxwfe7</a>"
            ]
          },
          "metadata": {}
        }
      ]
    },
    {
      "cell_type": "markdown",
      "source": [
        "<br><br><br><br>\n",
        "\n",
        "## **Examine the prediction output**\n",
        "\n",
        "I'm pulling out the labels from the model predictions and saving the results."
      ],
      "metadata": {
        "id": "hMrN_yqQGDSb"
      }
    },
    {
      "cell_type": "code",
      "source": [
        "predicted_labels = predicted_results.predictions.argmax(-1)\n",
        "predicted_labels = predicted_labels.flatten().tolist()\n",
        "predicted_labels = [id2label[l] for l in predicted_labels]"
      ],
      "metadata": {
        "id": "PDLqh_4XDGNc"
      },
      "execution_count": null,
      "outputs": []
    },
    {
      "cell_type": "code",
      "source": [
        "len(predicted_labels)"
      ],
      "metadata": {
        "colab": {
          "base_uri": "https://localhost:8080/"
        },
        "id": "ZBvCiJjVFUd8",
        "outputId": "c62876ab-ad9d-474a-88d2-e90a15df392b"
      },
      "execution_count": null,
      "outputs": [
        {
          "output_type": "execute_result",
          "data": {
            "text/plain": [
              "10000"
            ]
          },
          "metadata": {},
          "execution_count": 29
        }
      ]
    },
    {
      "cell_type": "code",
      "source": [
        "congress_df['predicted_label'] = predicted_labels"
      ],
      "metadata": {
        "id": "-tlcBjnRFUi-"
      },
      "execution_count": null,
      "outputs": []
    },
    {
      "cell_type": "code",
      "source": [
        "congress_df.sample(3)"
      ],
      "metadata": {
        "colab": {
          "base_uri": "https://localhost:8080/",
          "height": 372
        },
        "id": "rF9vFh75HSGn",
        "outputId": "5b1842ef-9f14-4b78-8111-f2ec9359cf0a"
      },
      "execution_count": null,
      "outputs": [
        {
          "output_type": "execute_result",
          "data": {
            "text/plain": [
              "      Unnamed: 0   gpo_id        date  congress chamber state    member  \\\n",
              "4449      428533   249860  2000-10-10       106   house    MN  OBERSTAR   \n",
              "1468        5488   639925  1994-02-24       103  senate    LA    BREAUX   \n",
              "6973      869187  1298216  2009-12-14       111  senate    MN   FRANKEN   \n",
              "\n",
              "                       name    icpsr  party_code  nominate_dim1  \\\n",
              "4449  OBERSTAR, James Louis  14265.0       100.0         -0.553   \n",
              "1468                    NaN      NaN         NaN            NaN   \n",
              "6973            FRANKEN, Al  40904.0       100.0         -0.399   \n",
              "\n",
              "      nominate_dim2                                          statement  year  \\\n",
              "4449          0.304  Mr. Speaker, I just want to repeat the words o...  2000   \n",
              "1468            NaN  In 1992, the House added a provision to the Oc...  1994   \n",
              "6973         -0.169  May I remind everyone that when the Republican...  2009   \n",
              "\n",
              "      month year-month  statement_length predicted_label  \n",
              "4449     10    2000-10               401           story  \n",
              "1468      2    1994-02               253       not story  \n",
              "6973     12    2009-12               331       not story  "
            ],
            "text/html": [
              "\n",
              "  <div id=\"df-a2c2c9d9-b8a6-41ea-84fb-27db8d98bd6e\" class=\"colab-df-container\">\n",
              "    <div>\n",
              "<style scoped>\n",
              "    .dataframe tbody tr th:only-of-type {\n",
              "        vertical-align: middle;\n",
              "    }\n",
              "\n",
              "    .dataframe tbody tr th {\n",
              "        vertical-align: top;\n",
              "    }\n",
              "\n",
              "    .dataframe thead th {\n",
              "        text-align: right;\n",
              "    }\n",
              "</style>\n",
              "<table border=\"1\" class=\"dataframe\">\n",
              "  <thead>\n",
              "    <tr style=\"text-align: right;\">\n",
              "      <th></th>\n",
              "      <th>Unnamed: 0</th>\n",
              "      <th>gpo_id</th>\n",
              "      <th>date</th>\n",
              "      <th>congress</th>\n",
              "      <th>chamber</th>\n",
              "      <th>state</th>\n",
              "      <th>member</th>\n",
              "      <th>name</th>\n",
              "      <th>icpsr</th>\n",
              "      <th>party_code</th>\n",
              "      <th>nominate_dim1</th>\n",
              "      <th>nominate_dim2</th>\n",
              "      <th>statement</th>\n",
              "      <th>year</th>\n",
              "      <th>month</th>\n",
              "      <th>year-month</th>\n",
              "      <th>statement_length</th>\n",
              "      <th>predicted_label</th>\n",
              "    </tr>\n",
              "  </thead>\n",
              "  <tbody>\n",
              "    <tr>\n",
              "      <th>4449</th>\n",
              "      <td>428533</td>\n",
              "      <td>249860</td>\n",
              "      <td>2000-10-10</td>\n",
              "      <td>106</td>\n",
              "      <td>house</td>\n",
              "      <td>MN</td>\n",
              "      <td>OBERSTAR</td>\n",
              "      <td>OBERSTAR, James Louis</td>\n",
              "      <td>14265.0</td>\n",
              "      <td>100.0</td>\n",
              "      <td>-0.553</td>\n",
              "      <td>0.304</td>\n",
              "      <td>Mr. Speaker, I just want to repeat the words o...</td>\n",
              "      <td>2000</td>\n",
              "      <td>10</td>\n",
              "      <td>2000-10</td>\n",
              "      <td>401</td>\n",
              "      <td>story</td>\n",
              "    </tr>\n",
              "    <tr>\n",
              "      <th>1468</th>\n",
              "      <td>5488</td>\n",
              "      <td>639925</td>\n",
              "      <td>1994-02-24</td>\n",
              "      <td>103</td>\n",
              "      <td>senate</td>\n",
              "      <td>LA</td>\n",
              "      <td>BREAUX</td>\n",
              "      <td>NaN</td>\n",
              "      <td>NaN</td>\n",
              "      <td>NaN</td>\n",
              "      <td>NaN</td>\n",
              "      <td>NaN</td>\n",
              "      <td>In 1992, the House added a provision to the Oc...</td>\n",
              "      <td>1994</td>\n",
              "      <td>2</td>\n",
              "      <td>1994-02</td>\n",
              "      <td>253</td>\n",
              "      <td>not story</td>\n",
              "    </tr>\n",
              "    <tr>\n",
              "      <th>6973</th>\n",
              "      <td>869187</td>\n",
              "      <td>1298216</td>\n",
              "      <td>2009-12-14</td>\n",
              "      <td>111</td>\n",
              "      <td>senate</td>\n",
              "      <td>MN</td>\n",
              "      <td>FRANKEN</td>\n",
              "      <td>FRANKEN, Al</td>\n",
              "      <td>40904.0</td>\n",
              "      <td>100.0</td>\n",
              "      <td>-0.399</td>\n",
              "      <td>-0.169</td>\n",
              "      <td>May I remind everyone that when the Republican...</td>\n",
              "      <td>2009</td>\n",
              "      <td>12</td>\n",
              "      <td>2009-12</td>\n",
              "      <td>331</td>\n",
              "      <td>not story</td>\n",
              "    </tr>\n",
              "  </tbody>\n",
              "</table>\n",
              "</div>\n",
              "    <div class=\"colab-df-buttons\">\n",
              "\n",
              "  <div class=\"colab-df-container\">\n",
              "    <button class=\"colab-df-convert\" onclick=\"convertToInteractive('df-a2c2c9d9-b8a6-41ea-84fb-27db8d98bd6e')\"\n",
              "            title=\"Convert this dataframe to an interactive table.\"\n",
              "            style=\"display:none;\">\n",
              "\n",
              "  <svg xmlns=\"http://www.w3.org/2000/svg\" height=\"24px\" viewBox=\"0 -960 960 960\">\n",
              "    <path d=\"M120-120v-720h720v720H120Zm60-500h600v-160H180v160Zm220 220h160v-160H400v160Zm0 220h160v-160H400v160ZM180-400h160v-160H180v160Zm440 0h160v-160H620v160ZM180-180h160v-160H180v160Zm440 0h160v-160H620v160Z\"/>\n",
              "  </svg>\n",
              "    </button>\n",
              "\n",
              "  <style>\n",
              "    .colab-df-container {\n",
              "      display:flex;\n",
              "      gap: 12px;\n",
              "    }\n",
              "\n",
              "    .colab-df-convert {\n",
              "      background-color: #E8F0FE;\n",
              "      border: none;\n",
              "      border-radius: 50%;\n",
              "      cursor: pointer;\n",
              "      display: none;\n",
              "      fill: #1967D2;\n",
              "      height: 32px;\n",
              "      padding: 0 0 0 0;\n",
              "      width: 32px;\n",
              "    }\n",
              "\n",
              "    .colab-df-convert:hover {\n",
              "      background-color: #E2EBFA;\n",
              "      box-shadow: 0px 1px 2px rgba(60, 64, 67, 0.3), 0px 1px 3px 1px rgba(60, 64, 67, 0.15);\n",
              "      fill: #174EA6;\n",
              "    }\n",
              "\n",
              "    .colab-df-buttons div {\n",
              "      margin-bottom: 4px;\n",
              "    }\n",
              "\n",
              "    [theme=dark] .colab-df-convert {\n",
              "      background-color: #3B4455;\n",
              "      fill: #D2E3FC;\n",
              "    }\n",
              "\n",
              "    [theme=dark] .colab-df-convert:hover {\n",
              "      background-color: #434B5C;\n",
              "      box-shadow: 0px 1px 3px 1px rgba(0, 0, 0, 0.15);\n",
              "      filter: drop-shadow(0px 1px 2px rgba(0, 0, 0, 0.3));\n",
              "      fill: #FFFFFF;\n",
              "    }\n",
              "  </style>\n",
              "\n",
              "    <script>\n",
              "      const buttonEl =\n",
              "        document.querySelector('#df-a2c2c9d9-b8a6-41ea-84fb-27db8d98bd6e button.colab-df-convert');\n",
              "      buttonEl.style.display =\n",
              "        google.colab.kernel.accessAllowed ? 'block' : 'none';\n",
              "\n",
              "      async function convertToInteractive(key) {\n",
              "        const element = document.querySelector('#df-a2c2c9d9-b8a6-41ea-84fb-27db8d98bd6e');\n",
              "        const dataTable =\n",
              "          await google.colab.kernel.invokeFunction('convertToInteractive',\n",
              "                                                    [key], {});\n",
              "        if (!dataTable) return;\n",
              "\n",
              "        const docLinkHtml = 'Like what you see? Visit the ' +\n",
              "          '<a target=\"_blank\" href=https://colab.research.google.com/notebooks/data_table.ipynb>data table notebook</a>'\n",
              "          + ' to learn more about interactive tables.';\n",
              "        element.innerHTML = '';\n",
              "        dataTable['output_type'] = 'display_data';\n",
              "        await google.colab.output.renderOutput(dataTable, element);\n",
              "        const docLink = document.createElement('div');\n",
              "        docLink.innerHTML = docLinkHtml;\n",
              "        element.appendChild(docLink);\n",
              "      }\n",
              "    </script>\n",
              "  </div>\n",
              "\n",
              "\n",
              "<div id=\"df-8e8af582-d508-4ad7-9be3-85c638a06149\">\n",
              "  <button class=\"colab-df-quickchart\" onclick=\"quickchart('df-8e8af582-d508-4ad7-9be3-85c638a06149')\"\n",
              "            title=\"Suggest charts\"\n",
              "            style=\"display:none;\">\n",
              "\n",
              "<svg xmlns=\"http://www.w3.org/2000/svg\" height=\"24px\"viewBox=\"0 0 24 24\"\n",
              "     width=\"24px\">\n",
              "    <g>\n",
              "        <path d=\"M19 3H5c-1.1 0-2 .9-2 2v14c0 1.1.9 2 2 2h14c1.1 0 2-.9 2-2V5c0-1.1-.9-2-2-2zM9 17H7v-7h2v7zm4 0h-2V7h2v10zm4 0h-2v-4h2v4z\"/>\n",
              "    </g>\n",
              "</svg>\n",
              "  </button>\n",
              "\n",
              "<style>\n",
              "  .colab-df-quickchart {\n",
              "      --bg-color: #E8F0FE;\n",
              "      --fill-color: #1967D2;\n",
              "      --hover-bg-color: #E2EBFA;\n",
              "      --hover-fill-color: #174EA6;\n",
              "      --disabled-fill-color: #AAA;\n",
              "      --disabled-bg-color: #DDD;\n",
              "  }\n",
              "\n",
              "  [theme=dark] .colab-df-quickchart {\n",
              "      --bg-color: #3B4455;\n",
              "      --fill-color: #D2E3FC;\n",
              "      --hover-bg-color: #434B5C;\n",
              "      --hover-fill-color: #FFFFFF;\n",
              "      --disabled-bg-color: #3B4455;\n",
              "      --disabled-fill-color: #666;\n",
              "  }\n",
              "\n",
              "  .colab-df-quickchart {\n",
              "    background-color: var(--bg-color);\n",
              "    border: none;\n",
              "    border-radius: 50%;\n",
              "    cursor: pointer;\n",
              "    display: none;\n",
              "    fill: var(--fill-color);\n",
              "    height: 32px;\n",
              "    padding: 0;\n",
              "    width: 32px;\n",
              "  }\n",
              "\n",
              "  .colab-df-quickchart:hover {\n",
              "    background-color: var(--hover-bg-color);\n",
              "    box-shadow: 0 1px 2px rgba(60, 64, 67, 0.3), 0 1px 3px 1px rgba(60, 64, 67, 0.15);\n",
              "    fill: var(--button-hover-fill-color);\n",
              "  }\n",
              "\n",
              "  .colab-df-quickchart-complete:disabled,\n",
              "  .colab-df-quickchart-complete:disabled:hover {\n",
              "    background-color: var(--disabled-bg-color);\n",
              "    fill: var(--disabled-fill-color);\n",
              "    box-shadow: none;\n",
              "  }\n",
              "\n",
              "  .colab-df-spinner {\n",
              "    border: 2px solid var(--fill-color);\n",
              "    border-color: transparent;\n",
              "    border-bottom-color: var(--fill-color);\n",
              "    animation:\n",
              "      spin 1s steps(1) infinite;\n",
              "  }\n",
              "\n",
              "  @keyframes spin {\n",
              "    0% {\n",
              "      border-color: transparent;\n",
              "      border-bottom-color: var(--fill-color);\n",
              "      border-left-color: var(--fill-color);\n",
              "    }\n",
              "    20% {\n",
              "      border-color: transparent;\n",
              "      border-left-color: var(--fill-color);\n",
              "      border-top-color: var(--fill-color);\n",
              "    }\n",
              "    30% {\n",
              "      border-color: transparent;\n",
              "      border-left-color: var(--fill-color);\n",
              "      border-top-color: var(--fill-color);\n",
              "      border-right-color: var(--fill-color);\n",
              "    }\n",
              "    40% {\n",
              "      border-color: transparent;\n",
              "      border-right-color: var(--fill-color);\n",
              "      border-top-color: var(--fill-color);\n",
              "    }\n",
              "    60% {\n",
              "      border-color: transparent;\n",
              "      border-right-color: var(--fill-color);\n",
              "    }\n",
              "    80% {\n",
              "      border-color: transparent;\n",
              "      border-right-color: var(--fill-color);\n",
              "      border-bottom-color: var(--fill-color);\n",
              "    }\n",
              "    90% {\n",
              "      border-color: transparent;\n",
              "      border-bottom-color: var(--fill-color);\n",
              "    }\n",
              "  }\n",
              "</style>\n",
              "\n",
              "  <script>\n",
              "    async function quickchart(key) {\n",
              "      const quickchartButtonEl =\n",
              "        document.querySelector('#' + key + ' button');\n",
              "      quickchartButtonEl.disabled = true;  // To prevent multiple clicks.\n",
              "      quickchartButtonEl.classList.add('colab-df-spinner');\n",
              "      try {\n",
              "        const charts = await google.colab.kernel.invokeFunction(\n",
              "            'suggestCharts', [key], {});\n",
              "      } catch (error) {\n",
              "        console.error('Error during call to suggestCharts:', error);\n",
              "      }\n",
              "      quickchartButtonEl.classList.remove('colab-df-spinner');\n",
              "      quickchartButtonEl.classList.add('colab-df-quickchart-complete');\n",
              "    }\n",
              "    (() => {\n",
              "      let quickchartButtonEl =\n",
              "        document.querySelector('#df-8e8af582-d508-4ad7-9be3-85c638a06149 button');\n",
              "      quickchartButtonEl.style.display =\n",
              "        google.colab.kernel.accessAllowed ? 'block' : 'none';\n",
              "    })();\n",
              "  </script>\n",
              "</div>\n",
              "\n",
              "    </div>\n",
              "  </div>\n"
            ],
            "application/vnd.google.colaboratory.intrinsic+json": {
              "type": "dataframe",
              "repr_error": "0"
            }
          },
          "metadata": {},
          "execution_count": 34
        }
      ]
    },
    {
      "cell_type": "code",
      "source": [
        "congress_df.to_csv('congress_sample_for_storyseeker.10k.PREDICTED.csv')"
      ],
      "metadata": {
        "id": "dTtsKbEwFZG-"
      },
      "execution_count": null,
      "outputs": []
    },
    {
      "cell_type": "markdown",
      "source": [
        "### Examine results"
      ],
      "metadata": {
        "id": "BcHErBxWE5G-"
      }
    },
    {
      "cell_type": "code",
      "source": [
        "stories = [_text for _predicted_label, _text in zip(predicted_labels, texts) if _predicted_label == 'story']\n",
        "non_stories = [_text for _predicted_label, _text in zip(predicted_labels, texts) if _predicted_label == 'not story']"
      ],
      "metadata": {
        "id": "ZoC4osccCzu9"
      },
      "execution_count": null,
      "outputs": []
    },
    {
      "cell_type": "code",
      "source": [
        "len(stories), len(non_stories)"
      ],
      "metadata": {
        "colab": {
          "base_uri": "https://localhost:8080/"
        },
        "id": "a6WUG3T8D0SE",
        "outputId": "62aecaed-9f68-485a-c92f-60c461393b5a"
      },
      "execution_count": null,
      "outputs": [
        {
          "output_type": "execute_result",
          "data": {
            "text/plain": [
              "(900, 9100)"
            ]
          },
          "metadata": {},
          "execution_count": 36
        }
      ]
    },
    {
      "cell_type": "code",
      "source": [
        "for _text in random.sample(stories, 50):\n",
        "    print(' '.join(_text.split()))\n",
        "    print()"
      ],
      "metadata": {
        "colab": {
          "base_uri": "https://localhost:8080/"
        },
        "id": "lzqrXKuVEcej",
        "outputId": "1eea2451-60d2-44b7-a499-fb75b48b691f"
      },
      "execution_count": null,
      "outputs": [
        {
          "output_type": "stream",
          "name": "stdout",
          "text": [
            "Speaker, I have very fond memories of Floyd Spence. As a freshman on the Committee on Armed Services looking for direction, he was always there as a friend, and he was willing to give counsel. I particularly remember when I asked him to come to Fort Riley in my district to visit the soldiers and see the installation and meet the people. As I visit with people back in the district, they still remember him as being very warm, very committed, very sincere, and a great leader. Mr. Speaker, most people have a birthday every year in their life just to celebrate life, but the one thing that always interested me with Mr. Spence was, the Committee on Armed Services had a birthday to celebrate his lungs because he had been given a special gift as a result of complications he had in his life. My family and I loved him very much. He was always very kind to them. He was willing to give time whenever he could provide it. He was a man who had knew he had been given a great gift from God. He fought for what was right for this country, even if it meant going against Members of his own party because he had that kind of commitment. Debbie was a great contribution to his life. Mr. Speaker, I want to finish by saying, Mr. Spence, will be missed, and we thank him very much for his great contributions to this great Nation.\n",
            "\n",
            "Speaker, I would like to follow up on the gentleman from Ohio [Mr. Hoke] with respect to the motion to recommit last night. This was presented, it is a 10-minute debate, then we vote on it, and that could become part of the legislation. It was presented in such a way that it was very appealing to some of us who had some concerns about certain aspects of the tax bill. We found out in the middle of all this that it was 16 pages. We went over, and we researched it, and in a short period of time we learned exactly what the gentleman from Ohio has represented here today, and that is that it basically gutted all aspects of the tax bill. It did much more than the four things which were on the placard here. I do not know why this happened in this particular way; that is to be answered some other day in some other way. But the bottom line was it was a deceptive approach to how that motion to recommit was handled. Maybe we have problems with motions to recommit, maybe they need to be filed sooner, maybe we need to have a longer time in order to digest them, but certainly we should not be in a situation in which deception is being practiced in this building. I put into the Record last night in a 5-minute appearance all the mistakes that were presented on the floor and the correct version of what was actually in that 16-page motion to recommit. From now on I hope we can pay more attention to this particular problem.\n",
            "\n",
            "Speaker, over the recent recess, I attended the funeral of Sgt. Thomas Robbins, a young man who grew up in my congressional district, who was recently killed as a result of injuries sustained in Iraq. When I attended that funeral, it brought back many painful memories. Chief among them was the time in August of 1970 when I was called home to learn that my brother Bill had been killed in Vietnam. It made me think about my priorities and the need to remember that had it not been for all of the men and women who have served in the United States military through the years, the rest of us would not have the privilege of bragging about how we live in the freest and most open democracy on Earth. Freedom is not free. We have paid a tremendous price for it. We continue to pay that price today, and we need to be grateful to all those who have served and especially those who have made the supreme sacrifice. Mr. Speaker, I extend my sympathies to all of the members of Thomas' loving family, and all of his many friends, on this tragic loss. He now becomes one of the reasons why, when I get up in the morning, the first two things I do are to thank God for my life, and veterans for my way of life.\n",
            "\n",
            "Madam President, I thank the distinguished Senator from North Dakota for his very kind words. There are a number of people who deserve great credit, beginning, of course, with our distinguished ranking member on the Senate Agriculture Committee. He has been the most forceful, the most passionate, the most articulate voice for agriculture and I am proud to call him my leader. He and I were in the room when we wrote this a couple of years ago. I remember so vividly. It was in the room across the hall. This legislation wouldn't even exist were it not for what Senator Harkin did in the room across the hall as we negotiated these issues and got the commitment from this administration and from our Republican friends that this conservation program would be fully funded. We got a commitment. Almost before the ink was dry, that commitment withered away. It disappeared. I can understand the frustration of the distinguished Senator, the anger and the disappointment that after being given the commitment over and over again it was virtually the last thing we decided. Only because he held out as aggressively as he did, we finally said yes. OK. If this means getting the farm bill, we will agree to this and we will commit to funding. I was there in the room. I heard it myself, and here we are. This isn't the first time. This is now the second time he has had to come to the floor. I know a lot of Senators are inconvenienced, but I must say nobody is more inconvenienced by the doubletalk and the lack of commitment and the willingness to keep their word than our ranchers and farmers who are so desperate for the help Senator Conrad and Senator Harkin have so eloquently described. Senator Johnson and I have the same situation in South Dakota. I talked to a rancher in the southwest near Edgemont. He broke down in tears, telling me that he is now going to be forced to sell his herd--a herd he has had all of his life. He said, I have never seen anything like this. His lips curled and he choked up. I felt so sorry for him. He said, But I am not alone. I am at the end of my career. I worry about those young farmers and ranchers who are just getting started. What are they going to do? This assistance is critical. But the double standard is so outrageous that I can understand why Member after Member representing farmer and rancher after farmer and rancher is coming to the floor to express their outrage and indignation. You talk about heroes. I thank my colleague from South Dakota for making the effort he did so gallantly. Senator Johnson offered an amendment to say let's treat this disaster assistance the way we are treating all other disaster assistance. I understand it is about $11 billion. Let us treat it exactly the same. He made a passionate defense of that argument and lost on a 6-to-5 vote, as I understand it. It was a party-line vote.\n",
            "\n",
            "Madam Speaker, I rise in strong support of this legislation, and want to commend all those that were instrumental in getting its passage to the floor, particularly my good friend, Judy Biggert from Illinois. We have made some wonderful advances in health care research over the number of years. I can remember helping to lead the charge with my colleague, Mr. Waxman, on a bipartisan bill to double the money for the National Institutes of Health back in the nineties, and we had a similar effort in the Senate between John MCCain, the Republican leader there of that same issue, and Paul Wellstone, a dear colleague who is no longer with us. But, together we passed that bipartisan legislation. And with those advances, of course we have to look at other things that are pertinent, too, and that is why this Genetic Information Nondiscrimination Act is so important. I remember traveling to the University of Michigan and meeting with one of the researchers there that in fact had received an NIH grant; and he just weeks before, because of that grant, had identified the breast cancer gene that strikes one in eight women across America. He was excited. And it wouldn't have happened without that NIH money; but with that discovery, it is clear that we have to in fact protect that genetic information from being discriminated against by who knows who. And I would say that, thanks to my colleagues, Mr. Deal, the ranking member on the Health Subcommittee who is in a hearing right now, and Joe Barton, the ranking member, that we have all made advances and worked closely with Chairman Dingell to mitigate what we believed were some significant problems with the legislation as it was introduced. Among other items, we wanted to make sure that any use of information by certain entities regulated under the Health Insurance Portability and Accountability Act not also be regulated by the Equal Employment Opportunity Commission under title II of the bill. Such dual regulation of the use of information would have been highly disruptive and certainly inappropriate. We also made numerous clarifications to make sure that the new regulatory scheme did not disrupt reasonable and needed activities by health plans to improve health care, coordinate benefits, process benefits, or educate beneficiaries. It is important for the Congress to be mindful that we are not writing on a blank slate each and every time that we launch one of these new regulatory and liability schemes. And I certainly join many here that are satisfied that these important improvements made by the Committee on Energy and Commerce are preserved in the bill. I want to commend the bipartisan and bicameral discussions that led to this compromise, and I would urge that we all support it when a roll call vote comes. At this point, I would yield the balance of our time that our committee controls to my friend from Illinois (Mrs. Biggert).\n",
            "\n",
            "President, yesterday the chairman of the Energy and Water Subcommittee and I came to the floor with this bill, the fiscal year 1999 appropriations bill, for the programs, projects, and activities of the Department of Energy, Corps of Engineers, the Bureau of Reclamation, and other independent agencies. I support this $21 billion bill. It is not a perfect bill, but it is a very good bill. We worked under very extreme conditions in order to get the bill to the point that we have. This is a balanced bill. We did our best to accommodate everyone's priorities and projects. Mr. President, on the way back to my office yesterday evening I was with some of the staff, and I asked one of the staff, ``What is that you're carrying?'' And I am not exaggerating, it was a folder, a big looseleaf notebook. And he said they were the requests from Members for projects in this bill. We did our best. We did not make everyone happy. We tried to make sure that we had a balanced approach so that States could meet their needs. We did not get all the cooperation that I would like to have had from the administration. They cut $1.5 billion from water projects. This left us with projects unfinished, left us with projects that simply needed to go forward. So we had to rearrange this pot to the point we are now here. So I recommend this bill to my colleagues. This is a bill that includes about $21 billion for essential services in the Department of Energy and the construction and maintenance of water projects around the Nation. I hope that, as my friend from Washington has said, Members will come forward and offer amendments. We have a limited amount of time. And I would suggest that if we do not get some amendments coming soon--this a very important appropriations bill--that we should move to third reading and move on to something else. Mr. GORTON addressed the Chair.\n",
            "\n",
            "Speaker, usually I am sort of a calm, old farmer from Michigan, and I take the ups and downs and the comments of what people say pretty casually. This afternoon, though, I was quite upset when I heard Secretary Rubin and Secretary Shalala and the commissioner of the Social Security Administration, Shirley Chater, in effect say that there was not very much trouble with today's report of the trustees on Medicare and Social Security. The report on Social Security said the fund would technically be broke by the year 2029, and the reaction from that group was that, look, that gives us a lot of time in the future to make the changes we need. Social Security has never been broke. I guess, Mr. Speaker, my problem is why are our heads in the sand? Why are they putting their heads in the sand? Why are Republicans, why are Democrats, not facing up to the issue of saving Social Security? Look. Let me tell you what happened back in 1983 before the Greenspan Commission started. At that time they said the unfunded liability of Social Security would take 1.82 percent of existing payroll to make Social Security solvent. Guess what it is today? Today it is up to 2.17 percent of existing payroll to keep Social Security solvent, and yet Secretary Rubin said, well, you know, we have approximately $500 billion in the trust fund. But there is no money in the trust fund. Every dollar of surplus money that comes into that Social Security trust fund automatically goes into the general fund and is spent for whatever we spend money for in the United States Congress. There is no trust fund. The money comes in one month from the FICA taxes from current workers, and it goes out immediately that month to existing retirees. Just think of this. Back in 1945, right after World War II, there were 42 people working for every one Social Security retiree. Guess what it is today? Today it is three. When the baby-boomers retire, around 2013, there is going to be about 2\\1/2\\ workers. And yet the reaction was from one of the questions of the press, ``What do you do you when the baby boomers start retiring around 2012 and there is no money in the fund? Where are you going to come up with the money,'' Secretary Rubin said, ``Look, that interest alone in a separate fund will last until 2019.'' My colleagues, Mr. Speaker, there is no separate fund. We have used up all of the money. If we were to start today to make Social Security solvent for the next 75 years, we would have to, if we just looked at reducing benefits or increasing taxes, we would have to increase the FICA taxes by 16 percent starting today, or we would have to start reducing benefits by 14 percent, starting today. Now, that is why some of us have decided to introduce a Social Security reform bill to gradually increase the retirement age, to allow individuals to invest some of that money in their own account. I know why they are saying there is no big deal. They do not want to disrupt the senior vote for this coming November election. But it is not fair to the future. I think the mistake they are making, Mr. Speaker, is thinking that senior citizens only care about their own economic welfare. Here is what I think American senior citizens care about, and that is leaving a good world, a good United States, to their kids and their grandkids.\n",
            "\n",
            "Speaker, born in South Carolina in 1810, Sam MCCulloch, Jr. arrived in Texas with his father and three sisters just prior to the Texas War for Independence from Mexico. MCCulloch was a free black, and with his freedom he volunteered as a private in the Texas Army to fight for independence. On October 9, 1835, MCCulloch took part in the Battle of Goliad. While storming the Mexican line, MCCulloch was severely wounded when a musket ball shattered his right shoulder. Thus, Samuel MCCulloch, Jr. became the first Texas casualty of the war. After Texas won its independence and became a free Republic, Samuel MCCulloch, Jr. went on to fight against the Comanches along with the Texas Rangers at the famous Battle of Plum Creek, and he served as a spy for the Texas Army when Mexico reinvaded Texas in 1842. Later, MCCulloch lived as a farmer and a rancher with his family on the land that the Texas government gave him for his service to the Republic. He died in November of 1893. He triumphed over all obstacles and voluntarily risked life and limb to establish freedom for Texas, the land he loved. During Black History Month, we honor this freedom fighter and this first to shed blood for Texas independence. And that's just the way it is.\n",
            "\n",
            "I appreciate the hard effort that so many people have put into this particular piece of legislation, but I really rise not as a member of the subcommittee but as a father because there are so many things in this piece of legislation that affect so many aspects of our lives, our kids and their education, our health, our nutrition, the Labor Department, and all of the impact upon where we work, and, indeed, it also affects very, very directly the relationship between us and our children. I have five children, two boys and three girls, and all three of my girls are teenagers, and I pay attention when a situation happens such as happened in Illinois recently, when it is disclosed that a 37-yearold teacher begins an affair with a 13-year-old girl, carries it on for a year and a half, and, to continue the affair, takes her to a title X clinic funded by our taxpayers' money to obtain contraception. Now, if this were to any other type of clinic, they would be required to report a situation that involves something such as statutory rape or child abuse or sexual abuse of a minor. Well, see, title X has a Federal requirement that whatever happens with anyone who comes into a title X clinic, whether they be 30 or 40 or 20 or 15 or 12 or 11, nothing will be told to anyone. A total confidentiality requirement is written into the Federal regulations which supersede State law, and anyone else that would be required to report this incident to the parents or the authorities has to stay quiet under title X. That is why we have an amendment in this particular bill that is being offered for this particular bill that says providers that are given Federal funding in these are not exempt and must comply with any laws regarding the reporting of child abuse, child molestation, sexual abuse, rape, or incest. This is a key provision that will be debated, but I think it is one of the most important things because this bill hits us where we live and our families, and the Federal Government should not be inducing people to be able to conduct such activity without even parents being told.\n",
            "\n",
            "Chairman, I thank the gentleman for yielding me this time. I rise in support of this legislation, and I rise in support of it because I think it is long overdue that we address this problem. Approximately 8 years ago, a young man came to my office in Jonesboro, Georgia, to tell me about a situation that his small business was in. He was being denied a contract with the Air Force for building missile containers which he had been doing for several years. He fought it in court and won. He spent all of his cash doing so, only to see FPI come back again, this time successfully, leading to the demise of his business and the loss of about 150 jobs, people working to provide for their families, to pay their taxes, and they are playing by the rules. They had an unfair competition, a position of having a mandatory source that this small business did not have and could not overcome. It has been said that China is the enemy, not these inmates. I do not consider either an enemy. I consider the inmates having an unfair position toward competition with the mandatory source which has been long overdue to be changed. I do not see China as an enemy, I see them as competition and meeting competition with us with some advantages. There are a couple of things where they do not play by the rules as far as trade. They do not value their currency as they should, and they have tax provisions of tax laws which are much different from ours which make our workforce noncompetitive with their workforce. Here we are talking about law-abiding citizens competing with inmates. It is time to pass this legislation, do a 5-year phaseout of the program and get away from the mandatory source and the competition of contracting and bidding.\n",
            "\n",
            "Speaker, I thank the gentleman from Texas for organizing this Special Order this evening and pulling together a lot of the thought process regarding the Republican vision versus the Democrat agenda. Looking at the 40 consecutive months of job growth, I would take us back to why we didn't have job growth before this began in August 2003. I would like to frame this for when the Bush Presidency came in in January 2001. That was in the middle of the bursting of the dot-com bubble. We had an economy that was really a false economy. It was a speculation on the ability to store and transfer information more efficiently than ever before, but it had not been corrected for. Well, the dot-com bubble was in the middle of bursting in January 2001. By September 11, 2001, the financial center was attacked, America was attacked and the Pentagon was attacked and they had the plane that crashed in Pennsylvania. This was another attack on our finances. This was a double-whammy cloud that came over the very new Bush administration. So we came forward with two rounds of tax cuts. We asked for $545 billion worth of tax cuts over that span of time. We got a pretty good chunk of that. In two rounds, those tax cuts have been what produced this thriving economy that shows a stock market that sets new highs, and also this job growth of 49 consecutive months of job growth.\n",
            "\n",
            "If you remember, it was our freshman class when I went aboard 5 years ago that had the gang of 7 that closed down the House bank, that found out they were selling cocaine downstairs here, and brought the check scandal to fruition. I think it was the first radical group to come in to make change, and the sophomore class followed, and the 75 young Turks that came in after that have done a bang-up job. I thank you for yielding, and one of the things I would like to talk to is that, you know, some of the more radical Members on the other side of the aisle say that, well, we are cutting education, we are cutting the environment, we are cutting, hurting senior citizens. Unfortunately, this place is about power. It is about the power to be reelected. The power to be reelected over the last 40 years means the power to disburse money from the Federal Government down to the lower ranks so they are going to vote for you so you can get reelected so that you have got the power, and to support that you need the big bureaucracy to support the flow of the money so you can get reelected so you have got the power. What we are doing, and I think the American people would have a legitimate complaint if this Congress and the Republicans were trying to shift that power to the Republican Party, but the whole agenda and a balanced budget amendment and the agenda that we are trying to do is take that power not to Republicans but to the American people, to the States, where it can be more effectively used. We believe that government works closest to the people and it works best there. You will hear over and over and over again by more liberal Members from Congress here that this is the only place that those decisions can be made. The States cannot make those decisions because in the past they have failed and that they are the only ones that can tell the American people how to do their business. That is a good issue.\n",
            "\n",
            "Speaker, I am going to speak from this side of the aisle. It seems to me sometimes we spend more time talking to those that agree with us than those that disagree with us. Let me just make two points in my 1 minute as a new Member here. First of all, last night when the privileged resolution came up and the gentleman from California [Mr. Thomas] said it is an opportunity to present proof, I came down here in the front row to see the proof. I did not see proof. What I saw was accusations, heartfelt accusations, but there were numbers on a chart. I thought we were going to see blowups of voter registration cards; that is why I came down close. Seeing a number, 1,000 or 4,000 or 305, is not proof, and we need to be laying out in these resolutions proof that we can look at, the L.A. Times can look at, the people of the 46th District can look at and not just have a card with Magic Marker ink on it and say, this is proof; that was an accusation. Now, last point I would like to make, the reason we are so intent on bringing this to an end, it is Campaign 1998 is well underway. Mr. Dornan has announced for reelection, he is raising money for reelection, and the fear of us on this side of the aisle, on that side of the aisle, is that this whole process becomes part of the campaign, and that is wrong.\n",
            "\n",
            "Chair, we are finished with our speakers and reserve the balance and right to close. The CHAIR. The gentleman from Maryland has the right to close. Mr. Chair, my friend from Maryland made a couple of different points. He said that he wishes he could vote for the things in the President's budget. I will say to him again here, I'll say it to you, I will say to anyone listening the same thing I said to the Rules Committee, the same thing I have said the last 3 years: I keep waiting for one of my colleagues across the aisle to do exactly that. You think I want to be here offering the President's budget? If my colleagues across the aisle would like the opportunity to vote on the President's budget and the items that are contained in it, they have the ability to do so by simply offering this particular amendment. Failing that, they will have an opportunity to hear today because, if you look at our amendment, it specifically says that the budgetary assumptions underlying this current resolution are based on the data and the policies in the President's budget. It goes on to say that the concurrent resolution adopts and incorporates by references all data, policy provisions, and information contained therein. Everything that is in the President's budget is in this amendment. They have plenty of opportunity to vote on this. They can do it themselves. They can vote for what I have offered here today. Lastly, I will address the point, and my good friend makes a point every single year that this is a political stunt. I want to tell a story as to why it is not this year. It is a real story. It happened to me. It happened to you. It happened to everybody here who represents folks back home. I get a letter, Mr. Chairman, from the Social Security Administration, telling me that they were closing the field offices in my district. By the way, they closed field offices in everybody's district. In the letter, they said they did that because we had cut their budget by $1 billion for 3 years in a row. I am no longer on the Budget Committee, but as Mr. Van Hollen knows, I used to serve on that committee, and I don't remember us cutting the Social Security Administration by $1 billion each of the last 3 years. So I wrote them a letter and said: you said you are closing the field offices in my district because we cut your budget. Would you please provide me with evidence of that? What they wrote back is a letter that said: we got $1 billion less from Congress than the President asked for in his budget. They got more than they did the year the year before and more than they did the year before that. The actual money they had to spend went up, but because they didn't get what the President asked for in his budget, they closed the offices in our districts that serve our constituents. This is a very important document. Clearly, the Social Security Administration thinks it is an important document. It is at least important enough for us to vote on in the House of Representatives. With that, I yield back the balance of my time.\n",
            "\n",
            "One of the things I did today, because I was in the same conversation that you were having, somebody asked me about it who was my age and wanted to know whether he could go in the Peace Corps. And I said, go look up the Peace Corps on the Internet. Not only that. It shows every one of those countries, 77 countries, and what jobs are in that country. You can go out and look around the world and see the country you want to go to and find a job that you think you're qualified to do, and that gives you a motivation to do that. Also, not all Peace Corps volunteers live in mud huts. If you're teaching in a university or in a school in an urban area, you could be in a much more comfortable, middle class setting than people out--the image of sleeping in a hammock in a mud hut. So it's all kinds of opportunities, just depending on the skill sets of you, the individual, and the needs of the host country. We are always there as a guest being asked by the country to be there, and we do the jobs they ask us to do. And, frankly, I think we have enough innovation, as you and I found out, that sometimes if the job isn't working exactly as they described, you just look around and see what else is needed and adapt yourself. That's a lot of fun. That's a lot of creativity and I think a lot of satisfaction for the volunteer.\n",
            "\n",
            "The SPEAKER pro tempore (Ms. Markey of Colorado). The question is on the motion offered by the gentleman from Michigan (Mr. Conyers) that the House suspend the rules and concur in the Senate amendment to the bill, H.R. 5283. The question was taken; and (two-thirds being in the affirmative) the rules were suspended and the Senate amendment was concurred in. A motion to reconsider was laid on the table. Madam Speaker, I move to suspend the rules and pass the bill (S. 1421) to amend section 42 of title 18, United States Code, to prohibit the importation and shipment of certain species of carp. The Clerk read the title of the bill. The text of the bill is as follows: S. 1421 Be it enacted by the Senate and House of Representatives of the United States of America in Congress assembled, SECTION 1. SHORT TITLE. This Act may be cited as the ``Asian Carp Prevention and Control Act''. SEC. 2. ADDITION OF SPECIES OF CARP TO THE LIST OF INJURIOUS SPECIES THAT ARE PROHIBITED FROM BEING IMPORTED OR SHIPPED. Section 42(a)(1) of title 18, United States Code, is amended by inserting ``of the bighead carp of the species Hypophthalmichthys nobilis;'' after ``Dreissena polymorpha;''.\n",
            "\n",
            "President, I rise today with a heavy heart and deep sense of gratitude to honor the life of a brave young man from Portage. Steven Sirko, 20 years old, died on April 17 while stationed in Maqdadiyah, Iraq. With his entire life before him, Steven risked everything to fight for the values Americans hold close to our hearts, in a land halfway around the world. Recently married to another army medic, Steven turned down a chance to stay stateside with the Army's Special Forces in order to be in Iraq near his wife. A football player in high school, Steven was remembered by friends and family as a tough, outgoing student. His father told a local newspaper, that his son was ``very strong, very outgoing, very respectful. After 9/11, like so many young men, he wanted to fight terrorism.'' His stepbrother, who also served in the Army, called Steven, ``the light of any crowd.'' Steven was killed while serving his country in Operation Iraqi Freedom. He served in the first battalion, 30th infantry regiment, third brigade, and third infantry division. This brave young soldier leaves behind his wife, Virginia; his father, Rick Sirko; his mother, Linda Lipford; his stepmother, Rose Sirko; three sisters; one brother; and two stepbrothers;. Today, I join Steven's family and friends in mourning his death. While we struggle to bear our sorrow over this loss, we can also take pride in the example he set, bravely fighting to make the world a safer place. It is his courage and strength of character that people will remember when they think of Steven, a memory that will burn brightly during these continuing days of conflict and grief. Steven was known for his dedication to his family and his love of country. Today and always, Steven will be remembered by family members, friends, and fellow Hoosiers as a true American hero and we honor the sacrifice he made while dutifully serving his country. As I search for words to do justice in honoring Steven's sacrifice, I am reminded of President Lincoln's remarks as he addressed the families of the fallen soldiers in Gettysburg: ``We cannot dedicate, we cannot consecrate, we cannot hallow this ground. The brave men, living and dead, who struggled here, have consecrated it, far above our poor power to add or detract. The world will little note nor long remember what we say here, but it can never forget what they did here.'' This statement is just as true today as it was nearly 150 years ago, as I am certain that the impact of Steven's actions will live on far longer than any record of these words. It is my sad duty to enter the name of Steven Sirko in the Congressional Record of the Senate for his service to this country and for his profound commitment to freedom, democracy and peace. When I think about this just cause in which we are engaged, and the unfortunate pain that comes with the loss of our heroes, I hope that families like Steven's can find comfort in the words of the prophet Isaiah who said, ``He will swallow up death in victory; and the Lord God will wipe away tears from off all faces.'' May God grant strength and peace to those who mourn, and may God be with all of you, as I know He is with Steven. Specialist Grant Croft\n",
            "\n",
            "I do want to say that this was an incredible experience for me to be able to work with such a fine gentleman as Mr. Davis. We began this process with the chairman giving us an opportunity to take a look at this very complicated group of tax provisions in our code. What we found, with the Joint Committee on Taxation helping us, as I referenced in my opening remarks, there are 90 different pages, no less the fact that there are provisions that step on top of one another, and we actually asked the Joint Committee on Taxation, to help simplify this, to do a diagram for us, just a flowchart. What we found was, they came back and said this is so complicated that we can't even do a flowchart that would make sense. So we set out asking various groups to come and talk to us. These went all of the way from the very conservative, the very progressive side, think tanks, universities, colleges, those who represented the 529 provision, and to just come and let us know about what they thought about what was currently in the code. We heard consistently over and over again, it didn't matter where they were on the spectrum, we heard this is so complicated that people are not even using it because they can't figure out. As a matter of fact, there is a GAO study that indicated that 1.5 million tax filers who qualify for either the tuition and fee deduction of the lifetime learning credit in 2009 did not even claim the credit or the deduction because of its complication. So it was my honor to work with my esteemed colleague in going to work to say: What can we do to simplify this so that we can make sure that people who really need this assistance are going to get that assistance that is there in the code but they can't even figure it out? So after about 7 months, hammering back and forth about what we felt would best fit the needs of the students of this country and help to get them a start in college, to get them going, to be sure that they would have that opportunity to use those tax credits, we came up with this product. We then rolled it out with a press conference, and I am very proud to say that this was an effort of bipartisanship, one that I think if we could do more of that here in Congress, we would be accomplishing a lot. So it really is my honor to stand here today with my colleague who we worked so well together on this. I reserve the balance of my time.\n",
            "\n",
            "Speaker, the battle on the second front continues, and the U.S. Government shows it is on the wrong side of the border war. Two border patrol agents named Ramos and Compean chased a drug dealer down on the Mexico-Texas border. Gun shots were exchanged. The drug smuggler fled back to safety in Mexico, leaving his van and 800 pounds of dope on the American side. The U.S. decided to prosecute. The U.S. Attorney went to Mexico, found the drug dealer, took him to America, treated his bullet wounds, and then, get this, gave him immunity to testify against agents Compean and Ramos for their shooting him, the criminal. Both border agents were convicted by an overzealous prosecutor that was looking for pelts in her belt. She appeared to have more loyalty to Mexico than to America because she was on the wrong side. Both agents await sentencing. The two border agents should have been given medals and sent back down to the border to bag another drug dealer instead of being prosecuted. Yet another example of how our government is more concerned about illegals and drug dealers than they are about America and Americans. And that's just the way it is.\n",
            "\n",
            "President, I rise today to pay tribute to a true hero--to one of the first Americans to have fallen in combat in Iraq and make the ultimate sacrifice. His name: Jose Gutierrez, a lance corporal in the United States Marine Corps. He was just 22 years old. Corporal Gutierrez arrived in the United States when he was a 16 year old orphan, having left poverty-stricken circumstances in Guatemala City and a country racked by a brutal civil war. He traveled over 2,000 miles by foot, north through Mexico, in search of a better life here in the United States. Like so many immigrants, his past was soon eclipsed by his new life as an American. He was taken in by the Mosquera family of Lomita, CA. Nora and Max Mosquera had begun helping immigrant foster children when their own children had grown. ``He joined the Marines to pay back a little of what he'd gotten from the U.S.,'' Max Mosquera said. ``For him it was a question of honor.'' A tall and quiet young man who enjoyed soccer and chess, Jose learned English quickly and had plans to study architecture. He became an infantry rifleman with the 2nd Battalion, 1st Marine Regiment. He enlisted exactly 1 year ago, on March 25, 2002, and arrived at Camp Pendleton, CA, in early September. Corporal Gutierrez died in battle, around 4 a.m. on Friday. He was struck by enemy fire while fighting alongside fellow marines near the southern Iraqi port city of Umm al Qasr. ``He was such a good kid,'' remembered Robert Nobles, a physical education teacher at North High in Torrance, where Corporal Gutierrez graduated in 2000. I have been told that news of his death has resonated throughout Guatemala. Every major newspaper, radio and TV station carried his story. He has been portrayed as a brave and selfless young man--which he most certainly was. I have also heard that it has been difficult to locate his one blood relative, his sister, who still lives in poverty in Guatemala City. The sister is arranging to have his body sent back to Guatemala, whereas a social worker in Los Angeles, Wendy Perlera, an acquaintance of Corporal Gutierrez, wants to bring his body back to L.A. Wherever Lance Corporal Jose Gutierrez is finally laid to rest--in the country of his birth or the country which he was willing to give his life for--he will not be forgotten. Our thought and our prayers are with his family--with his sister in Guatemala and with the Mosquera family, who provided him with the emotional and financial support to pursue his dreams. The fact that he died so young--just 22--is tragic. Indeed, the loss of any young life is a tragedy. The fact that he was willing to fight-and die--for his adopted homeland, has earned him the lasting admiration of Americans everywhere.\n",
            "\n",
            "Someone once said that children are the living messages we send to a future we will never see. Children are the living messages we send to a future we will never see. As I listened, I could not help but think about the other day when I was jogging in a park near my home. As I was jogging, I literally ran past my eighth grade civics teacher. She waved. I did not realize it was her. Then I thought about it, I thought, she looks so familiar. I turned around and I said, Ms. Wilder, thank you for all that you have done for me. Thank you for all that you have done for me. Because I realized that here was someone who impacted my life back in the eighth grade, a son of two parents who never got past the first grade, but I knew that that teacher had impacted my life tremendously and taught me civics, some of which I use in this Chamber today, some 40 years later. And so all I am saying to you is that I agree with you, and there is something else that I just want to add, a footnote to what you just said. The American people want our children to be all that they were meant to be. I think one of the saddest things is for someone to have the potential and not be given the opportunity to be all that they can be. What does that deprive this wonderful society of? Of doctors, of heart surgeons. We have a gentleman in Baltimore, Dr. Benjamin Carson at Johns Hopkins Hospital who was almost a dropout from school. Now he is one of the most renowned neurosurgeons in the world. All I am saying to you, when we think about what we are trying to do here and talking about our schools and lifting up our children, I just believe in my heart that every child when they are born, there are certain things that are in that child that an education brings out. When we do the things that we are doing, that is, give them fertile ground in which to grow, then they can become all that they can be. But if we do not give them those opportunities, the things you just talked about, giving them classes that are small enough so that they can learn, giving them teachers that are skilled, giving them computers so that they can learn the best technology, giving them the tools to allow them to grow, then they are not only deprived for a few years, they are deprived for a lifetime.\n",
            "\n",
            "Speaker, I wanted to point out another example of what you are talking about too. It has also come to light over the Thanksgiving recess, and this is the people within the Department that were drafting the legislation, as you know, the Federal Government official who runs Medicare and was very much involved in drafting the legislation to put this bill in place, Tom Scully, announced during the break, during the Thanksgiving recess that he was leaving the Medicare program to go into the private sector. And there were serious questions about his whole involvement in this because basically he had been looking for a job in the private industry for something like 6 months. There is an article that was in the December 3 New York Times where it said that Mr. Scully, this is the Medicare administrator, had made no secret of the fact that he had been looking for jobs outside the government for more than 6 months even as he spent hundreds of hours in closed sessions with House and Senate negotiators working out countless details of the legislation. Now, again, there are so many conflicts of interest with this administration, it is just unbelievable. This guy, who I do not know him that well, but I understand he is a fairly nice guy, but the idea that 6 months ago he was looking for a job, a job essentially with some of the same law firms that were negotiating on behalf of the drug companies in order to get a favorable bill, the ethics law actually says, and I will read it because it is in the same article in The New York Times, ``The ethics rules issued by the Department of Health and Human Services say that employees who have begun seeking jobs in the private sector must immediately recuse themselves from any official matter that involves the prospective employer.'' Now, this covers legislative initiatives and proposed rules. Now, apparently, what Mr. Scully is saying is that he got a waiver from the Department so he would be allowed to work on matters of general applicability like the Medicare reform bill while he talked to potential employers. We have no information about how this waiver was garnished. The waiver has never been made public. The bottom line is the guy is negotiating this bill basically looking for a job with some of the same lobbying firms that are representing the drug companies. And as soon as the bill is passed, within a few days he announces that he is leaving to go join those same law firms. What possible justification? Mr. Speaker, I yield to the gentleman from Ohio.\n",
            "\n",
            "Speaker, I rise in support of the rule and this legislation. Let me relate a story, since I only have a minute. I attended a trip to China a few years ago. It was headed up by our former colleague, Jack Fields. One of the opportunities that we had was to have a luncheon with an American company, in this case AT&T, that was trying to penetrate the Chinese market in telephones. I was seated beside a young lady, Chinese, in her late 20's who was the number one assistant to the executive vice president of AT&T. I asked her what her job was, and she related a little bit about her job. I said, What is your background? She said, Congressman, I am enjoying my lifelong dream. I said, What is that? She said, I was educated at Brown University in your country, I returned to China to build a new China, and I am working for an American company. That really tells us what we need to know about this change that is taking place in China. We have to have the courage and we have to have the vision, and most of all, we have to have the patience that these young people can rise to leadership in China. We can do it by passing PNTR.\n",
            "\n",
            "I thank him and his colleagues from New York, Mr. Rangel and Mr. Gilman, for having this special order to allow us to pour out our hearts to somebody that we dearly love. I firmly believe that those of us who serve in this body are diminished as well as the American public are diminished by the loss of Ham Fish, Jr. He was fourth generation in terms of serving this great country in Congress 26 years. I learned about Ham Fish when I was involved in the campaign of a man who served with him in the early years, Charles Mac Mathias, who then went on to the U.S. Senate. To me Ham Fish himself was a tradition. When I was elected to serve in the 100th Congress starting in 1987, I turned to Ham and told him that I knew so much about him and looked forward to serving with him. Well, he smiled in his very warm way, recognizing I had a lot to learn. I did find that Ham Fish was a role model. He was always very upbeat. There might be times that I would come into this Chamber and go over to him despondent about some issue that was coming up or perplexed about a vote that needed to be cast. He was always assuage one in terms of recognizing what truly are the priorities, and the priorities, I think, for him were really human contact. I found him somebody who could make us see what was really important, who had a very warm sense of humor, somebody who became a hero because he deserved it in the areas of civil rights, human rights, fair housing, employment discrimination alleviation, caring about minorities, caring about women, having a streak of effective independence. We could always rely on Ham to do that. Very often I did converse with him about the issues that we had to decide because I looked on him as somebody who was a real role model and one who would lead me correctly in the right way. So Ham Fish will be missed. I got to know Ham and his wife Mary Ann personally. My husband and I traveled with them. We always appreciated his warm sense of humor, his understanding of human foibles. And with Mary Ann, her sense of love of life, the fact that she laughed a lot, and Ham helped her to laugh a lot. He was also someone who received the benefit of that sense of humor, a man who had great courage. Mr. Speaker, I remember we were at a conference in Madrid where we had a few hours off. This is when Ham was not well. We would go to an art gallery, and he was indeed a true collector of art and an appreciator of art. I thought at that time this man of great courage also has made politics into an art and has done it exceedingly well. I just want to say that we will certainly miss Ham Fish, and he will live on in love. I am reminded of a quote from Thornton Wilder, who said: ``There is a land of the living and a land of the dead; and the bridge is love, the only survival and the only meaning.'' Tony and I extend to Mary Ann and to the family of Ham Fish our deepest condolences.\n",
            "\n",
            "I think the committee did speak clearly in the actual legislative language of the bill, which requires that the new investment authority be allocated ``consistent with the resolution of the Trustees adopted March 1, 1999 concerning the Restoration Reserve.'' Among other things, this resolution separates the remaining funds into two distinct ``pots'' of money: a $55 million pot which can be used for habitat acquisition; and a $115 million ``pot'' that will be used for research and monitoring activities. As the Trustees have explained the resolution to me, the cost of administration for habitat acquisition will come from the $55 million and the cost of administration for the monitoring and research will come from the $115 million. Therefore, I am confident that the actual legislative language of the bill is clear and that this was the committee's intent. This provision was very important to me in drafting this bill because I have always been concerned about the tens-ofmillions of dollars the Trustees have spent on administration of the funds. We prepared a statement to clarify this matter last November. It should have appeared in the Record at the point where the bill was passed (S15162-S15163). Regrettably, the statement was mislaid and did not appear where it should have.\n",
            "\n",
            "Chairman, I think I have the right to close, so I will reserve my time. The Acting CHAIRMAN. The gentleman from Louisiana (Mr. Baker) has the right to close. Mr. Chairman, I listened to the last speaker with somewhat dismay. He tended to quote a lot of votes. Yes, there was a vote that passed this on from the committee to the floor, and after the preceding vote that was held by the committee on the substitute he failed to inform the House that there were 35 against the substitute, 31 in favor of the substitute. This did not come out of the committee without contention. It came out on the voice vote because we saw the count was 35-31. We did not call for a vote. Secondly, the gentleman charges my suggestion of the substitute as a definition to define and maintain the status quo. Either he has not looked at the substitute or we define the status quo in different proportions because this substitute does several things. First and foremost, it would require the Securities and Exchange Commission to complete its definitional rulemaking of what constitutes an approved rating agency within 60 days of enactment. That does not give them unlimited time to continue to pursue. Within 60 days they have to have the definition. The second position, it would require the commission to establish public guidelines about the process used to identify new nationally recognized agencies within 180 days of enactment, within 6 months. That is hardly the status quo. Then, finally, we would encourage continuation and participation of the parties to expedite and complete a voluntary framework to improve the discipline and enhance rating quality. This substitute accomplishes several things, moves the process along but does not create an entire new entity and process which is contradictory to international agreements and other conditions held throughout the world. I urge the adoption of the substitute.\n",
            "\n",
            "Speaker, I thank the gentleman for the very unexpected and very flattering comments that he made. He is correct, he and I started along with the gentleman from California [Mr. Dellums] a number of years ago working on national defense issues in this Congress. Mr. Speaker, I rise to mention briefly a situation that exists and to compliment the Committee on National Security for something they did about it. The cost of living adjustments for retired military come at a different time in the year than the cost of living adjustments for retired civilian Federal employees. We would like to have equity and have both COLA's come at the same time. We thought we did that in the reconciliation bill, the Balanced Budget Act of 1995, but for some reason it was dropped out. At that time I introduced along with 320 of our colleagues, introduced H.R. 2664 that would correct this inequity. When the Committee on National Security went to conference with the conferees from the other body, they dealt with this issue and they made this issue work. I would just compliment them for the good job they did in bringing about equity in the COLA issues and urge them to stand fast as they go back to conference to keep this issue before the conference and keep it in the bill that finally goes back to the President, so that we do not have to gear up H.R. 2664 again. But with 320 cosponsors, I think we can do that easily, Mr. Speaker. Again I compliment the members of the Committee on National Security for the good job they did in conference in trying to represent the viewpoint of the House for a strong national defense.\n",
            "\n",
            "Chairman, I rise in opposition to the rule for the Defense Department authorization bill--and I do so reluctantly but with deep conviction. I had hoped to support the rule enthusiastically, because I hoped it would include the opportunity for me to offer an amendment to save the taxpayers $2.5 million a year for a program that is no longer needed or wanted--the Civilian Marksmanship Program conducted by the National Board for the Promotion of Rifle Practice. This useless boondoggle originated at the time of the SpanishAmerican War and in the present era no longer has any military value. Last year, I was denied the chance to kill this outdated and wasteful program in the authorization bill because I was denied a rule, and so I offered an amendment to the appropriations bill. At that time, 190 of my colleagues voted their agreement that this program should be ended. At that point, I introduced a free-standing bill, to which the Office of Management and Budget and the Defense Department offer no objection. In comment on my bill, the Defense Department general counsel specifically noted that this program has ``no formally recognized link to the combat readiness of military units. In an era of declining resources, programs which do not contribute directly to the primary mission of our military departments must be reduced or terminated.'' This program is an example of ways we should be reducing the deficit, and my vote against the rule is a protest against permitting this program to continue when the Defense Department itself agrees that it has no value.\n",
            "\n",
            "Mr. Speaker, I too wanted to object with the reservation on this for the purpose of asking the chairman and the ranking member a few questions about the bill. But I also do not intend to object to the bill but I want to reserve the right to do that. So if it is appropriate on the gentleman's time frame, I would like to ask a couple of questions if the gentleman will continue to yield. I thank both of the gentlemen and I want to say that my office and the gentleman's committee have worked very diligently for over a year now on a housing issue for Fort Stewart, Georgia and the City of Hinesville, Georgia, that I will not go into the details of. It is a project, as we know, that the staff on the committee is somewhat familiar with. We have worked hard on this and have also had the honor of having the chairman of the committee come to our area and meet with several of the elected officials from Hinesville and Liberty County, Georgia, and I have been assured that we had this project under control and moving in the right direction. Yesterday upon my return to Washington I was extremely shocked and extremely disappointed to find out that a problem had developed on this project, and even though it did pass the House, when this bill left the House it unfortunately disappeared in the conference committee. Maybe there was some lukewarm support or lukewarm objections from the Senate, but I also understand that there was a glitch with the authorizing committee, which I did not know about. So I wanted to express these concerns to the chairman and the ranking member and kind of flush it out for maybe next year if that is our only fallback position at this time. Again, this was a very vital and important project for the folks in Hinesville, Georgia and Liberty County and Fort Stewart as well.\n",
            "\n",
            "It was very helpful for him to make references to his knowledge of the preworld War II days. He had a very distinguished career in World War II as a member of the Army Air Corp and as a pilot. I had a very modest one at the tail end, just in training, in the Navy. But both of us remember that period very well. The Senator emphasized quite forcibly the need for the United Nations to face up to this. Having lived through that period, we remember the League of Nations. We remember the blatant attack by the Italian military under the leadership of Mussolini against then Abyssinia, now referred to as the nation of Ethiopia, and how the league began to look at that situation, and look at it and look at it and look at it and did nothing, and then the aggression during the attacks by Japan on China. The Senator recalls these periods in history. Eventually the league went out of business. It fell into the dust bin of history and in some small vestige was absorbed into the United Nations. I have a strong view, and I think our President has made reference to this, that unless the United Nations lives up to its charter and assumes the responsibility of enforcing its own Security Council resolution, that organization, too, could fall into the dust bin of history, not unlike the League of Nations. Does the Senator share those views?\n",
            "\n",
            "Speaker, I was reminiscing with some other Members a few moments ago when Mr. Becerra was relating to us here at this committee hearing involving veterans from Puerto Rico, he made a statement how Puerto Rico had lost a great number of men at this great battle and how they had to withdraw and retreat. And Frank asked Mr. Becerra, would you yield to me? Mr. Becerra was kind enough to yield to Mr. Tejeda, and he said, let me make a correction, Mr. Becerra. Marines do not retreat, they do not withdraw, they regroup. So even though Frank was a quiet man, a very reserved man, he had a great sense of humor. Another time I remember that yesterday I was talking about his diet. Frank had a very special diet. No greasy food, no Cokes, no candy, no bread. So a friend of ours came to town, and he took us to a restaurant. And Frank asked him, do you have shrimp, and he said yes, I like to have boiled shrimp. He got an order of boiled shrimp and he got another one. Then he asked, what kind of steaks do you have? He did not eat red meat. He said tuna. He said, give me one tuna steak. And then he says, can I have another one? This is a fact. The gentleman from New Mexico [Mr. Richardson] and the gentleman from Arizona [Mr. Pastor] were with us, and I began to feel sorry for the guy that was paying. He was another friend of ours. And then he said, do you have lobster? And he ordered lobster he ended up eating with a green salad. This was Frank Tejeda. He had not eaten all day. Many times we go to a restaurant, and he would order stuff that I could not eat. So I would eat all the grease, and Frank would eat all the good stuff. But I will never forget the day when Frank came back, 1995 during the Hispanic Caucus dinner. Frank came back and I could see that Frank was a little depressed, you know. I could sense something was wrong. And I asked Frank, he would not tell me. Then after a while he said, I want to talk to you. He says, you know that I was diagnosed with a brain tumor, and they cannot perform surgery, and they gave me 3 months to live. And I said Frank, do not joke around like this with me. He says, I am not joking. Frank, we were sitting back at that corner when that day he got ill, it started with a headache, just a bland headache, and he says, I want an MRI. I said Frank, I have headaches every day. He said, I know my body. He did. He went back and he tried to--he had to convince three doctors to run an MRI on Frank. The day he was coming back, he was called and told that he had been diagnosed with cancer. The good Lord gave Frank 13 additional months. Thank God that I learned a lot from a great American, Frank Tejeda.\n",
            "\n",
            "President, the Senator from Wisconsin has raised a problem that came to my attention only after the conference had concluded, and in fact after the House of Representatives had acted on the conference report. When this provision was agreed to, and it was included in the draft of the education title of the bill that was shared with conferees and others on December 14, 1995, the budget for the board of education was more than $1.8 million. However, I am now informed that at the end of December 1995 the board proposed reductions in its own budget and that the council reduced the budget and staffing of the board of education that will be recommended to the control board and then to the Congress. I did not know of these actions until February 1, 1996, the day after the House adopted. It is not this Senator's intention to shut down the board of education. It is my intention, and I believe of the other conferees, that the board ensure that the management and financial information systems of the public school system be modernized and upgraded so that the implementation of the reforms we propose can be monitored, both by the board and by others. If we do not have accurate and timely information we will not be able to achieve the results the kids need. Mr. President, I would suggest to the Senator that since this will become a part of the statute, that I will seek a legislative remedy at our earliest opportunity. Alternatively, I would suggest to city officials that, since it is not our intent that the board cease operation, a reprogramming from other sources could be effected so that the operations of the board can continue. Such reprogramming should be at levels approved by the council and control authority. I hope that this explanation clarifies that our conferees are intent on this matter.\n",
            "\n",
            "Madam Speaker, on this day, September 6, 1774, 226 years ago, the first Congress assembled in Philadelphia. According to the Records of Congress, Congress established two important precedents on that day. First, rules of governing its procedures; and, second, it decided to open its sessions with prayer. John Adams provided the details on that second decision, reporting that ``When Congress first met, Mr. Cushing made a motion that it should be opened in prayer. It was opposed by one or two, because we were so divided in religious sentiment that we could not agree on the same act of worship. Mr. Samuel Adams rose and said, `He was no bigot, and could hear a prayer from a gentleman of piety and virtue, who was at the same time a friend to his country, and therefore he moved that Mr. Duche, an Episcopalian clergyman, might be desired to read prayers to the Congress tomorrow morning.' The motion was seconded and passed in the affirmative.'' Interestingly, although objections were raised against public prayers two centuries ago, Congress quickly learned that prayer was a unifying rather than a dividing force. Now, two centuries later, we still benefit from what they learned 226 years ago today.\n",
            "\n",
            "Speaker, Franklin Roosevelt once said that ``the presidency is preeminently a place of moral leadership.'' I want my strong criticism of President Clinton to be placed in context. I voted for President Clinton in 1992 and 1996. I believed him to be the ``Man from Hope'' as he was depicted in his 1992 campaign video. I have voted for more than three-fourths of the President's legislative agenda and I would do so again. My blunt criticism of the President has nothing to do with policy. Moreover, the President has always treated me with courtesy and respect and he has been more than responsive to the concerns of my constituents. Unfortunately, the President's misconduct has now made immaterial my past support or agreement with him on issues. Last January 17, the President of the United States attempted to cover up a sordid and irresponsible relationship by repeated deceit under oath in a Federal civil rights suit. Contrary to his later public statement, his answers were not ``legally accurate,'' they were intentionally and blatantly false. He allowed his lawyer to make arguments to the court based on an affidavit that the President knew to be false. The President later deceived the American people and belatedly admitted the truth only when confronted some 7 months later by a mountain of irrefutable evidence. I am convinced that the President would otherwise have allowed his false testimony to stand in perpetuity. What is at stake is really the rule of law. When the President took an oath to tell the truth, he was no different at that point from any other citizen, both as a matter of morality and as a matter of legal obligation. We cannot excuse that kind of misconduct because we happen to belong to the same party as the President or agree with him on issues or feel tragically that the removal of the President from office would be enormously painful for the United States of America. The question is whether or not we will say to all of our citizens, including the President of the United States, when you take an oath, you must keep it. Having deliberately provided false testimony under oath, the President in my judgment forfeited his right to office. It was with a deep sense of sadness that I called for his resignation. By his own misconduct, the President displayed his character and he defined it badly. His actions were not ``inappropriate.'' They were predatory, reckless, breathtakingly arrogant for a man already a defendant in a sexual harassment suit, whether or not that suit was politically motivated. And if in disgust or dismay we were to sweep aside the President's immoral and illegal conduct, what dangerous precedent would we set for the abuse of power by some future President of the United States? We cannot define the President's character. But we must define the Nation's. I urge an affirmative vote on the resolution.\n",
            "\n",
            "Chairman, I would like to encourage my colleagues to support H.R. 2, the Student Results Act of 1999. Educating America's youth is essential to the future of our nation. This legislation focuses on improving accountability and quality in our education system. The Student Results Act gives parents more control over key decisions for their children's education, including school choice, and academic accountability. Education decisions belong at the local level, where parents and educators can be involved. H.R. 2 achieves this by authorizing greater local control and more choice for parents. It also provides aid to state and local educational agencies to help educationally disadvantaged children achieve the same high performance standards as every other student. Mr. Chairman, everyone should support improvements to our education system that will raise the standard of excellence in learning and give every child in America the opportunity to learn at his or her maximum potential. I urge my colleagues to support the Students Results Act today. The CHAIRMAN pro tempore. Under the rule, the Committee rises. Accordingly, the Committee rose; and the Speaker pro tempore (Mr. Pease) having assumed the chair, Mr. Shimkus, Chairman pro tempore of the Committee of the Whole House on the State of the Union, reported that that Committee, having had under consideration the bill (H.R. 2) to send more dollars to the classroom and for certain other purposes, pursuant to House Resolution 366, he reported the bill back to the House with an amendment adopted by the Committee of the Whole.\n",
            "\n",
            "President, more than 30 months ago, prior to his confirmation as Secretary of the Department of Homeland Security, Michael Chertoff told me in my office that if confirmed he would move expeditiously to implement the National Emergency Technology Guard--NET Guard--Program. Unfortunately, Secretary Chertoff has failed to honor this pledge. The idea of NET Guard was born in the aftermath of 9/11, when a number of communications and technology companies told me they wanted to help New York City when it was attacked--and there was no system for using their volunteers. Then-Senator George Allen and I moved on a bipartisan basis to support a program, called NET Guard, that would ensure that volunteers with technology expertise could be fully utilized in future crises. These teams of local volunteers with science and technology expertise would be vital in assisting our communities in responding to attacks on communications networks or recovering from natural disasters. Congress authorized the establishment of NET Guard 5 years ago, in the Homeland Security Act of 2002. However, DHS has utterly failed to make any visible progress in implementing this critical program. DHS's failure to act in this critical area is inexcusable. Had the Department followed through and created NET Guard, I believe it could have played a significant role in alleviating the chaos, confusion, and suffering after Hurricane Katrina. Had NET Guard been properly implemented, there would have been teams of volunteers with expertise ready to mobilize instantly to tackle technical challenges in the wake of the storm. Indeed, on an ad hoc basis, companies and individuals with technology expertise did come forward to assist the suffering. I can only imagine how effective these efforts might have been had NET Guard been in place. Since my meeting with Secretary Chertoff in 2005, my staff and I have been given one excuse after another for delaying implementation of NET Guard. I have been promised briefings that never happen and reports that never materialize. At the outset, I was willing to accept some delay, but that time has passed. We know that it is only a matter of time before there is another crisis that will put American communities and their critical communication networks at risk. Further delay is unacceptable. Out of options, I reluctantly feel that I must put a hold on the nomination of Dennis Schrader who has been nominated by President Bush to serve as Deputy Administrator for National Preparedness, until the NET Guard Program is up and running nationwide. It gives me no pleasure to place this hold and I do so grudgingly. I recognize the importance of the position of Deputy Administrator for National Preparedness, but the position didn't even exist for the first 4 years after the Department of Homeland Security was created; it was just created in March. Since then, Mr. Corey Grouber has served as Acting Deputy Administrator, so delaying Mr. Schrader's confirmation while the long-overdue Net Guard Program is put in place will not leave the office leaderless. Mr. Corey Grouber has extensive experinace at FEMA, so he can manage for a little longer while the NET Guard Program is established. Unfortunately, I see no evidence that the Secretary intends to uphold his pledge to me, and until he does, I will keep my hold on Mr. Schrader's nomination. I hope DHS will quickly begin to take action so I can remove this hold and Mr. Schrader's nomination can move through the Senate.\n",
            "\n",
            "Chairman, I had an interesting experience about a week and a half ago. I was on the phone in the kitchen and suddenly heard frantic activity in the den just outside and heard a lot of hollering and shouting and things falling off the table and could not figure out what was going on. I went into the room and discovered, there was my 3\\1/2\\ year old, Colin, obviously concerned and upset because as he was watching TV, one cartoon he was watching ended and on came Ren and Stimpy. My son knows, under orders from mom and dad, that it is off limits for him; and Beavis and Butthead is off limits for his brothers, and NYPD is not appropriate. Mr. Chairman, I walked into the den and used a marvelous technology so he couldn't watch that show, and it is called the off button. Every television set in America comes with one, and if you do not want your children to watch something, you get off the couch and you turn it off. Mr. Chairman, for my Republican colleagues, I thought part of last November's election was about personal responsibility, and I as a parent have the responsibility to tell my children what programming is responsible and what programming is not responsible. If we want to buy this, we can buy it; and if we want to buy the Vchip and it is available on a voluntary basis, absolutely. But it seems to me, again, we are sending the wrong signal, because the signal is, parents are not capable of making these decisions; technology is going to solve it for them. They cannot control what their children watch; the government has got to do it for them. If we do not like what is on TV, and we want to make sure that our children are protected, we do not need new technology. We need technology as old as the television set itself. We need only get up off the couch, walk 15 feet across the room, and just turn it off.\n",
            "\n",
            "Madam Speaker, I rise in opposition to this resolution this evening. The resolution we are debating this evening is a nonbinding resolution. It has no effect of law. It does nothing to change our direction in the war on terror. For those who oppose the war, this resolution does nothing to end it. For those of us who would like to debate the recommendations of the Iraq Study Group, this does nothing. For those of us who would like to continue to show our support for the funding of the troops, it does nothing. For all of the chest pounding from the majority about a new direction or redeployment, this does nothing. This resolution could pass 435-0 and it still would do nothing. Madam Speaker, there has been no opportunity for a free exchange of proposals this evening that could be useful in moving us forward. In fact, just this morning, one of Ohio's largest newspapers, the Columbus Dispatch, said it best in their lead editorial: ``Empty gestures. Democrat's resolution on Bush's Iraq war policy is political posturing.'' That says it all. Madam Speaker, your party has the majority in the House and in the Senate. Yet we have tonight before us a resolution that does not do anything. If the majority wants to exercise real leadership, let's have a true debate. Let's make real decisions, tough decisions, that is for sure, but real decisions. Madam Speaker, let me tell you about a young marine corporal in my district. His name is Matt. Matt represents the best and brightest in America. Matt had a scholarship to go to college. He turned it down. He enlisted in the United States Marine Corps after Iraq was liberated. Matt was on his second tour of duty just last month when he was shot. He returned home a few weeks ago. Matt will receive a Purple Heart. Weeks before he was shot, Matt sent an e-mail back to his family and friends in Ohio. In it he says: ``We have done a lot of good in Iraq, but on the homefront we likely will not see that reported.'' Matt said he has watched his fellow marines' hearts grow heavy when they talk to their family and friends, and that this is a tough part of war and a tough part of fighting for freedom. I spoke with Matt a few days ago as we began debate on this resolution. Matt asked me to oppose the resolution and give him and his fellow soldiers the tools and the support that they need to help Iraqis help themselves take control of their own country, and together fight and defeat radical extremists. Matt supports the mission. Matt does not want to see his children and grandchildren going back to Iraq to handle what can and should be done now. Our constituents elected us to lead, Madam Speaker. Our brave servicemen and -women look to us for leadership. We must not disappoint them. Matt, God bless you and your fellow troops for your great and wonderful service to our country. I will vote against this resolution, this nonbinding resolution tomorrow, and will do all I can to support you and your fellow soldiers in your mission to fight and defeat radical extremists who seek to destroy our way of life.\n",
            "\n",
            "Speaker, I yield myself such time as I may consume. H.R. 1307 introduced by Congressman Scott Garrett of New Jersey designates two segments of the Musconetcong River, totaling 24.2 miles, as a component of the National Wild and Scenic Rivers System. In 1992, residents of the Lower Musconetcong River Valley formed a not-for-profit organization committed to protecting the river. In 1995, the New Jersey Department of Environmental Protection recommended to the National Park Service that the river be included in the nationwide rivers inventory of candidate rivers for wild and scenic designation. Two years later, 18 river municipalities requested that the Park Service study the river for its suitability for inclusion in the National Wild and Scenic Rivers System. In June of 2004, the Park Service found portions of the river suitable, and these sections have been included in H.R. 1307. I would urge my colleagues to support H.R. 1307. Mr. Speaker, I reserve the balance of my time. Speaker, it is now my honor and privilege to yield such time as he may consume to the gentleman from New Jersey (Mr. Garrett), who has put an incredible amount of work into this legislation to bring it forward and has been a dutiful and diligent lawmaker in that respect.\n",
            "\n",
            "I also extend my congratulations to the Republican leader for offering this amendment. Mr. President, about a year ago, the Democrats had a retreat in Virginia. At the retreat there was a long debate on what should be done in Bosnia and Herzegovina. The discussion included whether there should be bombings, led by American planes. That discussion ended by saying perhaps, maybe. The discussion of sending American troops was a resounding no, and the discussion on arms for Bosnia was also a no. Now, during the past 10 or 11 months, I have stood by the belief that the United States should not be involved in exporting arms to other countries. We should in fact try to help other countries through other means. Economic aid certainly is appropriate in many instances. But rarely have I believed that there is a need for the United States to export arms to another country. In fact, I can remember very clearly appearing before a large group of Pakistani physicians. There are about 3,000 or more of them in the United States. Under some very intense questioning I stated to those assembled physicians that I did not believe it was appropriate to send arms to the people in Bosnia and Herzegovina. Now, during the period of time that has transpired since the debate, the discussion in Virginia at the Democratic conference, a lot has taken place. About 70 percent of the territory of Bosnia and Herzegovina has been overrun by the Serbs. There is rarely a day goes by that we do not see depicted on television, and in the newspapers, the terrible tragedies that are taking place there. Mr. President, even I have had enough. Even I can take no more. I think the time has come, where one of those rare opportunities has presented itself to this Congress that we have to say to the rest of the world that we, the most powerful nation in the world, are not going to send troops to Bosnia and Herzegovina. I do not personally believe that we should do bombing, but should we not at least allow those people to have some type of weapons to defend themselves? I say again, Mr. President, even I, who rarely believes we should export arms, believe the time has come we should do away with all of the niceties and do what the United Nations articles call for. Article 51 of the United Nations Charter says that a country has an inherent right of self-defense. This does not mean that we are saying that Bosnia is going to overrun Europe. We are saying that these men and women and children should be defended. By whom? By the Bosnians and Herzegovinans, by the Moslems who are in control of that part of the world, what little part remains to them, the 30 percent of their previous country. So I say that the United States should provide appropriate military assistance to the Government of Bosnia and Herzegovina upon receipt from them, which I am sure will come very quickly, of a request for assistance to exercise their right for self-defense. The time has come. We can wait no longer.\n",
            "\n",
            "Speaker, I rise today to welcome a new Member to the Crapo organization, Tyler Adam Gorsuch, the adopted son of my administrative assistant Jane Gorsuch and her husband, George. Jane has been with me since I was first sworn into Congress in 1993, and Tyler is their first child. Tyler arrived in the United States from Seoul, South Korea, on September 4, and now he is 7 months old, happy, and healthy. Tyler is already busy supporting our majority party. He has indicated as only a child can his total support for the family friendly practices in our office, and he is also politically active, as he has volunteered to assist me in my next election. He came to visit my office last week and provided the day's entertainment to my staff. During his second visit to our office he provided invaluable advice to me on the political outlook for my home State of Idaho. As a father of five children, I understand firsthand the joys of parenthood. My wife Susan and I enjoy watching our children grow through each stage of development, and I know that Jane and George will love and enjoy Tyler just as much. Congratulations to Jane and George, and best of luck to them as they embark on the most fantastic journey of their lives, parenthood.\n",
            "\n",
            "So as we go forward with this welfare reform, let us keep in mind some things. I do not think there is a person here or the House who does not want welfare reform, including the White House. The question is, how do we reach a consensus? That is not going to be easy, there is no question about it. We have some people at the extremes of the process from no welfare to all welfare. But what we have to do is to try and reach that middle ground. We have to make some areas where we can have a consensus, and certainly one of those ought to be the provision of child care. There is not anyone in this body who does not believe there ought to be adequate child care. This amendment is the only thing which will bring us close to that. So, if we are going to have consensus on the issue of child care and if we really want to do what we are supposed to do here, and that is to break through the cycle of welfare, if we are going to give the children of those in the most desperate economic situations in this country the ability for them to have the education which is necessary, all the studies show if they do not get the early preschool education, they start out at a big disadvantage. Let me just end up by saying one of my most unusual experiences when I came to the Senate was I had a group of CEO's come into my office when I was first elected to the Senate. John Akers was the head of the group, the Business Roundtable. I expected them all to say, ``We need to get capital gains tax relief,'' blah, blah, blah. What happened? The first thing they said was, ``We need to fully fund Head Start. We need to make sure there is preschool education for every one of our kids if we are ever going to get our society in a position where we can be economically sound.'' Just recently, this IBM president said at the NGA, ``This Nation is in a crisis, and if we do not start the educational process we need, this Nation is not going to be the Nation it is today in the next century.'' I leave those words with you. Here is an opportunity to make sure the young kids will have the opportunity to get out of the welfare cycle. I yield the floor.\n",
            "\n",
            "Senator MCCain is quoted in the paper today, almost verbatim what the Senator from North Dakota said. He said, as quoted in the paper: I don't report things out of my committee on a partisan basis. If I did, they won't go anyplace anyway. And, in reality, the Senate is divided 50/50. He went on further to say, as he understood the framework of the agreement, the Democrats would allow him to be chairman. He thought that was a pretty good deal. I say to my friend from North Dakota, in the form of a question, and ask if he would agree: The fact is, the Senate is divided 50/50. As I said before, it doesn't matter what kind of math you use; 50 Democrats and 50 Republicans comes out equally. It would seem to me that the committee structure should be equal. Again, reading in the Washington Times, which seemed to be a press release from the dissidents--I should not say ``the dissidents''--it seemed to be a press release from those people opposing equality in the Senate. It appeared to be a press release they issued. They are saying: I don't understand. We are going to be in the majority. We deserve to have one more on the committee. I say to my friend from North Dakota, and I ask if he would agree with me: The Republicans are not in the majority in the Senate of the United States. On the organizational matters, there will never be any tie the Vice President can vote upon, as Alan Simpson said, formerly the assistant Republican leader and Republican whip. As he said: The Republicans will be killed by the public publicity-wise if they try to oppose equality in the Senate. He went on further to say that he thought the committee chairmanships should rotate on a yearly basis. So again in the form of a question: I would hope, as I am sure my friend from North Dakota hopes, that the work of our leader, Senator Daschle, and their leader, Senator Lott, comes to fruition. These men have worked extremely hard. They deserve the support of their two caucuses. What they are trying to do, as I understand it, is come up with something that is fair. That is all the majority of this Senate wants. The majority of the Senate wants a 50/50 division. If we had a vote on that today, that is how it would take place. So we should get that here as quickly as possible and get on with the business of the Senate. Then we would not be in quorum calls here. Does the Senator from North Dakota agree? The PRESIDENT pro tempore. The time of the senior Senator from North Dakota has expired. I ask unanimous consent, in that I took so much time of my friend from North Dakota, that his time be extended for another 10 minutes. The PRESIDENT pro tempore. Without objection, it is so ordered. The Senator from North Dakota is recognized.\n",
            "\n",
            "Chairman, I want to take just a moment to answer a question one of my colleagues asked about, what did parents do before 1970? I was at the University of Kentucky in the 1950's, and I can answer that question. I think I should. Women who got pregnant in those days died from botched abortions or they died from septicemia or they became sterile, unable to have children in the future, or they were sent away to what was called a Florence Crittenden home with other women who had, in the jargon of the day, ``got themselves in trouble,'' to wait 9 months until their babies were born. And their families told their friends and everybody else they had moved away with a relative for a little while. It was common. They had no opportunity again to go back and finish their education. They were from the ``good'' families. Poor women just had no options. The men involved got off without any problem because it was a case of spontaneous generation, the woman had ``gotten herself into trouble.'' They continued their education and lives, and had every opportunity to become titans of industry. The women were disgraced. That has changed, and I am happy for it. I wish that every child in America lived in an ideal home, but they do not. But even in ideal homes, in good homes, where 99.9 percent of everything is discussed, there comes a time every now and then when a child may not want to talk this over with their parents. It is a tragic thing that happened in Illinois, it is a case of statutory rape, and of course it must be prosecuted. In my district we do that; and if my colleagues do not prosecute in their districts, I want to recommend it to them. But this amendment has a far broader reach. It says that none of the funds in this act or any other act for any year can be made available to any title X provider if they do not fulfill this amendment. That means they risk the loss of Medicare funds, Medicaid funds, graduate medical reimbursement, disproportionate share payments, and everything else that we do for health care facilities in this country. Because of the broad-reaching nature of this amendment, it has been strongly opposed by the American Medical Association and the hospitals. Now, let me say one thing that is very important here. I think this law would preempt State laws on this issue because 24 States have laws that mandate confidentiality between providers and adolescents. What we say here over and over again on this floor, what I hear is, we should never enforce anything from Washington; the States know best, the local areas know best. In this case we are saying, no, that is not the case. No, no, Washington knows best on this issue after all. Now, States deserve to have their considered laws on doctor-patient communications remain intact, and I urge my colleagues in the strongest possible terms to reject the Istook-Manzullo amendment, as well-meaning as it may be, and to support Castle-Porter.\n",
            "\n",
            "Speaker, I thank the gentleman for yielding the time, and I thank my colleague, the gentleman from New Jersey [Mr. Pallone] for bringing this to our attention. It is a rightful cause, and I was happy to have participated. Mr. Speaker, as we approach the 50th anniversary of the end of the Holocaust, we have before us a reminder of that sordid period. For the story of Hugo Princz is a story of human tragedy. In 1942, Mr. Princz, his mother, his father, his sister, and his two younger brothers--all American citizens--were arrested by the Nazis and sent to the Maidanek concentration camp in Poland. It was not long before both his parents and sister were sent to be killed in the infamous Treblinka death camp. He later was transported to Auschwitz, where he was forced to watch his brothers starve to death. The story of Hugo Princz is a story of survival. He was not supposed to live. Hugo Princz was living evidence of Nazi atrocities, and so was sent to be exterminated at the Dachau slave labor facility. The story of Hugo Princz is a story of heroism. Just hours before his scheduled execution, U.S. Army soldiers intercepted his death train and saved Mr. Princz' life. The story of Hugo Princz, unfortunately, is a story of neglect--of shameful neglect. It seems that red tape has prevented the German Government from paying Mr. Princz his rightfully due reparations for which he applied in 1955. And finally, Mr. Speaker, the story of Mr. Princz is a story of great irony. What has prevented Mr. Princz from receiving these benefits all along has been his American citizenship. And so, I ask my colleagues to support this sense of the House resolution. It states first, that the U.S. Government should urge the German Government to take all steps necessary to resolve this matter, to fairly compensate Mr. Princz; and, second, to state publicly and unequivocally that the United States will not countenance the continued discriminatory treatment of Hugo Princz.\n",
            "\n",
            "President, recent developments in Iraq have given Americans cause for renewed confidence in our efforts there, as our soldiers systematically track down, capture, or eliminate the remaining fugitives on the most-wanted list. The cowardly hit-and-run attacks and ambushes on our troops have claimed American lives, but they have not deterred our troops from their task of ridding Iraq of every vestige of the brutal regime that ruled for so long. I rise today to pay tribute to those service members who have fallen in this noble effort. As a nation, we must always keep in mind that our military successes come at a high cost in the loss of promising young human lives. My State of Indiana has paid a very high price indeed. As of this date, 13 Indiana families have suffered the loss of a loved one taking part in Operation Iraqi freedom. Seven of our losses were the result of combat action. Four Indiana soldiers have died from injuries not related to combat, and two have died of illnesses. I pray that there will be no more, but I know the danger still exists. Army Specialist Chad L. Keith of Batesville, IN, died on July 7 in Baghdad when his motorized patrol was ambushed. He was riding in the lead vehicle when it was struck by the detonation of a mine hidden along the roadway. Specialist Keith was 21 years old. He had joined the Army immediately after graduating from Batesville High School in 2000. He went through paratrooper training and was assigned to the 82nd Airborne Division at Fort Bragg, NC. A week before he died, he talked to his mother by telephone from Baghdad and spoke enthusiastically about wanting to get the job done in Iraq. Chad Keith was an outstanding soldier. He will be missed. Army Private Robert L. MCKinley of Peru, IN, died on July 8 in a hospital in Homburg, Germany, where he had been taken for treatment of severe heat injuries suffered in the Iraqi desert. Private MCKinley was 23 years old. He had enlisted just 8 months ago and was very proud to be serving with the fabled 101st Airborne Division. Private MCKinley, a 1998 graduate of Peru High school, was raised by his grandparents, Mr. and Mrs. Robert Feller, who loved him as if he were their own son. At his funeral, Private MCKinley was posthumously awarded the Bronze Star Medal. Robert MCKinley was an outstanding soldier. He will be missed. Sergeant First Class Craig A. Boling of Elkhart, IN, died on July 8 at Camp Wolf in Kuwait after being stricken by a sudden illness. Sergeant Boling was a member of the 1st Battalion, 152nd Infantry, one of two Indiana National Guard battalions mobilized to provide robust force protection to key bases and supply lines in Kuwait and Iraq. These units have done an extraordinary job.\n",
            "\n",
            "Speaker, I move to suspend the rules and agree to the resolution (H. Res. 340) recognizing and honoring Jack Shea, Olympic gold medalist in speed skating, for his many contributions to the Nation and to his community throughout his life. The Clerk read as follows: H. Res. 340 Whereas John ``Jack'' Amos Shea was born September 7, 1910, in Lake Placid, New York, a village in the Adirondack Mountains; Whereas Shea was the son of James Shea, a New York State Assemblyman, and Grace Shea; Whereas at the age of 3 Jack began ice skating and by the age of 10 he was competing in speed skating; Whereas Shea was the North American speed skating champion in 1929 and 1930; Whereas at the age of 21 Shea entered the 1932 Winter Olympics in Lake Placid, New York, during which he won the gold medal in speed skating for both the 500 meter and the 1,500 meter events; Whereas Shea was elected to the Speed Skating Hall of Fame, was among the first group of honorees elected to the Lake Placid Hall of Fame, and received numerous other honors from the speed skating community; Whereas after graduating from Dartmouth College with a degree in political science, Shea served as the town justice of North Elba, New York, from 1958 to 1974, after which he became the town supervisor until his retirement in 1983; Whereas Shea was a member of the Executive Committee of the 1980 Lake Placid Olympic Organizing Committee; Whereas in 1982 Shea was appointed to serve as vice chairman of the Olympic Regional Development Authority; Whereas Shea was a loving husband to his wife of 67 years, Elizabeth Steams Shea, and had 4 sons and several grandchildren and great-grandchildren; and Whereas Shea's son Jim competed in the 1964 Winter Olympics in Innsbruck, Austria, and his grandson Jim Jr. will compete in the 2002 Winter Olympics in Salt Lake City, Utah: Now, therefore, be it Resolved, That the House of Representatives-(1) recognizes and honors Jack Shea, Olympic gold medalist in speed skating, for his many contributions to the Nation and to his community throughout his life, and for transcending the sport of speed skating and becoming a symbol of athletic talent and a role model as a loving husband, father, and grandfather; and (2) extends it deepest condolences to the family of Jack Shea and to the Olympic community on their loss.\n",
            "\n",
            "President, I would like to address extension of the Terrorism Risk Insurance Program or TRIA. I am strongly reminded of the words of the great economist Milton Friedman: ``Nothing is so permanent as a temporary government program.'' I remember quite clearly when the insurance industry requested a temporary Federal backstop after the terrorist attacks of September 11, 2001. I cannot stress the word temporary strongly enough in this context. Industry witnesses testified before the Banking Committee that they only needed a temporary program in order to give the private markets time to adjust. I was also promised in private meetings that the program would only be temporary. Insurance industry representatives told me repeatedly that they would not come back to seek an extension of the program. I was quite clear in expressing my disappointment with them when shortly after implementation of the program they began advocating for an extension. I very reluctantly supported the last extension because I believed it made progress in forcing the private sector to step up to the plate. I am here today, though, to say enough. I intend to hold the insurance industry accountable for their pledge of a temporary program by opposing the TRIA reauthorization bill. I regret that those who utilize insurance are caught in the middle. Unfortunately, there doesn't seem to be another way to spur insurance industry action to address this problem. Unless they are forced to come up with solutions, they will simply continue to rely on the Federal Government. It is a shame that some consider it ``the best we can do'' to avoid massively expanding a ``temporary'' government program. I believe we can do better; we can hold people to their word and say enough is enough.\n",
            "\n",
            "Speaker, I thank my colleagues on both sides of the aisle for introducing this wonderful piece of legislation. I am sure, Mr. Speaker, there are many Americans who think that the buying and selling of people ended in the 19th century when slavery was abolished, and most people here are sure at least that if it happens, it certainly does not happen here. Wrong. It is estimated that over 50,000 women and children are brought to the United States under false pretenses and forced to work as prostitutes, abused laborers or servants. And worldwide, it is even worse. Each year 1 to 2 million women and children are trafficked around the world. This is by far one of the worst human rights violations of our time. Women and children are easy targets for exploitation and are often the most marginalized members of society, the last to be educated, and the last to have economic independence. Mr. Speaker, when I had the privilege of traveling with the President to South Asia, I saw a young girl named Nurjahan in Bangladesh. She was about 15 years old. All she knows for sure is that she thinks she is about 15 years old, but she knows for sure that at 8, she was bought by a brothel in Pakistan probably for between $200 and $1,500. She finally escaped from a life as a sex slave. I met her and eight other girls at the headquarters of an organization called Action Against Trafficking and Sexual Exploitation of Children in Dhaka, Bangladesh. They all looked like the children they were, except for the acid scars borne by a few of them. The invisible scars one can hardly bear to imagine. Many of these girls could not go home because even if their families would accept them, their communities would not. Adding to their unspeakable tragedy, some are infected with HIV and all require counseling, a relatively new practice in South Asia. I am committed to advancing the economic, legal and political status of women and children here in the United States and worldwide, and urge my colleagues to support H.R. 3244, the Trafficking Victims Protection Act of 1999. Nurjahan and so many others are waiting for us to take seriously the horrendous practices involved in the trafficking of human beings.\n",
            "\n",
            "Goss] for yielding me the time. Mr. Chairman, I am glad to speak on this today in favor of it. I think that the reason that this came about is the same reason that it was first brought to our attention, and when I say ``our,'' I mean my colleague and classmate the gentleman from Idaho [Mr. Crapo] and my attention and everybody else, the other Members of the 103d freshman class. In about the summer of 1993, after we had all been elected and we had come here idealistically, blithely thinking that we were going to make cuts in the budget and we were going to do the fiscally responsible thing and do what is right by the American people, the taxpayers that had voted us here, and we found out about halfway through that first year that a cut is not a cut at all, and we tried to do something about it. Lo and behold, one of the things we found out is that we were also in the minority. Then along came the 104th Congress, and 72-some new freshmen Republicans were ushered in by the American people, and they found out the same thing in the summer of 1994. They found out, to great frustration, and not a little bit of anger, that, in fact, just because we vote for a cut in an appropriations bill on the floor, it does not necessarily mean anything. So, Mr. Chairman, with some bipartisan support as well, on both sides, we have had a critical mass of frustration and anger that said, ``Look, this flies in the face of common sense. If we are going to do what we were elected to do, if we are going to bring the fiscally responsible actions to the floor, then why does it not actually hold? Why does it not obtain?'' It is amazing, because it completely flies in the face of common sense what we do with these appropriations bill. Thank goodness for the Republican freshmen of the 104th Congress, because now we are going to pass this bill and it means that if we actually have a spending cut on the floor, that it will mean something. Mr. Chairman, that has very important impact, because one of the things it does is it takes some of the power away from the Committee on Appropriations and it puts more power in the Congress, generally, which means that the will of the Congress can actually be worked out on the floor. That is very important. Mr. Chairman, I am reminded of one other thing that is happening now, a similar thing, and it will seem equally confusing to the public that watches this. That is that Members all have office accounts. We were under the impression, as many Members were, I am sure, in the 104th Congress freshman class, that when we cut our office account and did not spend all the money, where does that balance of the money go? Members would think it goes back to the Federal Treasury. Wrong. It goes back to a fund that is an overall programmatic fund and it gets reprogrammed some place else. That is completely unlike everything in America. Thank goodness we are in the right direction here. We are going to do the same thing with the office accounts and we are going to bring a little more common sense and fiscal sanity and responsibility to the way that we run things here in the U.S. Congress.\n",
            "\n"
          ]
        }
      ]
    },
    {
      "cell_type": "code",
      "source": [
        "for _text in random.sample(non_stories, 50):\n",
        "    print(' '.join(_text.split()))\n",
        "    print()"
      ],
      "metadata": {
        "colab": {
          "base_uri": "https://localhost:8080/"
        },
        "id": "2NbSwYtGEE89",
        "outputId": "19a28681-54e2-402a-b9fe-caa78a950cda"
      },
      "execution_count": null,
      "outputs": [
        {
          "output_type": "stream",
          "name": "stdout",
          "text": [
            "President, today the Senate considers the nomination of Harold Koh to be Legal Adviser to the Department of State. After reading his answers to dozens of questions, attending his hearing in its entirety, meeting with him privately, and reviewing his writings, I believe that Dean Koh is unquestionably qualified to assume the post for which he is nominated. He has had a distinguished career as a teacher and advocate, and he is regarded widely as one of our Nation's most accomplished experts on the theory and practice of international law. He also has served ably in our government as a Justice Department lawyer during the Reagan administration and as Assistant Secretary of State for Democracy, Human Rights, and Labor from 1998 to 2001. The committee has received innumerable letters of support for the nominee attesting to his character, his love of country, and his respect for the law. He enjoys support from the lawyers with whom he has worked, as well as those including former Solicitor General Kenneth Starr--whom he has litigated against. Both in private meetings and in public testimony, Dean Koh has affirmed that he understands the parameters of his role as State Department Legal Adviser. He understands that his role will be to provide policymakers objective advice on legal issues, not to be a campaigner for particular policy outcomes. He also has affirmed that as Legal Adviser, he will be prepared to defend the policies and interests of the U.S. Government, even when they may be at odds with positions he has taken in a private capacity. In applying laws relevant to the State Department's work, he has stated clearly that he will take account of and respect prior U.S. Government interpretations and practices under those laws, rather than considering each such issue as a matter of first impression. Finally, I believe Dean Koh respects the role of the Senate and the Congress on international legal matters, especially treaties. He has promised to consult with us regularly and fully, not just when treaties come before the Senate, but also on the application of treaties on which the Senate has already provided advice and consent, including any proposed changes in the interpretation of such treaties. Absent extraordinary circumstances, President Obama and Secretary of State Clinton should be able to choose the individuals on whom they will depend for legal analysis, interpretation, and advice. Given Dean Koh's record of service and accomplishment, his personal character, his understanding of his role as Legal Adviser, and his commitment to work closely with Congress, I support his nomination and believe he is well deserving of confirmation by the Senate. Mr. President, I suggest the absence of a quorum.\n",
            "\n",
            "President, I want to join in saying a very heartfelt thanks to my good friends, Senator Kerry, Senator D'Amato, and Senator Mack for their efforts on achieving a workable compromise on the National Flood Insurance Reform Act of 1993. While this certainly is not a perfect bill--I have seen very few that are perfect go through here--I believe it does put the National Flood Insurance Program on a sound financial footing. I believe the Senator from Massachusetts is going to have a modification to correct one point in the bill that we agreed upon. But, as corrected, as agreed upon, this is legislation that I believe all of our colleagues can support. Coming from a State like Missouri, I have a very special interest in the National Flood Insurance Program. Two of the largest rivers in the world run through our State, in addition to many tributaries. Unfortunately, as everyone saw on the evening news, those rivers did not run through it; they expanded over it this year. And for a State like Missouri to continue to prosper, our citizens must be able to insure against the possibility--yes, in some cases even the probability--of flooding. There are almost 15,000 Missouri policies in effect providing more than $760 million in coverage for homes and businesses. But we need to get more covered. Over 15,000 Missouri homes were damaged in the great flood of 1993, and many of those homes were without flood insurance. It is too late to insure those homes for that flood, but it is not too late to bring into the program these homes and other uninsured homes, to bring them up to code, to insure them against the risk of flooding. We need to spread the risk and to place the National Flood Insurance Program on a sound financial footing. The National Flood Insurance Reform Act of 1993 provides many needed reforms. As already described, the legislation would provide stricter requirements to ensure the placement of insurance on properties in flood-prone areas. It would increase flood insurance coverage amounts. It would establish a community rating system to provide premium rate credits for communities that implement land use and loss control measures that exceed minimum criteria, and it would establish a new program for mitigation assistance. I really believe, Mr. President, that mitigation is one way in which we can make great strides in assuring the actuarial soundness of the program as well as helping protect structures, individuals who live in them, and the families who live in them from the losses and the devastation of floods. As the Senator from Massachusetts so strongly urged, it also gets us on the road to having FEMA report a study on erosion hazard risks and conduct a representative sampling of erosion hazard risks to the Flood Insurance Fund. These are important reforms. I commend the Senator for bringing those to our attention. Again, I express my sincere thanks for the efforts of the staff that worked extremely hard to bring all this together, FEMA, which responded to our questions, and obviously to my colleagues for being willing to compromise to move forward on what I think should be a measure to bring significant benefit to the National Flood Insurance Program and the structures it protects. I thank the Chair. Mr. KERRY addressed the Chair.\n",
            "\n",
            "Chairman, the No More Solyndras Act is just the latest scheme by the majority party to distract from the real issues that affect our economy and to attack America's clean energy investments and future. While Solyndra did not achieve its goals, other projects did, and they have made great investments in clean energy infrastructure and job creation. Not every investment works out, as the private sector well knows. One failure is not a valid reason to condemn the entire DOE loan guarantee program, a program created in a bipartisan manner to further our energy independence and spur economic growth. In fact, an independent report by Herb Allison earlier this year confirms that the program actually holds less risk than originally envisioned when Congress first created and funded the program. American companies are fighting an uphill battle against foreign countries that aggressively subsidize their clean energy industries. Last year, China and Germany both heavily invested in their clean energy future. We cannot and should not depend on foreign-made clean energy technologies. In order to remain competitive in the global marketplace, the Federal Government must continue to play an active role in encouraging and promoting investment in clean energy technologies. Not only does this support help spur innovation, but the loan guarantee program has already generated $40 billion of direct private investment in the U.S. economy and is supporting 60,000 direct jobs in American clean energy industries. My home district of Sacramento, California, is home to nearly 14,000 clean technology jobs and houses more than 230 clean technology companies. These are small business owners who understand the need for Federal investment to help level the playing field at home and in the global marketplace. These companies hold the promise of making us the world leader in clean energy technology while simultaneously creating good-paying jobs, lowering energy prices, and preserving and protecting our environment. This partisan bill would take us backwards in this pursuit, and I urge my colleagues to vote against it.\n",
            "\n",
            "Speaker, I want to thank the chairman, for it is a great day for all of America and a happy day for me, and in one way a sad day, that in over 12 years I could not get this done through my own party. I could not even get a hearing. I want to thank the chairman, the gentleman from Texas (Chairman Archer), and I think he told it like it is. I think without the gentleman from Texas (Chairman Archer), we would not be changing the burden of proof in the tax case today, and I don't think we would have these added protections for homeowners. I want to thank the gentleman. I want to thank the gentleman from New York (Mr. Charlie Rangel). If he were chairman we would have had a hearing, and I would have had a better shot. I would just like to say this, the IRS for years has prided themselves on the fact, and they have literally been quoted as saying, that fear is important, and without fear we will not have compliance. I think my friend, the gentleman from Georgia (Mr. Mac Collins) told it the way it was and the way it is. Fear is a term associated more with totalitarian forms of government, Mr. Speaker, not democracies. Alex Council committed suicide, and Attorney Bruce Barron committed suicide, out of despair and fear. Today I think we provide an opportunity where Americans do not have to fear their government, and as the gentleman from Georgia (Mr. Collins) so eloquently stated, no American should fear our government. It is our government. I want to thank the gentleman from Texas (Chairman Archer) for putting those two provisions in the bill. Let me say one last thing. The taxpayers still must comply and still must have records, but the day where they can have that old Bogart program, to put them under the gun because they have the burden of proof, is over. No taxpayer can prove a negative. No taxpayer should have to prove a negative. I am proud to support this bill. I want to thank the gentleman from Texas (Chairman Archer) for all his help.\n",
            "\n",
            "I might say to the Senator from Vermont, if he will yield further, in my experience in trial practice before I was elected to Congress, one's curiosity was always raised when the party on the other side refused to disclose a document. You had to go to court and have a decision made by the judge in discovery as to whether they would be required to produce the document. You naturally believed, if they were holding back a document, then certainly it might be a document that would compromise their position or jeopardize their position. I would like to ask the Senator from Vermont, is it not a fact now that because of this long delay and because of this intransigence by the White House to release these documents, there is more and more curiosity as to what is contained in them? Here we have a nominee who, despite an excellent academic resume, really has little to show in terms of legal writings or things that give us an insight into why he should be selected for a lifetime appointment to the DC Circuit Court. I ask the Senator from Vermont, isn't it fairly obvious at this point that, if the White House will release these documents and start the orderly process, then we can have a final disposition of Mr. Estrada, just as soon as they respond?\n",
            "\n",
            "The Acting CHAIR. The Clerk will designate the amendment. The text of the amendment is as follows: Page 14, after line 2, insert the following: SEC. 105. APPLICABILITY CONDITION. This title shall be in effect and apply only when less than 75 percent of Federal public land is available for hunting, fishing, or recreation shooting, as determined by the Secretary of the Interior. Page 18, after line 18, insert the following: SEC. 204. APPLICABILITY CONDITION. This title shall be in effect and apply only when less than 75 percent of Federal public land (as defined section 103) is available for hunting, fishing, or recreation shooting, as determined by the Secretary of the Interior. The Acting CHAIR. Pursuant to House Resolution 614, the gentleman from Arizona (Mr. Grijalva) and a Member opposed each will control 5 minutes. The Chair recognizes the gentleman from Arizona. Chairman, the purpose of my amendment is to emphasize the point that nearly 85 percent of all public lands are already open for hunting, fishing, and recreational shooting. Whether we are talking about Fish and Wildlife Service, Bureau of Land Management--including national monuments-National Park Service lands, or Forest Service lands, in each and every case the majority are open for hunting, fishing, and recreational shooting. My amendment would only trigger the provisions in title I and II of this legislation if less than 75 percent of Federal public lands are open for hunting, fishing, and recreational shooting. I can't think of any other use that occurs on 75 percent of our public lands. I understand that some individuals are upset about some specific court decision or specific local closures, but we need to keep things in perspective. Right now, more than 4 out of 5 acres are open for hunting, fishing, and recreational shooting. Given that, do we really need Federal employees in D.C. making decisions about which lands to close or, worse yet, have Congress make that decision? My State and my district are both blessed with Federal lands. Debates occur all the time about shooting ranges, and they have been very fierce, as I mentioned earlier. Local land managers have worked with local groups and communities to come up with solutions, including providing access on other Federal lands. Unless we see significant closures across the landscape, I think we should allow local managers to make local decisions based on local input. The problem this bill claims to solve does not exist, but this amendment would allow the provisions of the bill to kick in if this problem ever actually developed. I would urge support of my amendment, and I reserve the balance of my time.\n",
            "\n",
            "President, I will put in the Record the actual funding levels, in terms of the IDEA. In 1995, it was $3.2 billion; in 1996, it was $3.2 billion; in 1997, it was $4 billion. They are numbers that have to be rounded out--$4.35 billion. In 1998, it is $4.5 billion. And in 1999, it is $5 billion; the current is $5.54 billion, and the President's request was for $5.106 billion. The total increase from 1995 to the present is, therefore, an increase from $3.2 to $5.54 billion. That is a significant increase. I say to our colleagues, much of that was attributed to our Republican friends who made it a priority. Quite frankly, we joined in that effort; I think the record would reflect that. I will say, though, that we were able to see that kind of increase while we were also able to see an increase in the other programs as well. It wasn't an either/or position. That is what I hope will result this afternoon, after we have had a good discussion and debate. We are strongly committed on this side to finding additional resources for the funding of that program. We will work with our committee chair to see how this last Supreme Court decision is going to impact local communities. I think that is enormously important. We are committing ourselves at this time, the day after that decision, to work closely, because we do think that there are going to be some very important additional burdens on local communities with that decision about the scope of the ADA, including educational and health support. I think there is going to be a call for additional help and assistance. We will certainly work with the chair to try and deal with that. I have had the chance to talk with a leader on our side, Senator Harkin, who has been such a leader on so many of these issues affecting the disabled. He is in strong support of trying to find ways to help and assist local communities as well. I am sure we will be addressing this probably later in the day. I wanted at this time to make sure that our membership understood with that decision we are going to look forward to working in a cooperative way with the chair of the committee.\n",
            "\n",
            "Speaker, I rise today to pay tribute to a distinguished colleague and a great American, Congressman George (Buddy) Darden. I want to take a moment to honor this Member--a man whom I greatly respect. Since 1983, Congressman Darden has represented the 6th Congressional District of Georgia. This Congressman has given more than 100 percent effort in representing the constituents of his district. The people of the 6th District and the State of Georgia have been blessed with the leadership of George (Buddy) Darden. Congressman Darden personifies the very best in the American tradition. He has dedicated his life to public service, first as a county prosecutor, second as a member of the Georgia House of Representatives, and third as a Member of the U.S. House of Representatives. The accomplishments of George (Buddy) Darden are many. I have known this man for several years. I know him well. He is a good and decent man. He is a leader in a truest sense of the word. He is a crusader. George (Buddy) Darden has been able to organize the unorganized. He gave many hope in a time of hopelessness. His work and his cause enhanced the dignity of humanity everywhere. George (Buddy) Darden is persistent and consistent. He has had a vision of a new America, a better America. He had a dream of what America could become. He has kept his eyes on the prize. Mr. Speaker, I rise today to pay tribute to a distinguished colleague and a great American, Congressman Don Johnson. I want to take a moment to honor this Member--a man whom I greatly admire. We honor one of the most able Members of the House of Representatives. The people of Georgia, those who believe in fairness, civil and human rights, and consumer rights will miss Congressman Johnson. He will be deeply missed, not only by the people of the 10th District of Georgia whom he served so well, but by people throughout the State of Georgia. He was a champion for the weak, for those who did not have much of a voice and for those who had very little power. I have known and admired the good work of Don Johnson. He came to the Congress in 1993 after serving with distinction in the George State Senate. During the past 2 years, we have had an opportunity to chat on many occasions about issues and problems confronting America and the world. My friend and my colleague, Congressman Johnson, took courageous stands on many of the votes he cast in the Congress. He was a Congressman who followed his conscience and did what he believed was fair and just. Don Johnson leaves this institution having made an enormous contribution to democracy. He has had a vision of a new America, a better America. He had a dream of what America could become. He has kept his eyes on the prize.\n",
            "\n",
            "She concluded as follows: The status quo in Haiti is neither tenable nor acceptable. Choices must be made. And although the choice in Haiti is complex, this choice is as simple as the choice between right and wrong. Today, the Council has made the right choice--in favor of democracy, law, dignity and relief from suffering long endured and never deserved. Mr. President, Madeleine Albright's views I think are ones that all of us can share in this body. Now, for those reasons I think we ought to try at least to speak with one voice about conditions there. The President, if it is warranted, will come before this body and ask for authorization. I would point out to my colleagues that in both the case of Panama and Grenada, no such authority was sought. Now, there the President made a case that it was of such an emergency nature that he had to act. I mentioned to my colleagues here a few weeks ago that I received a call about 1 a.m. from then Secretary of State Jim Baker. That was the consultation. Planes were in the air. Troops were already landing. Within 4 hours, I was appearing on broadcast television supporting President Bush's decision. I think it was the right one to make under those circumstances. I would hope, as we talk about the conduct of foreign policy, we would at least leave the door open here for Presidents to be able to act. Ideally, he would come before us and ask for permission ahead of time. I wish that had been done in a lot of situations around the world over the last 4 or 5 decades. But to suggest somehow that the President is prepared and ready to charge into Haiti militarily, I do not think is the case. And so I hope that we would adopt this resolution. It states the obvious. But not imply by that, necessarily, that this President has any less authority than his predecessors, including his immediate past predecessor, to use the powers of the executive as Commander in Chief to respond to situations where military force may be warranted. With that, Mr. President, again I commend the Senator from Kansas for his amendment; I am glad to cosponsor it; I hope we all do so; because it states the obvious. But let us not engage here in a debate that would suggest by implication, particularly to the leaders of Haiti, that we think that what they did in 1990-91 was tolerable, acceptable or anything with which anyone in this body ought to be associated. Mr. President, I yield 6 minutes to the distinguished chairman of the Foreign Relations Committee.\n",
            "\n",
            "Speaker, I move to suspend the rules and pass the bill (H.R. 5185) to temporarily extend the programs under the Higher Education Act of 1965, as amended. The Clerk read as follows: H.R. 5185 Be it enacted by the Senate and House of Representatives of the United States of America in Congress assembled, SECTION 1. SHORT TITLE. This Act may be cited as the ``Higher Education Extension Act of 2004''. SEC. 2. EXTENSION OF PROGRAMS. (a) Extension of Duration to Include Fiscal Year 2005.--The authorization of appropriations for, and the duration of, each program authorized under the Higher Education Act of 1965 (20 U.S.C. 1001 et seq.) shall be extended through fiscal year 2005. (b) Performance of Required and Authorized Functions.--If the Secretary of Education, a State, an institution of higher education, a guaranty agency, a lender, or another person or entity-(1) is required, in or for fiscal year 2004, to carry out certain acts or make certain determinations or payments under a program under the Higher Education Act of 1965, such acts, determinations, or payments shall be required to be carried out, made, or continued during the period of the extension under this section; or (2) is permitted or authorized, in or for fiscal year 2004, to carry out certain acts or make certain determinations or payments under a program under the Higher Education Act of 1965, such acts, determinations, or payments are permitted or authorized to be carried out, made, or continued during the period of the extension under this section. (c) Extension at Current Levels.--The amount authorized to be appropriated for a program described in subsection (a) during the period of extension under this section shall be the amount authorized to be appropriated for such program for fiscal year 2004, or the amount appropriated for such program for such fiscal year, whichever is greater. Except as provided in any amendment to the Higher Education Act of 1965 enacted during fiscal year 2005, the amount of any payment required or authorized under subsection (b) in or for fiscal year 2005 shall be determined in the same manner as the amount of the corresponding payment required or authorized in or for fiscal year 2004. (d) Advisory Committees and Other Entities Continued.--Any advisory committee, interagency organization, or other entity that was, during fiscal year 2004, authorized or required to perform any function under the Higher Education Act of 1965 (20 U.S.C. 1001 et seq.), or in relation to programs under that Act, shall continue to exist and is authorized or required, respectively, to perform such function during fiscal year 2005. (e) Additional Extension not Permitted.--Section 422 of the General Education Provisions Act (20 U.S.C. 1226a) shall not apply to further extend the authorization of appropriations for any program described in subsection (a) on the basis of the extension of such program under this section. (f) Exception.--The programs described in subsection (a) for which the authorization of appropriations, or the duration of which, is extended by this section include provisions applicable to institutions in, and students in or from, the Freely Associated States, except that those provisions shall be applicable with respect to institutions in, and students in or from, the Federated States of Micronesia and the Republic of the Marshall Islands only to the extent specified in Public Law 108-188.\n",
            "\n",
            "President, if I may say one other thing, this kind of reminds me of Roger Miller. He was a songwriter. He wrote songs which I identified with more than my friend from Pennsylvania who probably likes opera and other things. But one of the lines in one of the songs which Roger Miller wrote was pride is the chief reason for the decline in the number of husbands and wives. I think that is really true. That is what we have here. We are being prideful saying I got you and you got me. Why don't we, as adults, try to work this out so we can have a vote on overtime. We want it at 3:15. Have the leader set it any time he wants today but complete the other amendments that are important. It is a tough vote. There is no question about that. Most of them are 60vote waivers. I would like to finish this bill. I know the Presiding Officer has a real interest in this. Once we knock this out, we have eight more appropriations bills to go. We might be able to do another one this week. That would leave seven. That puts us in pretty good shape to finish all of this. We want a certain time this afternoon, but we can do it some other time. We will swallow whatever pride we have, and hopefully you folks will, and we can finish this bill.\n",
            "\n",
            "2547, a bill to designate the courthouse at 800 Market Street in Knoxville, TN, the Howard H. Baker, Jr. United States Courthouse. I am proud to be the sponsor of this bill, along with the other Members of the Tennessee delegation, and commend and thank Chairman Gilchrest. This legislation is a fitting tribute to Senator Baker's extraordinary career and public service. As you know, similar legislation to construct a new courthouse became public law in the 103d Congress. However, rather than build a new courthouse, GSA has decided, at my urging, to save the taxpayers money and move into an existing building. Therefore, it is necessary to rename the building, and I urge my colleagues to support this bill. Senator Baker was first elected to the U.S. Senate in 1966. He was the first Republican ever popularly elected to the U.S. Senate from Tennessee, and he won reelection in 1972 and 1978. Senator Baker served as minority leader of the Senate from 1977 to 1981 and majority leader from 1981 to 1985 when he chose to retire. In 1987, then President Reagan asked Senator Baker to serve as Chief of Staff to the President, at a time when the administration needed steady and seasoned leadership during the Iran-Contra controversy. In 1982, Senator Baker received the Jefferson Award for Greatest Public Service Performed by an Elected or Appointed Official. In 1984, Senator Baker received the Presidential Medal of Freedom. Since leaving Public Service, Senator Baker has been elected to numerous boards of directors of U.S. corporations. He is the recipient of honorary degrees from Yale, Dartmouth, Georgetown, Bradley, Pepperdine, and Centre College. He is currently a partner in the law firm of Baker, Donelson, Bearman and Caldwell. I am sorry to say Senator Baker's wife, Joy, passed away recently after a long and courageous battle with cancer. Mr. Chairman, I simply would say that Senator Howard H. Baker, Jr. is one of the greatest statesmen in the history of the State of Tennessee. He has been recognized a great deal here in Washington, having the former rooms of the Library of Congress named after him. But he has not received that same recognition in Tennessee. Naming this Federal building after him will be a very fitting tribute to a very great American. I urge my colleagues to support this bill in honor of my good friend and fellow Tennessean, Howard H. Baker, Jr.\n",
            "\n",
            "Speaker, I am glad we are having this discussion today because I think that we have all agreed that we do want welfare reform, and there is a bigger picture here because we will take up and have taken up H.R. 4. But today we are talking about and the leadership is offering the Wisconsin welfare plan as its model for welfare reform. If this is the ideal, then why do we continue in this body to offer a welfare plan that cuts the money necessary to achieve the very goals contained in the Wisconsin plan? Wisconsin says it want to require work, provide job training, child care, and health care. This assistance is going to cost money. In fact, Wisconsin recognizes that in order to move people from welfare to work, it is going to have to spend more money than it currently does. How can they possibly achieve their goals under H.R. 4? The Congressional Budget Office report said that H.R. 4 did not include sufficient funds to meet the work requirements in their welfare bill. How can Wisconsin then meet the more ambitious and more costly work requirements that are included in their plan? What about child care? There certainly is not enough money in H.R. 4 to provide for the level of care Wisconsin is proposing. Wisconsin's promises then probably simply will be broken. So as we have this debate and as we play the politics today on this issue, let us remember that it is possible to achieve welfare reform that cares about children. This should be our goal. Florida has a waiver request to achieve this goal. Wisconsin believes that it has a plan to reach it, as well. However, let us not kid ourselves into believing that these State initiatives are consistent with the welfare plan that has passed this body. States do want to be innovative and successful in their efforts to move people from welfare to work. President Clinton wants to help them. In fact, he has approved waivers in 38 States. Of course, we would rather have national welfare reform, but national reform is of no value unless it meets the cost of State plans. We have not done this in the bills offered on this floor. I hope that my colleagues on the other side of the aisle will consider the questions I have raised. Then maybe we can find out how Wisconsin's waiver is consistent with the Republican welfare agenda, and I would not be surprised if the answer is simply no, not the welfare agenda, only the political agenda, and I think that is sad.\n",
            "\n",
            "Speaker, I cannot imagine how more tragic life could be than to be the parent of a child and be told that their father or mother is not going to ever see them again, that he or she was killed in Iraq. This is the month of military families where we recognize military families, and the best thing we could do is to say 2,100 children having been given that information is enough, but this is also the anniversary of the Columbine massacre. At the very time when we are offering our condolences for more than 30 people being slaughtered at Virginia Tech. While it is certainly appropriate to grieve with those parents who thought they were sending a child to a nurturing, secure learning environment, only to find that their child's life was cut off before they could realize their potential, it is even more appropriate that we act and respond to these tragedies, to try to prevent them, because we know unless we can reduce the proliferation of firearms in our society, that this will continue to happen time and time again. Our words of condolences after a tragedy will be hollow unless we can stand up before the fact to the gun lobby and to those who think that we can continue to offer grievances and not change the situation. Mr. Speaker, we need to renew the assault weapon ban. We need to end the gun show loophole. We need to restrict handgun purchase to no more than one per month. We need to stop these tragedies from recurring again and again and again.\n",
            "\n",
            "Speaker, I rise in opposition to this resolution, and I do so as one who does firmly believe that we need to, as soon as we responsibly can, end our military engagement in Afghanistan. The cost is very real. I represent Joint Base Lewis-MCChord, which includes Fort Lewis Army Base, and we have lost many soldiers in Afghanistan. The families understand the cost. We need to wind down this war as quickly and as responsibly as we can. Unfortunately, this resolution does not give us the opportunity to do that. And we have clear national security interests in Afghanistan. While I may agree with many of the statements about the troubles and challenges that we face in that region, the one thing that you will hear today that I cannot agree with is the idea that we have no national security interests in Afghanistan and Pakistan, or that we somehow do not have a clear mission. We have a clear mission. We do not want the Taliban and their al Qaeda allies back in charge of Afghanistan or any significant part of Afghanistan from which they could plot attacks against us, as they are still trying to do in the parts of Pakistan that they are in. We need to get an Afghanistan Government that can stand up, and they are going to need our help to get there. Now there are many who have argued--and I am sure some on both sides of the aisle would be sympathetic with the notion that we need to reduce our commitment there--that a full-scale counterinsurgency effort, or 100,000 U.S. troops and 150,000 NATO and U.S. troops combined, is too much. Let's go with a much lighter footprint. Many have advocated that. Focuses on counterterrorism, focuses on going after the terrorists, and allows the Afghans to take the lead on everything else. And there is a plausible argument for that. This resolution does not allow that. I want the Members of this Chamber to understand this resolution requires complete withdrawal of all U.S. forces by the end of this year. And I can tell you, as the ranking member on the Armed Services Committee, that is not in the national security interest of this country.\n",
            "\n",
            "Madam President, I thank my colleague from New York and colleague from Missouri for putting in context where we are today. But let's take one step back and look at what is the issue. The issue is basic: Will the payroll tax cut that currently helps 160 million Americans continue after January 1? That is the underlying question. After all of the back and forth and politics, we believe it should. The President believes it should. Economists tell us that is the way to help us out of a recession and create more jobs. We have come up with a way to pay for it so it will not add to the deficit. Our proposal: a surtax on the wealthiest Americans, not on the first million dollars in income each year but on their second million dollars in income, a surtax. We ask across America: Do you think that is fair to ask that sacrifice? Overwhelmingly, not just Democrats, Independents, Republicans, tea party Republicans believe that is fair. But, unfortunately, many on the Republican side are indentured political servants to a Washington lobbyist named Grover Norquist. They have signed an oath that they believe supersedes any other oath, to the Constitution or to the people they represent, that they will never, ever vote for a tax increase for the wealthy--not one penny. Not one penny. So they wanted to stop the extension of this payroll tax cut for working families. They came up with a bill in the House of Representatives. The bill in the House of Representatives passed last night. It is so bad that the Senate Republicans will not let us bring it to the floor for a vote. They know what is going to happen. We saw it in the last 2 weeks. The Presiding Officer can remember. Senator Heller of Nevada put up a Republican alternative on the payroll tax cut, and on the first vote, out of 43 Republicans, 20 supported his measure, and out of the Republican leadership team, only Senator MCConnell voted for it. Clearly this is not a popular approach, even when it is written by Senate Republicans. Now the House Republican approach is so unpopular they will not even call it on the floor--so unpopular. If anyone is wondering whether we are going to get home for Christmas, they should have listened to this exchange this morning, when the Republicans refused to even call their own vote. I agree with the Senator from Missouri. We owe to it the American people to get to the bottom of this, and quickly, to assure them January 1 the payroll cut will continue for working families across America, to assure them that we will maintain unemployment benefits for the 14 million unemployed Americans struggling to find jobs--4 unemployed for every available job. It is basic that we need to do this, and if we are going to get down to it, then I am afraid our Senate Republican colleagues have to accept the reality. There comes a moment for a vote. This is the moment, the vote on whether we are going forward to make sure that we extend the payroll tax cut for working families in a fair way. That is what is at hand.\n",
            "\n",
            "Chairman, I yield myself the balance of my time. I support the manager's amendment. I'm going to speak the balance of my time on the Smith-Amash amendment coming up later. There has been a great deal of distorted information going out. I want to take this opportunity to correct some of it. First of all, the Gohmert amendment that's being offered does not solve the problem; you will still be subject to military custody and indefinite detention. It is not clear on that point; it leaves open the possibility the President will maintain that authority, and that is what this debate should be all about. The President, right now, has the authority to go outside of the normal due process, constitutionally protected rights that are part of a court trial, and lock somebody up indefinitely or place them in military custody here in the U.S. That is an extraordinary amount of power to give the executive branch over individual freedom and liberty. I don't think it is necessary to keep us safe. Ten years of successfully prosecuting, convicting, and locking up terrorists under Article III courts has proven that point. But hands down, the dumbest set of arguments I've ever heard in debating has been circulating that somehow taking away this extraordinary power from the President rewards terrorists. I would like to remind everybody--and particularly Tea Party conservatives--that just because the government arrests you doesn't mean you're guilty. Under their thinking, basically, once the government says you're a terrorist, you're a terrorist, and we shouldn't have a trial about it. So any effort to make sure that there's a process, to make sure that you actually are a terrorist becomes rewarding them. No; it's the process to make sure they are actually guilty. I cannot believe that Tea Party conservatives want to create a situation where when the government says you're guilty of a crime, that's it--no trial, no process, let's just lock you up and forget about it. That's why we have a court system. Let's have the real debate here. Does the President need this authority to keep us safe? I don't believe he does. Let's stop these ridiculous arguments about rewarding terrorists and have some respect for the Constitution and due process. With that, I yield back the balance of my time.\n",
            "\n",
            "Madam Speaker, I thank the gentleman for yielding time. I rise in opposition to the rule. I have concerns about the bill, but I will reserve a discussion of those concerns for the debate on the bill. But my concerns are about the rule itself and the terms under which we will conduct this debate. Here is the copy of the bill that we are considering today. It is 314 pages long. Here is a list of the amendments that have been offered to this bill that Members of this House would like to offer as amendments to this major important piece of legislation. There are 37 amendments, proposed amendments, on this list. The Committee on Rules decided that it would make in order only 11 of those amendments. Now one of those 11 is an amendment by the manager who has had this bill under his control from the very day it was filed. So for all practical purposes the Committee on Rules has seen fit to allow only 10 other Members to offer amendments on this important bill, and so we cannot have a full and fair and democratic debate and allow our constituents to bring their concerns about the content of this bill to the floor of the House. Madam Speaker, that is really what this rules debate is about. Some of the amendments that were not made in order by the Committee on Rules were amendments that were voted on in the Committee on the Judiciary, on which I sit, and the Committee on the Judiciary divided half and half. There are three of those amendments on the list, and we did not even have an affirmative opinion of the Committee on the Judiciary members about whether those were good or bad amendments, and now we cannot bring those amendments to the floor of the House and have a full and fair debate among our colleagues to allow all of the members to work their will on those amendments. So in a sense this debate on the rule is about what rights we have as Members of this House to have our voices heard and have the voices of our constituents heard on important legislation. Three hundred and some pages long; only 10 amendments.\n",
            "\n",
            "President, we will take a further look at the amendment and discuss this with the Senator from Arizona. Let me raise the concern my colleague from New York has already expressed. Senator Bond said it; he really gets credit for coining this phrase. Others of us have repeated this over the last number of months. And that is, what we are trying to achieve with this bill is to make it as easy as possible for people to cast a ballot in America, to exercise their most fundamental right, and simultaneously make it hard to cheat the system. My concern with the amendment of the Senator from Arizona is that it could set up a situation where, while it is protecting a voter, to some degree, from being unceremoniously denied the right to vote, it could make it much harder for that individual to actually register to vote because a State may decide that this is the only way you can register to vote. There are literally millions of people in this country who do not have a Social Security card. If that were the case, they could be denied in that State the opportunity to register. I do not think any of us want to do that. I understand if they make this one of the criteria, but we could have other criteria. That would be one set of circumstances. But as the Senator from Arizona very candidly--and I appreciate it--said in response to the Senator from New York when asked the question, Could a State then mandate this is the only criterion? we would then create a hurdle while we are trying to diminish the hurdles as much as possible.\n",
            "\n",
            "Speaker, I truly believe that liberals want to help in Medicare, Medicaid, education, the environment, just like conservatives do. Let us take the case where you tell one of your liberal constituents that you are going to have him give his money to a broker. That broker is going to take care of Medicare, Medicaid, education, and the environment. But then tell him he is only going to get 50 cents of every dollar he gets back and the other 50 cents is going to go pay for his staff and his overhead. That guy will tell you that he does not support that kind of an issue. That is what happens in this place. First place, it is not your dollar. You have to take it away from the constituent. Then you turn it around and give it back at a very low rate, for example, welfare. You only get about 30 cents on a dollar. Education, you get a very low percentage back on the dollar with 760 education programs. Mr. Speaker, what we are doing is we are giving the money back, but we are doing it without raising a single tax, and we are cutting 200 programs and streamlining government. Mr. Speaker, this is a monumental bill. It is $43 billion less than we would have had under Democratic control.\n",
            "\n",
            "President, a college education is a building block of the American dream. But with college costs rising, higher education is increasingly out of reach for many families. President Clinton deserves credit for acting on this problem, and the legislation we are introducing today will carry out the President's proposal to make college education more affordable for working families. The bill provides a tax deduction of up to $10,000 a year for college tuition costs, and it restores the deduction for interest on student loans. The deduction for tuition will be available for families earning up to $100,000 a year and individuals earning up to $70,000. It will be available for tuition at traditional 4-year colleges and universities, community colleges, and vocational and professional schools offering job training in a variety of fields. The deduction for interest on student loans is equally important, and will offer significant help to students who must borrow to go to college and who are struggling to pay off their loans and establish themselves in the working world. By contrast, the Republican contract proposes to cut over $10 billion in Federal financial aid for students over the next 5 years. In Massachusetts alone, that would mean a loss of over $100 million a year. In reality, when you read the fine print, the Contract With America is a contract against college education. Families across the country know that education is the best investment they can make in their children's future. We must do more to ease the burden of that investment, not make it harder for families to obtain it. I look forward to working with my colleagues on both side of the aisle to ensure that this important legislation becomes law. ______ By Mr. SARBANES (for himself, Mr. Byrd, Mr. Rockefeller, and Ms. Mikulski): S.J. Res. 20. A joint resolution granting the consent of Congress to a compact to provide for joint natural resource management and enforcement of laws and regulations pertaining to natural resources and boating at the Jennings Randolph Lake Project lying in Garrett County, MD and Mineral County, WV, entered into between the States of West Virginia and Maryland; to the Committee on the Judiciary. the jennings randolph lake project compact\n",
            "\n",
            "President, I wish to add my statement in support of Senator Bingaman's amendment of which I am a cosponsor. I do appreciate this 10 percent set-aside for the colonias. Colonias are places that we did not know existed in America. You would not believe it. I have walked in a colonia. They are places that people live that do not have good water, and they do not have sanitary systems or sewage treatment. They are terrible. What we are we doing with this amendment is to say that it is a priority for our country to clear those places up so that every American has the ability to live in sanitary, basically clean conditions. I support the amendment. I appreciate Senator Bond taking this amendment for us to make sure that we serve the people in need. The issue of designating a portion of border States' CDBG money for housing is one of giving proper recognition and emphasis to the development needs of severely distressed, rural and mostly unincorporated settlements located along the United States-Mexico border. Colonias are located within 150 miles of the Mexican border, in the States of Arizona, California, New Mexico, and Texas. Texas has the longest border with Mexico of any state. In 1993, Texas reported the existence of 1,193 colonias with an estimated population of 279,963 people. In 1994, New Mexico reported 34 colonias, with a population of 28,000 residents. Senator Bingaman and I believe it important to formally recognize the scale of this challenge. For fiscal year 1995, VA, HUD appropriations report language specified 10 percent of the State's share of CDBG money for housing in colonias. The conference report did not specify, ``colonias,'' but instead, folded that commitment into $400 million for a number of new initiatives. That money came under a sunset provision. It requires new action to continue the formal commitment from us at the Federal level. This does not involve any new or additional funds. It is merely a statement of urgent priority that these funds be available for housing in the colonias upon application. This money only comes from the border States' shares. It does not impinge on any other States or their resources. Mr. President, I urge we reaffirm that commitment to the people of the colonias that they are truly a part of American society and America's priorities. I urge my colleagues to support the Bingaman-Hutchison amendment.\n",
            "\n",
            "Speaker, I am pleased to be here today to speak on behalf of the Child Custody Protection Act, and I want to thank the gentlewoman from Florida (Ms. Ros-Lehtinen) for her hard work in bringing this important issue to the forefront today. I believe this Federal law is long past due. I am a parent as well. As a parent, when my children were in school, I used to have to sign a release form to allow them to go to a museum 6 blocks from the school. If they had a headache at school and they wanted to take an aspirin, that required parental consent. How can a parent think that those acts are acceptable, and yet a life-changing act like having an abortion is something that a child should and could decide on their own? We have heard some very tragic cases, and there are very tragic cases on all sides of this issue. An unwanted pregnancy in and of itself is a tragic situation, but I want to talk to my colleagues about another group of young women, of minors, that have not been discussed here today, and I think they are girls like I think I would have been had I been faced with an unwanted pregnancy when I was a teenager. I had a good relationship with my parents, I had a good relationship with my family. I still do. If I had found that I was pregnant when I was a minor, I would probably have wanted to have an abortion not because of what it would do in my life, and not because I was considering this unknown child that I was carrying, but because I would not want to hurt my mother and my father and my family. That is the wrong reason to get an abortion, and I venture to say there are many, many, many young girls out there who would get an abortion for that reason. When in the life of a girl does she need the wisdom, guidance, love and support of her parents more than when she is facing an unwanted pregnancy? While I know, I believe there are tragic situations out there that have occurred because parents, some sick parent was notified that the daughter was going to get an abortion, that is the minuscule minority. We have to look at what is best for the vast, vast majority of our young people, and facing an unwanted pregnancy and making the decision to kill one's own child when one is 12, 13, 14 years old is wrong. Those girls need their parents. They need all the love and guidance they can get. They deserve it. Let us pass this law.\n",
            "\n",
            "President, the recommendation of the Armed Services Committee is a proper, cautious, moderate increase. That is what we are talking about. The numbers are not that great, but the message is significant. The message is significant. What we have is a recommendation, developed by General Hill from SOUTHCOM, saying this is what we need to make sure we are living up to our commitment and to modestly strengthen our commitment, that we have seen success. Let's reward success. Again, in a proper, cautious way. I agree with my distinguished colleague from Michigan. That is the kind of increase we need. But we are seeing success with murder down, kidnapping down. We are seeing great courage from President Uribe. We see Colombians step to the plate. We have to maintain the pressure. We are not talking about civil war. We are talking about a battle against terrorist organizations. Winning this battle will have a direct impact on the lives of Americans. It will have a direct impact on slowing the flow of cocaine and narcotics into this country. On both sides of the aisle our colleagues are seeking the same outcome; that is, to have a proper, cautious, moderate increase in strength. But it would be wrong to send a signal to reject the recommendation, the thoughtful, reasoned, rational, proper, cautious recommendation of the Armed Services Committee on this issue. Let us send the right message and let us do the right thing by upholding the judgment of the Armed Services Committee, by not stepping back, not by placing the caps that this amendment would place. Let's reaffirm our commitment to Colombia, to the world, about fighting narcoterrorism and winning this battle. I reserve the remainder of our time.\n",
            "\n",
            "President, I thank my friend from Delaware, but I note my amendment does not allow a separated spouse to somehow shield assets because the bill already counts income of the debtors from all sources. The definition of ``current monthly income'' on page 18, lines 4 to 21, of the bill includes income from all sources. So if a battered spouse or anybody else conceal income on a bankruptcy schedule, that is a Federal crime. What I do not want is a battered wife who is getting no income from a separated spouse to suddenly, if she is out there trying to put her financial situation in order, to have to consider the income of a spouse from whom she is getting no income. I ask unanimous consent a letter from the American Academy of Matrimonial Lawyers, on behalf of a number of organizations, be printed in the Record. There being no objection, the letter was ordered to be printed in the Record, as follows: American Academy of Matrimonial Lawyers, Chicago, IL, March 15, 2001. Hon. Patrick Leahy, Ranking Minority Member, Committee on the Judiciary, Russell Senate Office Building, Washington, DC. Dear Senator Leahy: I write in strong support of your ``separated spouse'' amendment to the pending means test provisions of the bankruptcy bill not being considered by the Senate. I assume the current language in the bill is the result of an unintentional drafting error. If left uncorrected, the existing language will be draconian in its application to all single parents with children who do not have the benefit of any spousal income. It will particularly jeopardize a battered spouse who flees her home with her children. This debtor could be denied bankruptcy relief regardless of her circumstances because the bill would count her husband's income as well, even if she did not receive any money from him. The current language would impute to a single parent debtor, for purposes of a means test, the income of a separated spouse irrespective of whether the absentee spouse actually contributes any income to the household. There can be no justification that single parents with children should suffer unduly in the bankruptcy process because false and inflated income of an absentee spouse is credited to debtor spouse. I support your laudable effort to correct this oversight, which if left unrepaired, would create a severe injustice to many women, children and families across the country. Respectfully yours, Charles C. Shainberg.\n",
            "\n",
            "Speaker, I thank the distinguished chair of the terrorism subcommittee, Mr. Smith. Mr. Speaker, I rise to honor the commitment, dedication and sacrifice of the men, women and extended family of Special Operations Command. Special Operations Command is located in Tampa, Florida, at MacDill Air Force Base in my district, and I am very proud to use this week, the 20th anniversary of the command's founding, to salute their service. There is little doubt that a need still exists for the wellcoordinated special forces. There are just some things that conventional forces are not set up to do. Special forces have been around for centuries. But SOCOM can directly trace its roots to the Office of Strategic Services, the OSS, the intelligence agency that was formed during World War II. Tampa resident Art Frizzell, who is 87, served as an OSS agent. He parachuted behind German lines in France and worked with French partisans to blow up bridges and help organize the resistance during World War II. In many ways, Frizzell said, special operations were as much about brains and unconventional warfare in the 1940s as they are today. We recognized, Frizzell said, that we had to be flexible. We did the job that nobody else could do. So at this 20th anniversary, we salute the brave men and women who have served our country in the special operations, much of which you will never understand or know. But the American people trust in their service. So on this day, on behalf of the Florida's 11th District, proud home of Special Operations Command, we salute your service and thank you.\n",
            "\n",
            "President, I am fortunate to hold the seat of one of this Chamber's giants, Senator Richard B. Russell. Senator Russell understood the importance of strong agriculture policy and he once observed: ``when we strengthen American agriculture, we strengthen America.'' The failure of the Senate to complete a farm bill in 2001 was very disappointment to me. But the good news is that I believe we will pass a strong farm bill this week. One of the hottest issues in the farm bill for Georgia is the change in the current peanut program. Because there are not enough votes to sustain the quota program in Congress and because trade agreements have weakened quotas, I reluctantly agree with my colleagues that the system will be changed. I visited south Georgia this past weekend where the debate over the ending the quota program is big news. The proposed peanut program that originated in the House, bases the new program on acres determined by peanut producers, rather than by the landowning quota-holders. This shift in the peanut program, from the landowner to the producer, has caused a split among neighbors in south Georgia not seen in many years. Despite this split, I think we should make note of a fact that Senator Miller has mentioned more than once on this floor: The antipeanut program forces have not been out in force this year. You may know that in 1996, the peanut program survived in the Senate by only three votes. I have concerns about small quota-owners, such as widows, veterans, and minority farmers who depend on quotas for their income. They should not be forgotten in the rush for a new farm bill. For that reason, I offer this amendment with Senator Miller to increase the quota buyout to 12 cents a pound, each year, for 5 years. This is up from the House buyout of 10 cents per pound and will help ease the transition for thousands of retired peanut farmers who invested in peanut quota as, in effect, their pension plan. I will work to keep the Senate level of support for producers which is $400 million over the House bill for marketing loan rates and countercyclical payments. Also, the Senate farm bill contains language that I have sponsored for years to label the country-of-origin for peanuts. Because consumers should know where their peanuts are grown. All in all I believe we will pass a strong farm bill that makes sense and substantial progress in meeting the needs of family farmers and our rural communities. I yield the floor.\n",
            "\n",
            "I would like to make one point, because I know the gentleman from Michigan [Mr. Bonior] has been a leader in fighting for real health care reform in this body. Congresswoman DeLauro said we do have to make some reforms in the Medicare system. That does not mean we lessen the benefits and increase the copayments on the beneficiaries. But we do have to make some change in the delivery and the financing of real health care reform. We have to have that. That is the way we are going to stop the rising cost of health care entitlements and the impact on the national budget. We all want to be fiscally responsible, reduce the deficit, have Medicare and quality health care for all Americans. But we cannot do that the way the Republicans are proposing. And we want to keep our people healthy. And just in closing I want to point out one other cut they are making, billions of dollars in cuts in the National Institutes of Health, where we do the breast cancer research, all kinds of prostate cancer research, AIDS research, you name it, any illness that you can name that has gotten attention: Alzheimer's, Parkinson's disease, the rest of it, so in every way that you would measure the health and wellbeing of a population, they have undermined and attacked in this. And I hope the American people will respond appropriately. I thank the gentleman.\n",
            "\n",
            "Madam Speaker, I rise to express my strong support for H. Res. 32, a resolution to honor Gabby Giffords as she recovers from her injuries, to pay tribute to those who lost their lives, and to thank those who helped the injured and prevented further loss of life. This is a devastating and emotional week for all of us here in Congress, for our staff, and for America as a whole. The senseless and atrocious loss of life in Tucson has infringed upon our sense of safety and decency. It has also left us grieving for a colleague, for her staff, and for the six Americans who lost their lives last Saturday, as recited by my colleague from Hawaii just now. Representative Giffords--Gabby to so many of us--is truly a treasured Member of this body. She is a gifted legislator, frequently leading her colleagues on issues like solar energy, space endeavors, veterans health care, and comprehensive immigration reform. But Gabby is also known around Capitol Hill as a smart, generous, and unfailing dedicated public servant and friend. She is the one who would be helping to plan a baby shower for one of her colleagues, to reach across the aisle to lend a supportive hand to a colleague in need of advice or a laugh, to take time to offer a hand to a staffer after a long day at work. I also think of Gabby as a unique and all-too-rare representative in this Congress. She prefers considerate and detailed debate over harsh and angry rhetoric. She chooses her words thoughtfully, and has spoken out against violent language and the consequences such careless acts create. So I would argue if we really want to pay tribute to Gabby here today, may her service not be an exception to the rule. We in this Chamber have the opportunity to live every day by the words we are speaking today. Madam Speaker, the sorrow and grief of Saturday's tragedy will echo for many years to come. As we pray and take stock of this tragedy, I am also concerned by the ease with which a clearly troubled young man could obtain a firearm. And I believe that this incident also illuminates a serious gap in our mental health system, one where far too many ill people slip through the cracks. The price for these failings is all too often paid, as in this case, by friends and neighbors. We owe it to the victims of this horrific tragedy to improve our mental health system.\n",
            "\n",
            "I understand the Senator from Connecticut has 2 minutes reserved prior to the vote. I will use several minutes in opposition to the amendment that has been put forth by the Senator from Connecticut. I have had the opportunity to make some main points and speak in opposition to this amendment. It really boils down to two things. The first is the area of procedure. The Dodd amendment strips out what has been agreed to in a bipartisan way, Democrats, Republicans, and the White House, in negotiations that went on for days and weeks. Our colleagues absolutely must understand that this reaches into the agreement we have and strips out and really destroys a program called Straight A's, a program we feel very strongly about, a program that captures many of the fundamental reforms and principles that I believe will strongly change the nature of education so that we will no longer have this increasing achievement gap. Those principles are flexibility, accountability, and local control. The substance of what is in the underlying bill is that we have basically taken about nine categorical programs, non-title I, money for the low-income, non-title I funds. There are about 18 to 20 categorical programs. We took nine of those programs and basically said a State can apply, or a district can actually apply, and basically say we will use that money in such a way that we can identify locally with the flexibility and local control--which is so important--we will address the needs we see that are putting up a roadblock for us to educate our children. Linked to that is our agreement that the accountability of student achievement we will demand by entering into this arrangement in order to obtain those funds with such flexibility is that we are going to meet higher standards than anywhere else in the bill. That was negotiated. The other things we have not been talking about very much in terms of this whole concept of being a block grant. Let me just basically say it was negotiated that the standards are high, performance has to be demonstrated, or you drop out of that program. The second point I want to make is that we have come together to negotiate this part of the bill. The fact that you would strip out a part of the bill where people say that is just one program, it needs to be understood that of the overall funding that is in this pilot program--a pilot program we would like to see opened to all States, but, no, we negotiated if from 50 to 40 to 30 to 20 to 10 to 7; so we already negotiated the categorical programs down. We all debated and decreased that from 18 to 9, so it is as small as it can possibly be in this negotiated way. And if you remove a program that accounts for about 40 percent of the funding, that destroys Straight A's, this innovative program that is set before us. Therefore, I would argue that if our goal is to leave no child behind, we should leave at least one element of hope in this bill to capture the flexibility, the local control, and the strong accountability in which we, as Republicans, believe so strongly. Adoption of the Dodd amendment guts Straight A's, guts this flexibility, guts this local control, and guts this opportunity to truly leave no child behind. Thus, I urge defeat of this amendment by the Senator from Connecticut. The PRESIDING OFFICER (Mr. Fitzgerald). The Senator from Massachusetts.\n",
            "\n",
            "I thank the chairman of the committee for yielding to me. Mr. Chairman, I wanted to speak about this issue of child support enforcement as it relates, or actually does not relate, to today's discussion about Federal mandates. Again, I have great admiration for the sponsors of this amendment and I know about their commitment to child support enforcement, and I believe in that too. Mr. Chairman, as co-chair of the Congressional Caucus for Women's Issues, I have been working with my colleagues--particularly Representatives Johnson, Roukema, Kennelly, Norton, and others--to fashion comprehensive legislation to strengthen our Nation's flimsy child support enforcement laws. In the forthcoming days, we will introduce our legislation--the Child Support Responsibility Act of 1995--whcih will be considered on a parallel track with welfare reform. In the area of child support enforcement, Mr. Chairman, you may be surprised to learn that States have specifically asked for a mandate. They want the Federal Government to require all States to play by the same rules--to give full faith and credit to each other's child support orders; to require cooperation among squabbling State agencies; and to unify the random patchwork of State laws that make interstate enforcement incredibly difficult, often impossible. Of course, Mr. Chairman, States want Federal funding for a unifying child support system, and our bill provides it. Our legislation provides the Federal resources that States will need in order to make child support enforcement laws across the Nation work. Under the Child Support Responsibility Act of 1995, the Federal Government more than lives up to its financial obligation to the States. That is why, Mr. Chairman, I do not think that today's amendment on this subject is either necessary or appropriate. While I will always work to protect our Nation's child support enforcement program, it is clear to me that H.R. 5 already exempts Federal obligations that are funded--of which child support enforcement legislation is certainly one--and that any effort to exempt a funded program from what is supposed to be an unfunded mandates bill is illogical.\n",
            "\n",
            "The job killer that we are threatening tonight has nothing to do with the medical device tax. It has to do with our giving up our responsibilities. The idea that we would threaten the full faith and credit of the United States is the issue that's in front of us. We negotiated that medical device tax. It was originally proposed at 5 percent, and we cut it to 2.3 percent, in addition to which, based upon an industry request, we extended it to foreign competition. Now, an issue that has been conveniently left out of this discussion is: Who is the biggest purchaser of medical devices? Medicare. By expanding the Affordable Care Act, we are going to have more customers who are going to purchase more medical devices. That's the reality actuarially of what we are discussing tonight. This notion that you can separate the revenue portion from the overall legislation is ill-considered, and everybody knows it. This was negotiated in the full light of day--thoroughly discussed. Return to the argument I made a moment ago. If you're interested in not killing jobs, stop this ruse that you're playing on the American people tonight and with the full faith and credit of the United States--with the debt obligations that we have.\n",
            "\n",
            "Speaker, throughout the country, Native American languages are experiencing a rapid decline. Of the nearly 300 native languages of the United States, only 210 are still spoken, and all too often these languages are spoken only among the elderly. This is a particularly troubling development, given the importance of Native American languages to tribal identity and culture. As such, I was pleased that Congresswoman Heather Wilson introduced H.R. 4766, the Native American Languages Preservation Act, which would provide federal support for programs that provide language training for young children and their families. I would also like to recognize Chairman Buck MCKeon for the expedited manner in which he has moved this legislation. On August 31st, I had the opportunity to travel to Albuquerque, New Mexico, to participate in a hearing held by the Education and the Workforce Committee on the ``Recovery and Preservation of Native American Languages''. We heard from representatives of several tribes regarding their experiences with this problem and ways in which they have attempted to preserve their native languages. Fortunately, efforts are underway to save these languages and to encourage a new generation of Native Americans to keep their languages alive as an integral part of Native American culture and identity. I was particularly pleased that a representative from the Oneida Nation of my home state of Wisconsin was able to testify at this hearing. The Oneida have made language preservation a priority by pairing Elder native speakers with younger English-speakers to train a new generation to appreciate and preserve the traditional language. Since 1996, the Oneida have developed a Language Revitalization Program to connect their fluent Elders with trainees in a semi-immersion process that would produce speakers, and most importantly, teachers of the Oneida language. Although tribes like the Oneida have already begun to develop programs to preserve their own languages, Congress can help other tribes create programs of their own. H.R. 4766 will provide more options for revitalization programs and take advantage of existing grants within the Administration for Native Americans Office. Mr. Speaker, I urge support for this bill and for the revitalization of native languages.\n",
            "\n",
            "Speaker, I move to suspend the rules and pass the bill (H.R. 2853) to require the purchase of domestically made flags of the United States of America for use by the Federal Government, as amended. The Clerk read the title of the bill. The text of the bill is as follows: H.R. 2853 Be it enacted by the Senate and House of Representatives of the United States of America in Congress assembled, SECTION 1. SHORT TITLE. This Act may be cited as the ``All-American Flag Act''. SEC. 2. REQUIREMENT FOR PURCHASE OF DOMESTICALLY MADE UNITED STATES FLAGS FOR USE BY FEDERAL GOVERNMENT. Only such flags of the United States of America, regardless of size, that are 100 percent manufactured in the United States, from articles, materials, or supplies 100 percent of which are grown, produced, or manufactured in the United States, may be acquired for use by the Federal Government. SEC. 3. REQUIREMENT TO USE WORKERS AUTHORIZED TO WORK IN THE UNITED STATES. In carrying out section 2, the Federal Government may purchase flags only from a manufacturer that certifies that-(1) the manufacturer does not employ aliens who are not authorized to be employed in the United States; and (2) the manufacturer participates in the E-Verify Program under section 401 of the Illegal Immigration Reform and Immigrant Responsibility Act of 1996 (8 U.S.C. 1324a note). SEC. 4. EFFECTIVE DATE. Section 2 shall apply to purchases of flags made on or after 180 days after the date of the enactment of this Act.\n",
            "\n",
            "All of this effort to get the floor and I will yield right away? Absolutely not. The point of the time is not to show what they have gotten is valuable. The time is in order to enable them to conduct an investigation. They got the order initially because they showed a judge, an impartial magistrate, that there was a reason to think if the target knew, it would impede the investigation. I will let my 98 colleagues evaluate whether that is a compromise on civil liberties. The letter which the Senator from Idaho refers to, which was filed yesterday and printed in the Record, I have already put the reply into the Record, which we circulated today. In that letter, the assertion made that the Foreign Intelligence Surveillance Court is not permitted to make an individualized decision about whether to impose a gag order when it issues a section 215 order is incorrect. That is not right. The statute provides there may be a petition to have the court review the 215 order and the Foreign Intelligence Surveillance Court has the authority at that point to say there will be no gag order. When the Senator from Idaho puts in his letter that they want a sunset on the national security letter, I point out to him the PATRIOT Act does not establish the national security letter. That has been in existence for decades.\n",
            "\n",
            "President, let me give my colleague from North Dakota kind of a two-part answer to that question; first of all, farmers and citizens in the community are speaking out, because this is all about rural America. It is a strong and clear voice saying: You have to change the policy. This is not working. We are going under. We cannot get a decent price for what we produce. We cannot cash-flow. So I can very honestly, truthfully say not at one farm gathering anywhere in Minnesota, and I was at a lot of them that not just the farmers showed up at these gatherings. It was farmers bankers, business people, implement dealers, and clergy. It was the community. I promise you, that in the parts of the State I visited approximately fifty percent of the crowd was Republican. But not one of them was defending this farm policy, this Freedom to Farm or ``freedom to fail.'' The second thing I said on the floor of the Senate, and my colleague might want to ask me a follow-up question, I do not see how anybody in the Senate or House of Representatives who has been out there with people can say stay the course. You cannot. We have to change the course. There is just no question about it. I do not care if we call it a modification. You know what I mean. We can go over it. People can talk about a modification; they can talk about a correction. I used to hear people on the floor of the Senate say ``stay the course.'' I do not hear them saying ``stay the course'' anymore. I say to my colleague from North Dakota, the reason I am out here for a while is because I want to make it clear that we want an opportunity to be on this floor with legislation that will make a difference, that will raise the loan rate, get the price up, deal with the problems of all the acquisitions and mergers, and try to put free enterprise back into the food industry. We want to make a difference in order to get this emergency financial assistance package passed. We want to be out here, and we want that opportunity. The second thing I was saying is that in no way, shape, or form should we adjourn without addressing this crisis. I cannot believe when I read in the papers there is this discussion about leaving. I cannot believe there are people who are saying let's get out of here as soon as possible. No, we have work to do. We should not leave until we take the responsibility as legislators, as Senators who represent our States, to write a new farm bill or make the corrections or modifications that will deal with the price; that will give people a chance to farm and stay on their land. My colleague is absolutely right with his question. He is right on the mark.\n",
            "\n",
            "Mr. Speaker, I rise to join many of my colleagues today in opposing the President's veto of H.R. 810. I do so reluctantly. I think the overriding of a veto of any President should be undertaken with caution, but in this case I believe it is necessary. When the House considered this bill last year, our debate focused on the ethical dilemmas of embryonic stem cell research. Those dilemmas are real, and they've been thoroughly addressed in the bill we passed. What hasn't been noted enough, however, is the importance this bill has for American innovation. The President himself has written--quote-``Through America's investments in science and technology, we have revolutionized our economy and changed the world for the better. Groundbreaking ideas generated by innovative minds in the private and public sectors have paid enormous dividends--improving the lives and livelihoods of generations of Americans.'' These words are true--and to his credit, the President has backed them up with his American Competitiveness Initiative, a set of proposals that every Member in this House has embraced. So I ask my colleagues: what field will prove more crucial to American competitiveness, to human well-being, to economic growth, than the biological sciences? And what area of research holds more promise in the biological sciences than stem cells? Over the past two decades, three-quarters of the researchers who have won the Nobel Prize in medicine have studied or taught in the United States. Can we really expect to retain the global leadership if we can't even pass a bill, a thoughtful, bipartisan bill, that assures the moral study of embryonic stem cells? ``Assures.'' I use the word deliberately, because no other nation will meet, let alone exceed, the ethical guidelines and constraints embodied in Castle-DeGette. Each of us knows that. The sooner we pass this bill into law, the sooner America becomes the hub for this research, the sooner our ethical standards become the de facto standards governing stem cell science around the world. So Castle-DeGette isn't just about taking the scientific lead on embryonic stem cells, it is about taking the moral lead, setting an ethical standard for research that will take place whether this bill becomes law or not. I urge my colleagues to override this veto.\n",
            "\n",
            "Madam Speaker, I stand here today with my colleagues to support the dedication of a meeting room in the Capitol Visitors Center to Gabe Zimmerman, a man known for seeking to bring healthy political discourse through civil service. I would first like to reaffirm my condolences to Gabe's family and loved ones for their loss. He will be missed. Both a devoted congressional aide and a community leader, Gabe served Congresswoman Gabby Giffords' district with a smile and a willingness to go above and beyond in assisting both his office and his fellow citizens. With an extroverted personality and a deep concern for others' well-being, Congresswoman Giffords has noted that Zimmerman became the go-to person for constituents in the district. He was what you call back home ``good people.'' We can all appreciate and learn from Gabe that representing our citizens means going beyond what is asked of us to assist them. Gabe Zimmerman lived this mantra day by day. It is with great respect that I support this bill to dedicate this place of meeting in honor of a man who lost his life through a senseless act of violence. I join the Arizona delegation in hoping that his sacrifice and the principles of his public service are remembered and honored by all of those who seek to make our Nation a better place.\n",
            "\n",
            "President, I rise in support of the amendment offered by Senator Murray to restore funding for Amtrak for the remainder of this fiscal year. The underlying amendment before the Senate includes a $374 million cut in Amtrak relative to the level approved on a bipartisan basis by the Senate Appropriations Committee last year, and relative to the level requested by Amtrak. Amtrak tells us that if this cut remains in place, Amtrak would have to shut down as early as March. This amendment would restore Amtrak funding to $1.2 billion, the level it needs, and the level that originally was approved by the Appropriations Committee. It is absolutely critical that we approve this amendment, and save Amtrak from bankruptcy. I am sure I don't need to remind my colleagues how important it was to have a national intercity rail system in the immediate aftermath of September 11th. On that terrible day, our commercial aviation system was shut down, stranding thousands of travelers. Meanwhile, Amtrak ridership surged, as thousands of people took Amtrak to get home to their loved ones. It has been clear from that day that we can never afford to let this vital lifeline be shut down. A shutdown of Amtrak would have an especially devastating effect on commuters in my State of New Jersey; that is because Amtrak owns the Northeast Corridor, upon which many trains of New Jersey Transit also depend. So an Amtrak shutdown would not only inconvenience the many New Jerseyans who depend on Amtrak directly, but it would force more than 80,000 riders of New Jersey Transit to find another way to work. The end result clearly would be a disaster for New Jersey. Amtrak badly needs a guarantee of the financial assistance that will allow it to survive. Senator Murray's amendment would help ensure Amtrak's operations for the remainder of the fiscal year. We should approve it today. And then, before too long, we should take up and pass the National Defense Rail Act of 2003. That bill would authorize $35 billion to maintain and further develop our passenger rail system. It also would provide more than $800 million for vital safety improvements to the tunnels under the Hudson River that connect New Jersey with New York City. These tunnels are used on a daily basis by over 300,000 New Jerseyans. I was proud to get $100 million to begin work on these tunnels in the supplemental defense appropriations bill signed by the President last year. But we need to do more. In conclusion, I urge my colleagues to support the Murray Amendment. It is absolutely critical that Amtrak remains a safe and viable transportation alternative in the 21st century. And only by adopting this amendment can we make that happen.\n",
            "\n",
            "Madam Speaker, I thank the gentleman from Ohio for yielding me time. As chairman of the Science, Space, and Technology Committee, I would like to focus my remarks on the role of science and technology in Republicans' all-of-the-above energy strategy. The Science Committee has oversight responsibility in two relevant areas. The committee oversees $8.5 billion of the Department of Energy's research and development funding. If we want to ensure that Americans have access to the affordable and reliable energy they need, we must strengthen DOE scientific research programs and EPA scientific integrity principles. And that is what we intend to do this Congress. As part of this process, the Science Committee expects to reauthorize the America COMPETES Act. A central component of that legislation is $5 billion to the Department of Energy Office of Science, which maintains world-class research facilities through the National Laboratories. The office also supports innovative research that will help transform how we produce and consume energy. We will also pursue energy legislation that improves prioritization and management of specific programs, from energy efficiency and renewable energy to nuclear, coal, oil, and natural gas. The Science Committee recently received testimony that highlighted the massive costs and duplication of Federal subsidies for alternate forms of energy. The administration should not pick winners and give subsidies to favored companies that promote uncompetitive technologies. This too often leads to waste and bankruptcy, as we witnessed with Solyndra and other companies. Instead, we should focus our resources on research and development that will produce technologies that will enable alternative energy sources to become economically competitive without the need for subsidies. Finally, we need to fix the EPA, which continues to levy numerous regulations that burden employers. Under the Obama administration, the EPA has aggressively sought to regulate nearly every aspect of the energy industry. It implements rules that burden employers and kill jobs. Insulting the taxpayers who fund the EPA, the administration refuses to release the scientific data upon which these burdensome regulations are based. This is entirely inconsistent with the President's stated commitment to lead the most open and transparent administration in history. The committee will continue to work to ensure that the EPA lives up to the President's transparency standard. The American people deserve to know all the facts, particularly since EPA regulations on the energy sector have a direct impact on their daily lives. For example, the EPA has opposed a technological innovation that provides good-paying jobs for many Americans. The fracking revolution is changing the nature of American energy production. Hundreds of communities directly benefit from the economic turnaround due to energy production made possible by the fracking technology. These locations range from North Dakota to Pennsylvania to Texas. These States' household income growth and low unemployment is a direct result of revolutionary technology developments combined with sound energy policy and oversight at the State level. Madam Speaker, on the Science Committee, we aim to ensure that Americans reap the benefits of this current energy technology revolution, and the Science Committee will do its part.\n",
            "\n",
            "Madam Speaker, I rise today to celebrate a very, very special birthday. It is the 50th birthday of the United States Peace Corps, an incredible organization that was started by President John F. Kennedy and a whole lot of people that thought that this Nation had an opportunity to reach out to the men and women of America, provide them with a challenge: to go out to the world to seek peace, to work for peace, and to help developing nations meet their needs, whether it be in education, community development, economic development, or other activities. And so it has been. More than 200,000 Americans, young and old, men and women, have become Peace Corps volunteers. They have served in 139 countries around the world, and today they serve in over 70 countries. It's been a terrific program. It has presented the very best face of America to millions of people around the world. Today, there are leaders of many countries around this world that have been taught by Peace Corps volunteers in their high schools, in their grammar schools or universities. They have a very special understanding of America. They know Americans. They know that Americans have a big heart and they have a desire to see progress, economic and social progress in every country of this world. And so today we celebrate 50 years. We celebrate over 200,000 Peace Corps volunteers that have served around the world, and we celebrate those who have been in the administration, the directors, the country directors, the doctors, the nurses, and the others who have been part of this enormously important part of America. As those Peace Corps volunteers have returned to America, it is now clear in recent polling that they have continued to serve. They serve as volunteers at twice the rate of other Americans. And they are found in the schools, they are found in the community programs, and they're even found in Congress, as strange as that might seem. But, nonetheless, they've served in many, many ways, and they continue to do so. Earlier today, I met two Peace Corps volunteers who were in the very first effort in Tanzania, then Tanganyika. They returned some 40 years later. I'm going to turn that around. They actually served in Afghanistan in the early sixties and then came back 40 years later to serve once again as Peace Corps volunteers. And what we have found over these many years, that once you've become a Peace Corps volunteer, you never stop laboring for peace, wherever it may be. And so today we celebrate the 50th anniversary of a remarkable idea that was put forward by President John F. Kennedy, the idea that Americans could reach out to the whole world and serve wherever that need might be. Happy birthday, Peace Corps. Announcement by the Speaker Pro Tempore\n",
            "\n",
            "I was listening to the minority leader's comments very carefully in my office, and I ran over here. I apologize for being a little short of breath. I just want to refresh everybody's memory about what happened in 2000 and 2001 and to point out the empirical fact that there have been no statewide blackouts or brownouts in California since, frankly, the Republican-dominated FERC got put into place. First of all, the law was very clear. When the previous administration was in control, these same complaints were uttered, the same concerns were brought to the floor, and the same response was given by FERC down to the last period or punctuation mark. You got no more response from the FERC under Clinton-Gore than you are complaining about today. The reason is that the law is clear. If you are unhappy about that, change the law. The prohibition of funds that the gentlewoman is asking for here will not do one thing to create another megawatt of power for California. It will not do a single thing to help us replace the carbon-based, highpolluting facilities that exist in California today with much more efficient and less adverse impact to the environment. It does not do a single thing to reduce the pricing that the California PUC board regulates which is dominated by appointees of former Governor Gray Davis. It does not do a single thing to solve the problem on forward contracting for investor-owned utilities. I repeat my invitation. I said Horatio earlier. I meant Hannibal. Rather than acting as Hannibal at the gates to the valley of solutions, stopping us from entering, come over and join us. Help us put in place the infrastructure and the technology that California is so good at creating. Help us put that in place to create the megawatts of power that our people need and our factories depend upon. Help us bring power to the peninsula of San Francisco which is probably one of the most difficult places to get power to in the entire United States. Help us eliminate the variability in power that Santa Clara depends upon. Help us bring power to our food processors up and down the State where agriculture remains the largest industry. Abandon this Hannibal at the gates concept and come over here and help us. Instead of haranguing us about past history and attempting to rewrite it, come over here and propose your solutions. This is not a witch-hunt. It should not be a witch-hunt. The response you are getting today is the same response you got under Clinton-Gore. The law is very clear about what FERC's prerogatives are. So come over here and help us find solutions. Help us create the technology and put it in place that allows us to create power at less adverse impact to our environment. I know you are environmentalists. I know you are, because I watch you very carefully. One of my models on environmental issues is the gentleman from California (Mr. George Miller), one of your fine, outstanding Members and one of your leaders. Help us put that technology in place and make California's environment even more suitable for our use. I know that PG&E is based in San Francisco. They have just gone through a horrendous bankruptcy. I know the gentlewoman as the minority leader is very curious about the outcome. I am trying to find solutions. We need to work together on this.\n",
            "\n",
            "Speaker, I think with the eloquence of many who have spoken here on both sides, it is important to remember what happened 9 years ago in Tiananmen Square. The people must remember. The U.S. Congress must remember. The President of the United States and, yes, the Chinese people and government must remember. But I have got to ask, too, why do we not remember and remember how important it is to engage? Would anyone have seriously suggested that Presidents Reagan or Bush or Ford or Carter, going all the way back, should never have gone to Moscow to meet with the Soviet Union, now, of course, the Russians, because of the gulags, because of the Korean Air 007 shooting down, because of the oppression in Afghanistan and countless other countries? Of course not. We knew they had to go. Or Richard Nixon, should he not have gone to China? Talk about human rights violations. Mao Tse-tung and the Red Guard were running in full bloom at the time. Millions massacred, millions incarcerated. Deng Xiaoping himself, a later leader of China, was being subjected to imprisonment by the Red Guard, but we had to engage. The President of the United States standing in Tiananmen Square does not gloss over what happened there; it highlights it. It highlights it because of the attention it draws, and I think President Clinton will stand well in representing what Americans believe. We have to look at this trip in the entirety, not in separate events. And that is what I think is important, is what does the President come back with? Finally, I am a little tired of micromanaging by Congress. I am tired when the Speaker of the House goes to Israel and decides it is okay to bash foreign policy on foreign soil. I am tired of Congress trying to micromanage the foreign policy of this country. It is fair to hold the President accountable, but let the President do what the Constitution says he is to do. Many, and I am one of them who has supported MFN status, but I would be insulted if someone tried to say that business was trumping blood in that situation. So it is that I feel the President should be given the leeway and the discretion to do what he knows is fair to be done, and then it is fair to judge him on the entirety. Mr. Speaker, I urge rejection of this resolution.\n",
            "\n",
            "Speaker, I thank the gentleman for yielding me the time, and I congratulate the chairman for a job well done. I want to thank the leadership, also, for sticking with their commitment to require printing and dyeing and finishing of textiles to remain in the United States. I am speaking today in support of the Supplemental Appropriations Act Conference Report, because it is a victory for the textile industry and at no cost to the Government. In the 1970s and 1980s, 13 small towns in Western North Carolina attracted printing, dyeing and finishing jobs to their communities. These towns sold bonds to pay for the necessary water and sewer infrastructure, while textile companies built plants whose taxes would pay for those bonds. Since this manufacturing method had a low labor content and high value added content, these firms expected to remain competitive. All was well until the textile industry started leaving because of lower labor costs around the world. The printing and dyeing and finishing jobs also started leaving, resulting in what we call stranded bonds investment without a manufacturing base to pay for the bonds. Local water-sewer rates have exploded to cover the costs. With the new commitment requiring that printing, dyeing and finishing remain in the United States, these small towns will have available attractive facilities for economic development and taxable investment to pay for the bond expense while enhancing employment opportunities. I urge my colleagues to join me in voting for the conference report on H.R. 4775. The small towns of North Carolina thank my colleagues.\n",
            "\n",
            "The release of the Taliban Five, in violation of a law that President Obama himself signed, is among the greatest examples of this administration's disregard of the Constitution. It reflects contempt for this Congress and for the people who are represented here. Worst of all, his actions have emboldened Islamic militants and endangered American service personnel and civilians around the world. Five years ago, when I first came to Congress, the President announced his intentions to close the terrorist detention facility at Guantanamo Bay. The Justice Department went shopping for a prison back in my State of Illinois to relocate those most dangerous and hardened enemy combatants from the wars in Afghanistan and Iraq. Back then, Democrats had a majority in this House and a supermajority in the United States Senate. Even then, the President could not get authority from this Congress, controlled by his party in both chambers, to empty Guantanamo and move terrorists even detained back here to United States soil. It is one thing for the President to defy any old law. It is another thing for the President to defy the very laws that he, himself, signed into law, but President Obama has gone even further. By refusing to notify Congress of his intention to open the gates at GTMO and thus avoiding the anticipated political pressure that his carelessness would invite, the President has done the unthinkable. He has negotiated with terrorists, plain and simple. I would say that he has abused the office and the power which comes with it, except in this case he has done something that he doesn't even have the power to do. Tomorrow night the President will address the Nation about his latest strategy to deal with Islamic jihadists, but I would suggest that the world has seen enough about how this administration deals with terrorists and nothing he says tomorrow night can hide the growing sense among jihadists around the world that they finally have an American President who will negotiate with them. It is important for Congress to tell the world where we stand. I urge my colleagues to vote ``yes'' on today's resolution.\n",
            "\n",
            "Chairman, I thank my friend for yielding me the time. Mr. Chairman, I rise in strong opposition to the campus gag rule, which the Solomon amendment encompasses. Mr. Chairman, this is the Congress of devolution. We are being told relentlessly day after day that we should shift back to the Government that is closest to the people the responsibility for self-Government. Here is a good example of where, when we discover we are not happy with some decisions made at the level of Government closest to the students in this country, on the campus, we are going to intervene and somehow reverse our thrust and go back in the direction of imposing a standard from the Federal level on every campus institution across this country. This is really thin skinned of us. Obviously students are people who at their level of development have many different views that clash with the established view. Many of us will be picketed on campuses because we are for the moment politically incorrect. What are we doing here? We are speaking out in a way that only we have the authority to stifle that dissent. I think it is really shameful that we would be so thin skinned that we cannot stand the battle of ideas in the marketplace that a campus represents in our society. We should be encouraging young people to be involved in their selfgovernment. We should be encouraging them to enter into the debate. We have so many sitting on the sidelines who do not have the interest, let alone the initiative, to start taking on the responsibility of selfgovernment. What are we doing here? We are simply telling student governments around the country who they can and cannot fund. In our zeal to get at one group, the public interest research groups, because we do not like their lineage--and I share the problems the gentleman from Wisconsin [Mr. Obey] has with the great Mr. Nader--we have overshot the mark. We have hit organizations across the spectrum, pro-life groups and pro-choice groups, all kinds of groups, students working at Amnesty International, students working in Habitat for Humanity, students involved in hunger issues. Any kind of activism which has benefited from the decision of a student government to fund their activities has been swept up into this gag rule amendment. This is something we ought to repudiate in the context of what so many of us have said as we paraphrase Voltaire: ``I disapprove of what you say but I will defend to the death your right to say it.'' That is a pretty basic tenet of democracy. There is nothing here that avoids the fact that we want to be big government nannyist censors. We want to tell people what they can join, what they can be involved in and how they can, in their own selfgovernment on these campuses, decide to fund them. It is not the right time, it is the wrong time for us to enter into this. It ought to be put to death on a bipartisan basis, as it was in committee, after an extensive debate on a 2-to-1 bipartisan vote. I know there are many who will speak today in behalf of academic freedom. I think we are just simply asking for young people to be able to exercise their basic right to a representative form of democracy. Vote down the Solomon gag rule amendment.\n",
            "\n",
            "Speaker, I would just like to quickly respond to my colleague from Kentucky. Number one, the association that represents the Federal employees does support this provision. They are on record. Second, my colleague accused me of being selfish. I strongly endorse the provision of the gentlewoman from Florida (Mrs. Meek), and I would hope that it would be in the bill. The reason the contraceptive provision is the motion to recommit is that provision did pass the House and the Senate; it was in the conference, and so it really is quite undemocratic to take it out. Last, I just want to say that I just have one brother. I have 3 children, and maybe I did not have to share everything with 11, but I have learned that democracy should work in this body, as a Member who has been here for 10 years, and I still think, in closing, it is outrageous that a provision that passed the Senate and the House and the conference should be taken out. We could have a longer debate about what should and should not be in a health benefit plan, but this has been supported by the association that represents these employees.\n",
            "\n",
            "Speaker, I thank the gentleman for yielding time to me. Mr. Speaker, I rise in strong support of this rule, as well as strong support of this historic legislation, the Social Security and Medicare Safe Deposit Box Act of 1999. How many of us over the last 30 years, and I have only been in the House and had the privilege of serving here for the last 4\\1/2\\ years, have been asked in town meetings and senior citizens centers, union halls, VFWs, and other public forums, when is Washington going to stop dipping into, when is Washington going to stop raiding the social security trust fund to spend social security on other things other than social security? Today we are going to pass legislation that will do that, that will stop the raid on social security. Let us review the history here. For over 30 years now Washington has been dipping into the social security fund. Regardless of the rhetoric on the other side where they say it has not, it has gone on. Back when President Johnson and the Democrat-controlled Congress 30 years ago began raiding the social security trust fund, they have run up quite a bill. According to the social security trustees appointed by President Clinton, the social security trust fund has been raided by more than $730 billion over the last 30 years. I have a check here written on the social security trust fund. It is a blank check. Washington for the last 30 years has used the social security trust fund as a slush fund and as a blank check to pay for other programs. This walls off the social security trust fund and puts a stop for those who want to raid it. We set aside those funds for social security and for Medicare. I believe that is an important first step, setting aside 100 percent of social security and locking it away before we consider any other reforms or changes to social security. Let us lock it away first. That is an important first step. We can use those funds to strengthen Medicare and social security. This legislation accomplishes this goal. I would like to point out, of course, that not only is the social security and Medicare Safe Deposit Box a centerpiece of this year's balanced budget, but there is a big difference between the Clinton-Gore Democratic budget and the Republican budget. The Republican budget sets aside 100 percent of social security for social security. The $137 billion social security surplus this year will go to social security. If we compare that with the Clinton-Gore Democrat budget, that only uses 62 percent of social security for social security, and the Clinton-Gore Democrat budget spends $52 billion of social security money on other things; all good programs: Education, defense, things like that. But the Clinton-Gore Democrat budget raids the social security trust fund. This lockbox will prevent the Clinton-Gore raid on social security. I would also point out that the social security and Medicare safe deposit box sets aside $1.8 trillion. The President talks about 62 percent. Sixty-two percent is $1.3 billion. Over the next 10 years Clinton-Gore will raid the social security trust fund by $12 billion. Let us put a stop to it.\n",
            "\n",
            "Chairman, I just listened to the previous speaker speak, and since 1943, there was an Effigy Mounds National Monument by Mr. Truman of 1,481 acres; Russell Cave National Monument, 310 acres by President Kennedy; Buck Island Reef National Monument, 850 acres by Mr. Kennedy; Chesapeake & Ohio Canal National Monument, 19,236 acres historical; Marble Canyon National Monument, 26,000 scientific, by Mr. Johnson; 1978, and the reason I am speaking, the Alaska Monuments, 56 million acres; and then, of course, the Grand StaircaseEscalante National Monument, 1,700,000 acres. Both of those, the Alaska one and the Escalante, were for political purposes only and that is all. We talk about robber barons. What about the coal deposits in that area that are now set aside so that people of every day can benefit from them? It is ironic that there are some other people at that time also interested in coal in foreign countries. This was used for political purposes only. There was no consultation, even with Mr. Orton, who was one of their colleagues. He got shot in the foot, in the head, and the back by his President for the environmental community. The bill we have before us today is a bill that will work. Fifty thousand acres is bigger than any other ones, than the political ones in Utah and Alaska. The true monuments, the true antiquities acts, have been applied with less acreage than is in this bill. This is a fairness bill. This is about if there is that much threat to an area, it can be saved by the President. If it is larger than that, and God help us, it never will be larger than that, they can come to the Congress. I am surprised the gentleman from Minnesota [Mr. Vento] wants to give away the authority of this Congress, because under this Constitution, only this Congress can designate and classify lands. The gentleman also said, we can come back and undo what they did in Escalante. With this President, who are they kidding? It will never get signed into law. Do my colleagues know what they did to me in Alaska? After 56 million acres, they came back with Mo Udall, bless his heart, John Seiberling, a few others I can mention, and they set aside 147 million acres of land, took it away from the people of Alaska, took it away from the people of America, and put it in little classified areas so that only a few and the elite can get to see. This is not what the Antiquities Act is all about. I am suggesting, respectfully, if we really want to save the Antiquities Act, if we really want to make it work, then we ought to take and adopt this bill. It is a fairness bill. It is a bill that does allow the President, by the stroke of a pen, to set aside 50,000 acres. If he wants more, he has to come back to us. And that is our role, and that is what we should be doing. This is a good bill, and I urge a ``yes'' on this legislation.\n",
            "\n",
            "Chairman, I would like to thank my colleagues as well, the gentleman from Ohio (Mr. Boehner), the chair of the committee, and the gentleman from California (Mr. George Miller), our ranking member. As a freshman Member of Congress, it has been an exciting time for me and a challenge to serve on the House Committee on Education and the Workforce, working to draft a bipartisan education bill which truly will help students in California and throughout the country. I have been touring the schools in my district to find out exactly what our teachers, administrators, parents and students really need in terms of help from the Federal Government. I think the bill that was reported out of our Committee on Education and the Workforce makes an excellent start towards helping our students achieve success. I am pleased with the increased funding levels of title I, and the increase targeting of funds to low-income and at-risk students. I am also extremely happy with what was not in the bill, and that is, private vouchers. Although I am happy with the bill, I do have some concerns. I had hoped that the Republican leadership would have allowed Democrats the opportunity to improve the bill through amendments. I had hoped that school construction, an amendment that was offered by the gentleman from New York (Mr. Owens) would have had some consideration today. Likewise, I also wanted to offer an amendment to allow community learning centers to use their funds to implement programs which would help immigrant students with language and life skills. Unfortunately, we were not allowed to offer these amendments. I have several concerns with portions of the bill dealing with bilingual and immigrant education. I believe we must dramatically increase funding for bilingual and migrant education in order to meet the needs of States which are experiencing a large influx of immigrant and bilingual students. Also, the bill recommends that students be moved out of bilingual classrooms and into English-only programs within a matter of 3 years. I believe this provision is overly restrictive and has no basis in academic research. I am also unhappy that the bill requires school districts to try and receive a parent's permission before putting a child into a bilingual education program. Requiring parents to ``opt-in'' in order to place their children in bilingual education is truly unfair. Mr. Chairman, I think we have a very good education bill before us, given that we did work in a bipartisan effort. I know that some of my Republican colleagues will be offering amendments to add private school vouchers and to also continue the block grant effort. I would urge my colleagues to oppose those amendments and to stay with the base of the bill.\n",
            "\n"
          ]
        }
      ]
    },
    {
      "cell_type": "markdown",
      "source": [
        "<br><br><br><br>\n",
        "\n",
        "## **Topic model results**\n",
        "\n",
        "For fun, let's topic model our data and see if there are clear patterns showing that people tell more stories for certain topics."
      ],
      "metadata": {
        "id": "2y0u2F9gEJlw"
      }
    },
    {
      "cell_type": "code",
      "source": [
        "!pip install tomotopy"
      ],
      "metadata": {
        "colab": {
          "base_uri": "https://localhost:8080/"
        },
        "id": "Xksw-DfBEPf1",
        "outputId": "fa399511-72f0-4f82-916c-8f4579e3f93d"
      },
      "execution_count": null,
      "outputs": [
        {
          "output_type": "stream",
          "name": "stdout",
          "text": [
            "Requirement already satisfied: tomotopy in /usr/local/lib/python3.11/dist-packages (0.13.0)\n",
            "Requirement already satisfied: numpy<2,>=1.11.0 in /usr/local/lib/python3.11/dist-packages (from tomotopy) (1.26.4)\n"
          ]
        }
      ]
    },
    {
      "cell_type": "code",
      "source": [
        "import tomotopy as tp\n",
        "import re"
      ],
      "metadata": {
        "id": "X2j_41-UEFwl"
      },
      "execution_count": null,
      "outputs": []
    },
    {
      "cell_type": "code",
      "source": [
        "STOPS = ['i', 'me', 'my', 'myself', 'we', 'our', 'ours', 'ourselves', 'you', 'your', 'yours',\n",
        "         'yourself', 'yourselves', 'he', 'him', 'his', 'himself', 'she', 'her', 'hers',\n",
        "         'herself', 'it', 'its', 'itself', 'they', 'them', 'their', 'theirs', 'themselves',\n",
        "         'what', 'which', 'who', 'whom', 'this', 'that', 'these', 'those', 'am', 'is', 'are',\n",
        "         'was', 'were', 'be', 'been', 'being', 'have', 'has', 'had', 'having', 'do', 'does',\n",
        "         'did', 'doing', 'a', 'an', 'the', 'and', 'but', 'if', 'or', 'because', 'as', 'until',\n",
        "         'while', 'of', 'at', 'by', 'for', 'with', 'about', 'against', 'between', 'into',\n",
        "         'through', 'during', 'before', 'after', 'above', 'below', 'to', 'from', 'up', 'down',\n",
        "         'in', 'out', 'on', 'off', 'over', 'under', 'again', 'further', 'then', 'once', 'here',\n",
        "         'there', 'when', 'where', 'why', 'how', 'all', 'any', 'both', 'each', 'few', 'more',\n",
        "         'most', 'other', 'some', 'such', 'no', 'nor', 'not', 'only', 'own', 'same', 'so',\n",
        "         'than', 'too', 'very', 's', 't', 'can', 'will', 'just', 'don', 'should', 'now', 've', 'll', 'amp']\n",
        "\n",
        "\n",
        "def process_string(text,\n",
        "                   lowercase=True,\n",
        "                   remove_short_words=True,\n",
        "                   remove_stop_words=True,\n",
        "                   remove_punctuation=True,\n",
        "                   numbers='replace',\n",
        "                   urls='remove',\n",
        "                   stop_words=STOPS,\n",
        "                   stop_words_extra=[]):\n",
        "    if lowercase:\n",
        "        text = text.lower()\n",
        "    if urls == 'remove':\n",
        "        text = re.sub(r'http[a-zA-Z://.?0-9-_+#%&$]+', ' ', text)\n",
        "    if numbers == 'replace':\n",
        "        text = re.sub('[0-9]+', 'NUM', text)\n",
        "    elif numbers == 'remove':\n",
        "        text = re.sub('[0-9]+', ' ', text)\n",
        "    if remove_punctuation:\n",
        "        text = re.sub(r'[^\\sA-Za-z0-9À-ÖØ-öø-ÿЀ-ӿ/]', ' ', text)\n",
        "    if remove_stop_words:\n",
        "        text = ' '.join([word for word in text.split() if word not in stop_words + stop_words_extra])\n",
        "    if remove_short_words:\n",
        "        text = ' '.join([word for word in text.split() if not len(word) < 2])\n",
        "    text = ' '.join(text.split())\n",
        "    return text"
      ],
      "metadata": {
        "id": "w2H6MGX0EOTk"
      },
      "execution_count": null,
      "outputs": []
    },
    {
      "cell_type": "code",
      "source": [
        "training_texts = []\n",
        "training_texts_original = []\n",
        "\n",
        "for _text in texts:\n",
        "\n",
        "    _original_text = _text\n",
        "\n",
        "    _processed_text = process_string(_original_text,\n",
        "                                     lowercase=True,\n",
        "                                     urls='remove',\n",
        "                                     remove_short_words=True,\n",
        "                                     remove_stop_words=True,\n",
        "                                     remove_punctuation=True,\n",
        "                                     numbers='replace',\n",
        "                                     stop_words=STOPS)\n",
        "\n",
        "    if len(_processed_text.split()) >= 5 and _processed_text not in training_texts:\n",
        "\n",
        "        training_texts.append(_processed_text)\n",
        "        training_texts_original.append(_original_text)\n",
        "\n",
        "len(training_texts), len(training_texts_original)"
      ],
      "metadata": {
        "colab": {
          "base_uri": "https://localhost:8080/"
        },
        "id": "ukrHwK39EUf5",
        "outputId": "e1264131-9e83-4d19-c63e-8ce2d1403b6f"
      },
      "execution_count": null,
      "outputs": [
        {
          "output_type": "execute_result",
          "data": {
            "text/plain": [
              "(9999, 9999)"
            ]
          },
          "metadata": {},
          "execution_count": 42
        }
      ]
    },
    {
      "cell_type": "code",
      "source": [
        "num_topics = 20\n",
        "\n",
        "mdl = tp.LDAModel(k=num_topics)\n",
        "for _text in training_texts:\n",
        "    mdl.add_doc(_text.split())\n",
        "\n",
        "for i in range(0, 100, 10):\n",
        "    mdl.train(10)\n",
        "    print('Iteration: {}\\tLog-likelihood: {}'.format(i, mdl.ll_per_word))\n",
        "\n",
        "mdl.summary()"
      ],
      "metadata": {
        "colab": {
          "base_uri": "https://localhost:8080/"
        },
        "id": "D0ZZ_HcNEn_N",
        "outputId": "0e1e1b78-291e-4177-bf6b-d77a4e50f5ce"
      },
      "execution_count": null,
      "outputs": [
        {
          "output_type": "stream",
          "name": "stdout",
          "text": [
            "Iteration: 0\tLog-likelihood: -9.42107503253203\n",
            "Iteration: 10\tLog-likelihood: -8.938223536046594\n",
            "Iteration: 20\tLog-likelihood: -8.759708094029538\n",
            "Iteration: 30\tLog-likelihood: -8.667951217086616\n",
            "Iteration: 40\tLog-likelihood: -8.608887542679534\n",
            "Iteration: 50\tLog-likelihood: -8.568477698906587\n",
            "Iteration: 60\tLog-likelihood: -8.539039604075613\n",
            "Iteration: 70\tLog-likelihood: -8.513720928141097\n",
            "Iteration: 80\tLog-likelihood: -8.496441957210626\n",
            "Iteration: 90\tLog-likelihood: -8.479545867052583\n",
            "<Basic Info>\n",
            "| LDAModel (current version: 0.13.0)\n",
            "| 9999 docs, 1883102 words\n",
            "| Total Vocabs: 36849, Used Vocabs: 36849\n",
            "| Entropy of words: 8.03887\n",
            "| Entropy of term-weighted words: 8.03887\n",
            "| Removed Vocabs: <NA>\n",
            "|\n",
            "<Training Info>\n",
            "| Iterations: 100, Burn-in steps: 0\n",
            "| Optimization Interval: 10\n",
            "| Log-likelihood per word: -8.47955\n",
            "|\n",
            "<Initial Parameters>\n",
            "| tw: TermWeight.ONE\n",
            "| min_cf: 0 (minimum collection frequency of words)\n",
            "| min_df: 0 (minimum document frequency of words)\n",
            "| rm_top: 0 (the number of top words to be removed)\n",
            "| k: 20 (the number of topics between 1 ~ 32767)\n",
            "| alpha: [0.1] (hyperparameter of Dirichlet distribution for document-topic, given as a single `float` in case of symmetric prior and as a list with length `k` of `float` in case of asymmetric prior.)\n",
            "| eta: 0.01 (hyperparameter of Dirichlet distribution for topic-word)\n",
            "| seed: 2006423360 (random seed)\n",
            "| trained in version 0.13.0\n",
            "|\n",
            "<Parameters>\n",
            "| alpha (Dirichlet prior on the per-document topic distributions)\n",
            "|  [0.32770416 0.13150191 0.35540602 0.38359722 0.02972201 0.2964907\n",
            "|   0.2530077  0.3764213  0.0672586  0.14567655 0.20850247 0.6040101\n",
            "|   0.1494855  0.12037791 0.20305619 0.28126124 0.13142993 0.23184918\n",
            "|   0.19898973 0.13217074]\n",
            "| eta (Dirichlet prior on the per-topic word distribution)\n",
            "|  0.01\n",
            "|\n",
            "<Topics>\n",
            "| #0 (105716) : amendment would bill vote rule\n",
            "| #1 (68887) : NUM military war iraq men\n",
            "| #2 (119454) : mr gentleman chairman speaker bill\n",
            "| #3 (152057) : bill program act department federal\n",
            "| #4 (28941) : NUM fl smith vote johnson\n",
            "| #5 (103142) : people rights government speaker congress\n",
            "| #6 (79022) : NUM one day people time\n",
            "| #7 (139792) : senator president senate bill would\n",
            "| #8 (24317) : NUM veterans mr senator va\n",
            "| #9 (58334) : NUM law court federal enforcement\n",
            "| #10 (92192) : NUM budget billion year million\n",
            "| #11 (240636) : people going think us want\n",
            "| #12 (76126) : NUM senate bill amendment house\n",
            "| #13 (56339) : education NUM children school program\n",
            "| #14 (99988) : NUM years service great state\n",
            "| #15 (133825) : NUM tax bill jobs small\n",
            "| #16 (64269) : united states trade world international\n",
            "| #17 (86756) : health care women children medical\n",
            "| #18 (80299) : NUM new research national transportation\n",
            "| #19 (73010) : energy NUM water oil national\n",
            "|\n",
            "\n"
          ]
        }
      ]
    },
    {
      "cell_type": "code",
      "source": [
        "full_topic_distributions = []\n",
        "full_labels = []\n",
        "full_texts_original = []\n",
        "full_ids = []\n",
        "\n",
        "j = 0\n",
        "\n",
        "for _text, _label in zip(texts, predicted_labels):\n",
        "\n",
        "    _original_text = _text\n",
        "\n",
        "    _processed_text = process_string(_original_text,\n",
        "                                     lowercase=True,\n",
        "                                     urls='remove',\n",
        "                                     remove_short_words=True,\n",
        "                                     remove_stop_words=True,\n",
        "                                     remove_punctuation=True,\n",
        "                                     numbers='replace',\n",
        "                                     stop_words=STOPS)\n",
        "\n",
        "    if _processed_text.strip():\n",
        "\n",
        "        _doc_inst = mdl.make_doc(_processed_text.split())\n",
        "        _dist, ll = mdl.infer(_doc_inst)\n",
        "\n",
        "        full_labels.append(_label)\n",
        "        full_texts_original.append(_original_text)\n",
        "        full_topic_distributions.append(_dist)\n",
        "        full_ids.append(j)\n",
        "        j += 1\n",
        "\n",
        "len(full_texts_original), len(full_labels), len(full_topic_distributions)"
      ],
      "metadata": {
        "colab": {
          "base_uri": "https://localhost:8080/"
        },
        "id": "i_3Q03i_EwlU",
        "outputId": "4bb1593f-f80b-4d59-a019-783b74d48555"
      },
      "execution_count": null,
      "outputs": [
        {
          "output_type": "execute_result",
          "data": {
            "text/plain": [
              "(10000, 10000, 10000)"
            ]
          },
          "metadata": {},
          "execution_count": 46
        }
      ]
    },
    {
      "cell_type": "code",
      "source": [
        "id_original_text_dict = {_id: _text for _id, _text in zip(full_ids, full_texts_original)}\n",
        "len(id_original_text_dict)"
      ],
      "metadata": {
        "colab": {
          "base_uri": "https://localhost:8080/"
        },
        "id": "5WiZ8Bv3HxRQ",
        "outputId": "24a03300-cdbe-4472-d136-2a9f59c014df"
      },
      "execution_count": null,
      "outputs": [
        {
          "output_type": "execute_result",
          "data": {
            "text/plain": [
              "10000"
            ]
          },
          "metadata": {},
          "execution_count": 47
        }
      ]
    },
    {
      "cell_type": "code",
      "source": [
        "id_distribution_dict = {_id: _distribution for _id, _distribution in zip(full_ids, full_topic_distributions)}\n",
        "len(id_distribution_dict)"
      ],
      "metadata": {
        "colab": {
          "base_uri": "https://localhost:8080/"
        },
        "id": "SNYdYlK2HxU1",
        "outputId": "a33e47fa-7827-4385-d804-9cfa731fb47a"
      },
      "execution_count": null,
      "outputs": [
        {
          "output_type": "execute_result",
          "data": {
            "text/plain": [
              "10000"
            ]
          },
          "metadata": {},
          "execution_count": 48
        }
      ]
    },
    {
      "cell_type": "code",
      "source": [
        "top_words = []\n",
        "for k in range(mdl.k):\n",
        "    _word_prob_tuples = mdl.get_topic_words(k, top_n=10)\n",
        "    print('Topic ' + str(k) + ': ' + ', '.join([w for w, p in _word_prob_tuples]))\n",
        "    top_words.append(', '.join([w for w, p in _word_prob_tuples]))"
      ],
      "metadata": {
        "colab": {
          "base_uri": "https://localhost:8080/"
        },
        "id": "tH6CpoJqHxX9",
        "outputId": "43d92e03-b9e3-4128-e7f7-0c5a4ed3f6f2"
      },
      "execution_count": null,
      "outputs": [
        {
          "output_type": "stream",
          "name": "stdout",
          "text": [
            "Topic 0: amendment, would, bill, vote, rule, legislation, language, could, law, chairman\n",
            "Topic 1: NUM, military, war, iraq, men, women, troops, forces, defense, world\n",
            "Topic 2: mr, gentleman, chairman, speaker, bill, time, committee, thank, support, legislation\n",
            "Topic 3: bill, program, act, department, federal, NUM, national, security, would, funding\n",
            "Topic 4: NUM, fl, smith, vote, johnson, tx, ca, lewis, oh, davis\n",
            "Topic 5: people, rights, government, speaker, congress, american, must, today, president, mr\n",
            "Topic 6: NUM, one, day, people, time, us, year, years, speaker, world\n",
            "Topic 7: senator, president, senate, bill, would, work, time, floor, think, hope\n",
            "Topic 8: NUM, veterans, mr, senator, va, service, affairs, senators, kennedy, capitol\n",
            "Topic 9: NUM, law, court, federal, enforcement, state, justice, drug, crime, states\n",
            "Topic 10: NUM, budget, billion, year, million, spending, president, percent, cut, security\n",
            "Topic 11: people, going, think, us, want, get, say, let, one, know\n",
            "Topic 12: NUM, senate, bill, amendment, house, shall, committee, section, consent, unanimous\n",
            "Topic 13: education, NUM, children, school, program, students, schools, programs, child, college\n",
            "Topic 14: NUM, years, service, great, state, served, first, today, president, honor\n",
            "Topic 15: NUM, tax, bill, jobs, small, insurance, percent, american, business, pay\n",
            "Topic 16: united, states, trade, world, international, countries, foreign, china, nations, security\n",
            "Topic 17: health, care, women, children, medical, families, many, support, services, family\n",
            "Topic 18: NUM, new, research, national, transportation, state, communities, nation, farmers, support\n",
            "Topic 19: energy, NUM, water, oil, national, state, land, environmental, act, natural\n"
          ]
        }
      ]
    },
    {
      "cell_type": "code",
      "source": [
        "for k in range(mdl.k):\n",
        "    print('------------------------------------------------------------------------------')\n",
        "    print('Topic ' + str(k) + ': ' + top_words[k])\n",
        "    print('------------------------------------------------------------------------------')\n",
        "    print()\n",
        "    _id_prob_tuples = [(_id, _distribution[k]) for _id, _distribution in zip(full_ids, full_topic_distributions)]\n",
        "    for _id, _prob in sorted(_id_prob_tuples, key=lambda x: x[1], reverse=True)[:5]:\n",
        "        print(round(_prob, 2), ' '.join(id_original_text_dict[_id].split())[:150] + '...')\n",
        "        # print()\n",
        "        # print(' '.join(id_original_text_dict[_id].split()))\n",
        "    print()"
      ],
      "metadata": {
        "colab": {
          "base_uri": "https://localhost:8080/"
        },
        "id": "9HNSfJ7jH0qC",
        "outputId": "af905972-1f6e-4bbe-a4d5-6080d0560556"
      },
      "execution_count": null,
      "outputs": [
        {
          "output_type": "stream",
          "name": "stdout",
          "text": [
            "------------------------------------------------------------------------------\n",
            "Topic 0: amendment, would, bill, vote, rule, legislation, language, could, law, chairman\n",
            "------------------------------------------------------------------------------\n",
            "\n",
            "0.58 President, I supported passage of the bill to ban partial birth abortions when it was approved by the Senate on December 7 and I voted last week to ov...\n",
            "0.57 Speaker, I rise today in support of the Hoyer/ Greenwood/Johnson substitute, the Late Term Abortion Restriction Act, and in opposition to the underlyi...\n",
            "0.54 This type of approach has been stricken, I believe, in 19 different States as unconstitutional. I offered a substitute which related strictly to late-...\n",
            "0.54 President, I understand the 60-vote majority, but I have a germane amendment that strikes a provision in the bill. I understand the rules. When someth...\n",
            "0.52 I rise in opposition to the upcoming amendment submitted by Senator Akaka. The amendment would amend the Truth in Lending Act and impose significant n...\n",
            "\n",
            "------------------------------------------------------------------------------\n",
            "Topic 1: NUM, military, war, iraq, men, women, troops, forces, defense, world\n",
            "------------------------------------------------------------------------------\n",
            "\n",
            "0.74 President, I wish to express my sympathy over the loss of Marine Cpl Michael W. Ouellette, a 29-year-old native of Manchester, NH. Corporal Ouellette ...\n",
            "0.73 Madam President, today I would like to take a moment to recognize a group of Iowans who distinguished themselves in their service on behalf of the sec...\n",
            "0.65 Speaker, today marks the 277th day that Martin and Gracia Burnham have been held captive by Muslim terrorists in the Philippines. Last Thursday, 10 Am...\n",
            "0.65 President, today I pay tribute to two airmen from Arkansas, Air Force COL William H. Mason of Camden and CMSGT. Thomas E. Knebel of Midway, who bravel...\n",
            "0.64 Robinson, 25, of Fort Smith, AR, who died November 20, 2010, in Zabul Province, Afghanistan, in support of Operation Enduring Freedom. According to in...\n",
            "\n",
            "------------------------------------------------------------------------------\n",
            "Topic 2: mr, gentleman, chairman, speaker, bill, time, committee, thank, support, legislation\n",
            "------------------------------------------------------------------------------\n",
            "\n",
            "0.72 Let me simply in closing echo the words of the gentleman from Illinois [Mr. Lipinski]. If there is any other subcommittee in this Congress where there...\n",
            "0.66 Chairman, I want to take a couple of minutes, and I do not want to delay the consideration of this bill, but I want to advise the Members of the good ...\n",
            "0.63 Madam Chairman, I appreciate that pledge, and I will work with the gentleman. Mr. LaFALCE. Madam Chairman, I yield 30 seconds to the gentleman from Te...\n",
            "0.6 Mr. Speaker, I want to take this opportunity to thank the distinguished gentleman from Florida [Mr. Weldon], the primary sponsor of this legislation, ...\n",
            "0.56 Speaker, I rise in strong support of this bill. And as I begin to make some comments about it, I want to thank the gentleman from New Mexico (Mr. Udal...\n",
            "\n",
            "------------------------------------------------------------------------------\n",
            "Topic 3: bill, program, act, department, federal, NUM, national, security, would, funding\n",
            "------------------------------------------------------------------------------\n",
            "\n",
            "0.67 As the Senator knows, I also serve as the chair of the Subcommittee on Disability Policy of the Committee on Labor and Human Resources and I was the c...\n",
            "0.65 Madam President, I am introducing this amendment with Senator Domenici to S. 1438, the fiscal year 2002 National Defense Authorization Act, to provide...\n",
            "0.65 2701. As Chairman of the Subcommittee on Terrorism, Human Intelligence, Analysis, and Counterintelligence, I am pleased that today we can discuss the ...\n",
            "0.61 2401, legislation that would extend the authorization for the Presidential Advisory Commission on Holocaust Assets through December 21, 2000. As a cos...\n",
            "0.61 Chairman, I rise today in support of this amendment offered by the chairman of the Government Operations Committee, Mr. Conyers. Chairman Conyers and ...\n",
            "\n",
            "------------------------------------------------------------------------------\n",
            "Topic 4: NUM, fl, smith, vote, johnson, tx, ca, lewis, oh, davis\n",
            "------------------------------------------------------------------------------\n",
            "\n",
            "0.99 A recorded vote was ordered. The vote was taken by electronic device, and there were--ayes 81, noes 341, not voting 10, as follows: [Roll No. 68] AYES...\n",
            "0.99 The yeas and nays were ordered. The vote was taken by electronic device, and there were--yeas 213, nays 206, not voting 15, as follows: [Roll No. 78] ...\n",
            "0.99 A recorded vote was ordered. The vote was taken by electronic device, and there were--ayes 228, noes 193, answered ``present'' 1, not voting 11, as fo...\n",
            "0.99 A recorded vote was ordered. The vote was taken by electronic device, and there were--ayes 184, noes 232, not voting 18, as follows: [Roll No. 571] AY...\n",
            "0.99 A recorded vote was ordered. The vote was taken by electronic device, and there were--ayes 136, noes 276, not voting 27, as follows: [Roll No. 245] AY...\n",
            "\n",
            "------------------------------------------------------------------------------\n",
            "Topic 5: people, rights, government, speaker, congress, american, must, today, president, mr\n",
            "------------------------------------------------------------------------------\n",
            "\n",
            "0.62 Madam Speaker, I rise today in support of the Religious Freedom Amendment, and I commend my good friend, the gentleman from Oklahoma (Mr. Istook) for ...\n",
            "0.59 Madam Speaker, a dark cloud and a suspicion of corruption hangs over this House of Representatives. It is the talk of the Nation. With no Committee on...\n",
            "0.55 Today, the Prime Minister of Cambodia dropped the criminal defamation lawsuits against five government critics and human rights advocates. Along with ...\n",
            "0.55 President, I am today joined by the distinguished chairman of the Foreign Relations Committee Senator Helms, the equally distinguished ranking minorit...\n",
            "0.54 Speaker, I thank the gentleman from Michigan for yielding. Honorable colleagues, the numerous irregularities that occurred with the electronic voting ...\n",
            "\n",
            "------------------------------------------------------------------------------\n",
            "Topic 6: NUM, one, day, people, time, us, year, years, speaker, world\n",
            "------------------------------------------------------------------------------\n",
            "\n",
            "0.66 Speaker, congratulations to the Detroit Pistons and their Coach, Larry Brown, for winning the 2004 National Basketball Association Championship, defea...\n",
            "0.64 In Maryland, we call it a terrapin. Fear the turtle. But today we need to revere the turtle. Sixteen magnificent young women got on a court in Boston,...\n",
            "0.61 Madam Speaker, I rise today to congratulate the New York Yankees, baseball's most storied franchise, on winning their 27th World Series. After a hard-...\n",
            "0.59 Madam Speaker, in the 1958 NFL championship game, Baltimore's beloved Colts defeated the New York Giants in the greatest game ever played, the game th...\n",
            "0.58 Madam Speaker, I rise today to recognize and pay tribute to Davidson College, President Tom Ross, Coach Bob MCKillop, and the Davidson College Wildcat...\n",
            "\n",
            "------------------------------------------------------------------------------\n",
            "Topic 7: senator, president, senate, bill, would, work, time, floor, think, hope\n",
            "------------------------------------------------------------------------------\n",
            "\n",
            "0.82 If the Senator would yield on my time, that is the intention of the leadership. What we would like to do is try to work out these groups of amendments...\n",
            "0.8 Madam President, I want to notify all of our colleagues that Senator Collins and I have been working together with many of our colleagues on amendment...\n",
            "0.8 President, I believe the Democratic leader will be here momentarily. Senator Daschle had started to make a speech earlier when we first started the qu...\n",
            "0.79 I appreciate the indulgence of the Senator from West Virginia. I will take just a minute. I thank the Senator from Alaska for the hard work he and his...\n",
            "0.78 I say to my friend from Nevada, yesterday morning--and I normally speak at about an octave higher than this; I am coming out of a bout of bronchitis--...\n",
            "\n",
            "------------------------------------------------------------------------------\n",
            "Topic 8: NUM, veterans, mr, senator, va, service, affairs, senators, kennedy, capitol\n",
            "------------------------------------------------------------------------------\n",
            "\n",
            "0.95 Baucus), the Senator from New Jersey (Mr. Corzine), the Senator from North Carolina (Mr. Edwards), the Senator from Florida (Mr. Graham), the Senator ...\n",
            "0.94 Biden), the Senator from New Jersey (Mr. Corzine), the Senator from North Carolina (Mr. Edwards), the Senator from Hawaii (Mr. Inouye), the Senator fr...\n",
            "0.93 Biden), the Senator from North Carolina (Mr. Edwards), the Senator from Hawaii (Mr. Inouye), the Senator from Massachusetts (Mr. Kerry), and the Senat...\n",
            "0.9 The following Senators are necessarily absent: the Senator from Tennessee (Mr. Alexander), the Senator from Kentucky (Mr. Bunning), the Senator from S...\n",
            "0.89 The following Senators were necessarily absent: the Senator from Colorado (Mr. Allard), the Senator from Kansas (Mr. Brownback), the Senator from Minn...\n",
            "\n",
            "------------------------------------------------------------------------------\n",
            "Topic 9: NUM, law, court, federal, enforcement, state, justice, drug, crime, states\n",
            "------------------------------------------------------------------------------\n",
            "\n",
            "0.66 1110, the Preventing Harassment through Outbound Number Enforcement, ``PHONE,'' Act of 2009. I strongly support this important piece of legislation th...\n",
            "0.62 President, statistics released last month by the Department of Justice indicate that the 1994 Brady Act has had a meaningful impact on keeping firearm...\n",
            "0.62 President, last weekend, a new report was released by the Justice Department about the successes of the Brady Law. The Brady Law requires that a prosp...\n",
            "0.58 Chairman, Republicans are keeping their promises and working to pass the Republican crime fighting agenda. Our message is clear. Criminal behavior wil...\n",
            "0.55 President, I rise today to discuss the Federal execution that was carried out earlier today. I believe that the Justice Department did what was right ...\n",
            "\n",
            "------------------------------------------------------------------------------\n",
            "Topic 10: NUM, budget, billion, year, million, spending, president, percent, cut, security\n",
            "------------------------------------------------------------------------------\n",
            "\n",
            "0.86 President, I ask unanimous consent to print in the Record the table to which I referred. There being no objection, the table was ordered to be printed...\n",
            "0.78 Speaker, I include for the Record this statement of the public debt that shows that our Nation's debt has increased by $232,291,656,313.85 since the p...\n",
            "0.71 I wonder if the Senator is aware, in Alabama, there will be 181,000 people who will get a Medicare Advantage cut; in California, 1,606,000 seniors are...\n",
            "0.71 President, the Department of Defense appropriations bill for FY 2005, S. 2259, as reported by the Senate Committee on Appropriations, provides $384.01...\n",
            "0.63 Mr. Chairman, just to walk down memory lane, during the Clinton years, we created 21 million jobs. So far, during the Bush years, we have seen 2.5 mil...\n",
            "\n",
            "------------------------------------------------------------------------------\n",
            "Topic 11: people, going, think, us, want, get, say, let, one, know\n",
            "------------------------------------------------------------------------------\n",
            "\n",
            "0.79 As we've been talking so much, I hear so much about a balanced approach. What we really need is a balanced budget. The concern right now, as I talk to...\n",
            "0.73 Madam Speaker, I come to the floor this morning to not only share with the American people, but also with the majority side that constantly talks abou...\n",
            "0.72 Speaker, I am not going to take long here, but I do think that this is something which I would like to share an idea or two with my colleagues. Let me...\n",
            "0.69 Chairman, congratulations on a super effort to give a little money and power back to the American people. One thing I want to say: I was outside liste...\n",
            "0.65 On that point, I want to say and it has been said tonight, it is very important. People do resist change and there is no institution that resists chan...\n",
            "\n",
            "------------------------------------------------------------------------------\n",
            "Topic 12: NUM, senate, bill, amendment, house, shall, committee, section, consent, unanimous\n",
            "------------------------------------------------------------------------------\n",
            "\n",
            "0.97 Speaker, by direction of the Committee on Rules, I call up House Resolution 530 and ask for its immediate consideration. The Clerk read the resolution...\n",
            "0.97 President, I ask unanimous consent that when the Senate completes its business today, it stand in recess and convene at 3 p.m. on Monday, October 6, 2...\n",
            "0.97 President, on behalf of the leader, I send a concurrent resolution to the desk providing for a conditional adjournment of Congress until November 14, ...\n",
            "0.96 Speaker, by direction of the Committee on Rules, I call up House Resolution 809 and ask for its immediate consideration. The Clerk read the resolution...\n",
            "0.96 Madam Speaker, I send to the desk a privileged concurrent resolution and ask for its immediate consideration. The Clerk read the concurrent resolution...\n",
            "\n",
            "------------------------------------------------------------------------------\n",
            "Topic 13: education, NUM, children, school, program, students, schools, programs, child, college\n",
            "------------------------------------------------------------------------------\n",
            "\n",
            "0.6 If the gentlelady would yield, that's why we need to remain competitive and make sure that all of our students have an opportunity to go to college. W...\n",
            "0.59 Chairman, I rise in opposition to the Goodling amendment. Today's students will be entering a highly competitive work force that will demand greater k...\n",
            "0.58 Speaker, I move to suspend the rules and agree to the concurrent resolution (H. Con. Res. 88) urging the Congress and the President to increase fundin...\n",
            "0.58 Madam Speaker, I and all other moms know what it is like to worry every day about how your child is doing in school. It is terrible if your child is t...\n",
            "0.57 2210, the School Readiness Act of 2003. Since 1965, Head Start has profoundly improved the lives of more than 20 million children, and their families....\n",
            "\n",
            "------------------------------------------------------------------------------\n",
            "Topic 14: NUM, years, service, great, state, served, first, today, president, honor\n",
            "------------------------------------------------------------------------------\n",
            "\n",
            "0.82 Speaker, I rise today to introduce my colleagues to Father Joseph T. Holcomb, the guest chaplain today. Father Holcomb serves St. Andrew Avellino Roma...\n",
            "0.77 Speaker, I rise today to recognize Lynne Yoshiko Nakasone of Honolulu, Hawaii. The National Endowment for the Arts has named Sensei Nakasone a 2012 Na...\n",
            "0.74 Madam Speaker, Illinois and the Nation lost a great leader yesterday, Cecil Partee, the Illinois Senate's first black president, died in Chicago. As t...\n",
            "0.74 Speaker, 2 years ago I worshipped at North Chicago's First Corinthian Baptist Church and met Pastor Eugene Roberson. He is a leader. Pastor Roberson i...\n",
            "0.73 Mr. Speaker, H.R. 560 is a bill to name the Federal facility in Old San Juan as the ``Jose V. Toledo United States Post Office and Courthouse.'' The g...\n",
            "\n",
            "------------------------------------------------------------------------------\n",
            "Topic 15: NUM, tax, bill, jobs, small, insurance, percent, american, business, pay\n",
            "------------------------------------------------------------------------------\n",
            "\n",
            "0.7 Speaker, the Jobs and Growth Tax Act of 2003 includes relief from the marriage tax, child care tax credits, small business expensing, and a dividend t...\n",
            "0.69 Chairman, for those reasons we need to support this tax plan. The Democratic plan takes care of more American families, it offers more opportunities f...\n",
            "0.68 Chairman, I rise in support of the MCDermott substitute to the bill. This amendment will restore and make permanent the 25 percent health insurance ta...\n",
            "0.67 President, this vote has nothing to do with Medicare or Medicaid. This motion by Senator Kennedy calls for a tax increase in 2008 on millions of Ameri...\n",
            "0.67 President, in the years leading up to the financial crisis, risky and reckless bonus-laden pay packages ruled at Wall Street banks. After crashing our...\n",
            "\n",
            "------------------------------------------------------------------------------\n",
            "Topic 16: united, states, trade, world, international, countries, foreign, china, nations, security\n",
            "------------------------------------------------------------------------------\n",
            "\n",
            "0.58 Paraguay Partnership Act of 2009. I introduced this legislation earlier today along with my colleague from the Finance Committee, Senator Bill Nelson ...\n",
            "0.57 Speaker, I support House Concurrent Resolution 341 condemning the Government of Iran for violating its international nuclear nonproliferation obligati...\n",
            "0.57 President, I rise today to bring to the attention of my colleagues the importance of U.S. relations with Taiwan. Most Americans have been focused on t...\n",
            "0.52 Speaker, I move to suspend the rules and agree to the resolution (H. Res. 513) recognizing the historical significance and timeliness of the United St...\n",
            "0.51 Mr, President, I rise today in support of Senator D'Amato's resolution supporting Italy's inclusion as a permanent member of the United Nations Securi...\n",
            "\n",
            "------------------------------------------------------------------------------\n",
            "Topic 17: health, care, women, children, medical, families, many, support, services, family\n",
            "------------------------------------------------------------------------------\n",
            "\n",
            "0.67 Speaker, we are all aware of the impact that cancer has on the American public. Sadly, we often do not realize the severity of childhood cancer. Today...\n",
            "0.63 Speaker, I join my colleagues today in supporting the fight against diabetes. Today, nearly 16 million people in the United States have diabetes-many ...\n",
            "0.59 Speaker, I rise today in strong support of the Prostate Cancer Diagnosis and Treatment Act of 1994. Prostate cancer is a serious killer that is striki...\n",
            "0.57 Madam President, I rise today to introduce the Birth Defects and Developmental Disabilities Prevention Act of 2002. It is a pleasure to work, once aga...\n",
            "0.56 94, which expresses the sense of the Congress that community inclusion and enhanced lives for the 8 million Americans who have mental retardation or o...\n",
            "\n",
            "------------------------------------------------------------------------------\n",
            "Topic 18: NUM, new, research, national, transportation, state, communities, nation, farmers, support\n",
            "------------------------------------------------------------------------------\n",
            "\n",
            "0.65 3479, the National Aviation Capacity Expansion Act. This legislation will codify a historic agreement reached between the Republican Governor of Illin...\n",
            "0.64 President, I would like to express my support for an amendment that is being offered by the distinguished majority leader. I am a cosponsor of this am...\n",
            "0.58 President, I thank Senator Shelby and Senator Sarbanes for their hard work on H.R. 3, the Safe, Accountable, Flexible, and Efficient Transportation Eq...\n",
            "0.58 Speaker, it is my distinct honor and pleasure to rise today to pay special tribute to Scotland County, North Carolina, as it celebrates in 1999 its 10...\n",
            "0.52 Madam President, I rise today, along with my colleague from South Carolina, Senator Hollings, to introduce an amendment to restore funding for three a...\n",
            "\n",
            "------------------------------------------------------------------------------\n",
            "Topic 19: energy, NUM, water, oil, national, state, land, environmental, act, natural\n",
            "------------------------------------------------------------------------------\n",
            "\n",
            "0.55 Speaker, under current law, oil and natural gas exploration and production activities do not have to do the extensive stormwater permitting that is re...\n",
            "0.55 4 acres on the Beaverhead-Deerlodge National Forest to Jefferson County, MT and 10 acres on the Kootenai National Forest to Sanders County, MT for con...\n",
            "0.55 Speaker, I move to suspend the rules and pass the bill (H.R. 408) to provide for expansion of Sleeping Bear Dunes National Lakeshore, as amended. The ...\n",
            "0.55 6251, the Responsible Federal Oil and Gas Lease Act. Over the last few months we have frequently heard claims from our colleagues on the other side of...\n",
            "0.54 Speaker, I support this legislation to reauthorize the Atlantic Striped Bass Conservation Act. Mr. Speaker, some of our Members may remember the serio...\n",
            "\n"
          ]
        }
      ]
    },
    {
      "cell_type": "code",
      "source": [
        "dicts_to_plot = []\n",
        "for _id, _text, _label in zip(full_ids, full_texts_original, full_labels):\n",
        "    _distribution = id_distribution_dict[_id]\n",
        "    for _topic, _probability in enumerate(_distribution):\n",
        "        dicts_to_plot.append({'Topic': ' '.join(top_words[_topic].split()[:5]),\n",
        "                              'Probability': _probability,\n",
        "                              'Narrative Label': _label})\n",
        "df_to_plot = pd.DataFrame(dicts_to_plot)\n",
        "\n",
        "len(df_to_plot.index)"
      ],
      "metadata": {
        "colab": {
          "base_uri": "https://localhost:8080/"
        },
        "id": "tH_rBJWeH1Bs",
        "outputId": "c544f204-9d77-485f-a5e8-b94bae0e05ec"
      },
      "execution_count": null,
      "outputs": [
        {
          "output_type": "execute_result",
          "data": {
            "text/plain": [
              "200000"
            ]
          },
          "metadata": {},
          "execution_count": 51
        }
      ]
    },
    {
      "cell_type": "code",
      "source": [
        "plt.figure(figsize=(4,14))\n",
        "sns.barplot(data=df_to_plot,\n",
        "            x='Probability',\n",
        "            y='Topic',\n",
        "            hue='Narrative Label',\n",
        "            palette='pastel',\n",
        "            errwidth=0.8,\n",
        "            capsize=0.4)\n",
        "sns.despine()"
      ],
      "metadata": {
        "colab": {
          "base_uri": "https://localhost:8080/",
          "height": 1000
        },
        "id": "JNCBDxIGH1FW",
        "outputId": "eba9e7d5-f188-48c3-d520-5bdc99dc33c2"
      },
      "execution_count": null,
      "outputs": [
        {
          "output_type": "stream",
          "name": "stderr",
          "text": [
            "<ipython-input-52-4f640c77b26f>:2: FutureWarning: \n",
            "\n",
            "The `errwidth` parameter is deprecated. And will be removed in v0.15.0. Pass `err_kws={'linewidth': 0.8}` instead.\n",
            "\n",
            "  sns.barplot(data=df_to_plot,\n"
          ]
        },
        {
          "output_type": "display_data",
          "data": {
            "text/plain": [
              "<Figure size 400x1400 with 1 Axes>"
            ],
            "image/png": "[encoded data removed]"
          },
          "metadata": {}
        }
      ]
    },
    {
      "cell_type": "code",
      "source": [],
      "metadata": {
        "id": "kXp8s3bGH1Il"
      },
      "execution_count": null,
      "outputs": []
    },
    {
      "cell_type": "markdown",
      "metadata": {
        "id": "tUjeaqiTehPY"
      },
      "source": [
        "<br><br><br><br>\n",
        "\n",
        "## **Load StorySeeker annotations from Hugging Face**\n",
        "\n",
        "You don't need to do this unless you're interested in our annotated data. If you just want to use our model to predict story labels for your own dataset, then use the above cells."
      ]
    },
    {
      "cell_type": "code",
      "source": [
        "storyseeker_dataset = load_dataset('mariaantoniak/storyseeker')"
      ],
      "metadata": {
        "colab": {
          "base_uri": "https://localhost:8080/",
          "height": 241,
          "referenced_widgets": [
            "5fa8f7cc574e4e1684f3b2fa7102bbeb",
            "711e18e74ab544c59936a9a691fe2870",
            "cd0153f5ae0f4bf8870d5f4bc5774e6b",
            "3ce76ba0a348461ab175b0451a77efdb",
            "4342cc957ab142ddb5197c1bb2f8abbe",
            "ad9b4b2628b542a480f50005dbc7d275",
            "7e82f7ced08f49f7b9350e1b895b7868",
            "fc4e131423f04b2c985553f6728c84b6",
            "7bb3d71db745433d9d173b857f0a67c8",
            "16ad6ba7af964c4f878a889e9fd6767e",
            "da21d6be78644965bfe7030d7d755786",
            "a2e5dfa0aaf140afba6266c272738ef6",
            "1a1709297ac84a909e4117998dca7a66",
            "9e2df0a6479845f98b0936381f7ae3e7",
            "c1bd883a24914ac8983368df30ba92f0",
            "c198e380c9c746878851e0a69b4a066d",
            "cbef5929c62a4240aecd97a6cd886853",
            "777282441cf942f6a182074abc29f070",
            "123aa7cb8b764ef897f56b9357d8279e",
            "5c4ae8d6cc664a4881fdcf4d384e265f",
            "617e408a0a5c4b20ba2a55dcb4853906",
            "296dd7261ada495495ae5ed6c168b570",
            "5254c0bbf9f34cd7b431a7d6fa4dbc1b",
            "ae058d8689894a4fb46382d9786525e3",
            "a5a40814c30f4169b235cef8a435c820",
            "108e990524694239bf2efe96587fc398",
            "96525491ae6141efa1e74fd5e4f902ea",
            "2ba8d7cd48f54b669f7140c884d190e7",
            "9ebbb8c5305340689d22783e444a91be",
            "66f864505ab14d68bfdeaa9549ee7c64",
            "f09bce3487734b3e9e7e85762df14c6a",
            "dfb151cf18bc452eb8095546ba40c6b9",
            "0b468987b30f43028544a4499356ffac",
            "fe7085707ffc45479381eae436bc81e5",
            "f719f4c2319d4a11ab4add22e69660b3",
            "b71a49989f3446098ca467c74ff9d30c",
            "b4b28bedf6dc4a3ba9e08bed4a890209",
            "d85a2f91aa8a4e9d95940551d25e2f61",
            "924771927bfb4f268362fafa8539b872",
            "76d751ef0c164f7b9347d60fe0890bde",
            "8e6102ac3d404aff8dce5a142aed23d0",
            "f85bf100b24a4f48af34ca32b8a73848",
            "030c1737defc4f688afa8d490cf8ef2e",
            "e899aff435e04d0fbc55d10efa468e7d",
            "5970510557664d1daa2b2372bcb50d57",
            "e18a7a816b3a475f91eac5532ed47d3e",
            "3474e9ae6b5f4eb99941ef69a7938745",
            "6131475731ed48dea1819b76e0f0b2a8",
            "970730abb3ad4804aac927406b6dc230",
            "8825e15d4b014ac0ab73d4d5f0e20448",
            "d9050ca6cedd426da09f7c090ef7d15d",
            "b912e6d9fd7c467e8e00b8decd8fc466",
            "b866f7b7f5364969983e102cfc8c6861",
            "ec37e47418d242c1bb3066a4b1d655de",
            "d5362433c339430fbd68236c023baf20",
            "8f76dc1ad20a478886022f403f9edaab",
            "bc03a5b4fccd498ca0976e1e98340925",
            "4b8021f30eef40a8b2ee578c7d66eb3c",
            "844c81307e954469a405f123bacec2b2",
            "75853306e691433f8e5c59ca2a2a3d26",
            "a8d7ad9264a3402690d1d4fb943f4680",
            "80332b82038d4aa79022ab441a46ff44",
            "ea6294e7e16a4265a353ace06d943fa0",
            "4fbd1a9426a24f4ea19ba4441d8cb038",
            "801b876388f14ce8b7cca0b0afccb06b",
            "a40d7024dac34570b828d58f83a6badf",
            "acbc79f3bd1444fca2ced66e1cd5a696",
            "d3c12d0cec1d461e8b5c43cc6ff5db5b",
            "0685b41e51f64d94860cda5a66af3437",
            "1fdc2ef735684dcc804bc94da4b7cfce",
            "56ede4f894bc4c13b2e1d73af9ce22cc",
            "60d8d70982fa47dcb1d29d192afce7ed",
            "f2d88817d4a94e4b8e8a8c2d55b6200a",
            "48b033d1131649edacfebe41cc8b1941",
            "080f9cb1314d4fd2bee1da022a3966e7",
            "d3e34d837e7f49f6bed67099f8f7f667",
            "a5e6980a794e4060b82ad1315cc54c29"
          ]
        },
        "id": "7ZSrpO25TOxV",
        "outputId": "2ae43d01-9dcc-45c8-af9a-d26a362c45cf"
      },
      "execution_count": null,
      "outputs": [
        {
          "output_type": "display_data",
          "data": {
            "text/plain": [
              "Downloading readme:   0%|          | 0.00/4.77k [00:00<?, ?B/s]"
            ],
            "application/vnd.jupyter.widget-view+json": {
              "version_major": 2,
              "version_minor": 0,
              "model_id": "5fa8f7cc574e4e1684f3b2fa7102bbeb"
            }
          },
          "metadata": {}
        },
        {
          "output_type": "display_data",
          "data": {
            "text/plain": [
              "Downloading data:   0%|          | 0.00/9.54k [00:00<?, ?B/s]"
            ],
            "application/vnd.jupyter.widget-view+json": {
              "version_major": 2,
              "version_minor": 0,
              "model_id": "a2e5dfa0aaf140afba6266c272738ef6"
            }
          },
          "metadata": {}
        },
        {
          "output_type": "display_data",
          "data": {
            "text/plain": [
              "Downloading data:   0%|          | 0.00/3.03k [00:00<?, ?B/s]"
            ],
            "application/vnd.jupyter.widget-view+json": {
              "version_major": 2,
              "version_minor": 0,
              "model_id": "5254c0bbf9f34cd7b431a7d6fa4dbc1b"
            }
          },
          "metadata": {}
        },
        {
          "output_type": "display_data",
          "data": {
            "text/plain": [
              "Downloading data:   0%|          | 0.00/3.16k [00:00<?, ?B/s]"
            ],
            "application/vnd.jupyter.widget-view+json": {
              "version_major": 2,
              "version_minor": 0,
              "model_id": "fe7085707ffc45479381eae436bc81e5"
            }
          },
          "metadata": {}
        },
        {
          "output_type": "display_data",
          "data": {
            "text/plain": [
              "Generating train split: 0 examples [00:00, ? examples/s]"
            ],
            "application/vnd.jupyter.widget-view+json": {
              "version_major": 2,
              "version_minor": 0,
              "model_id": "5970510557664d1daa2b2372bcb50d57"
            }
          },
          "metadata": {}
        },
        {
          "output_type": "display_data",
          "data": {
            "text/plain": [
              "Generating val split: 0 examples [00:00, ? examples/s]"
            ],
            "application/vnd.jupyter.widget-view+json": {
              "version_major": 2,
              "version_minor": 0,
              "model_id": "8f76dc1ad20a478886022f403f9edaab"
            }
          },
          "metadata": {}
        },
        {
          "output_type": "display_data",
          "data": {
            "text/plain": [
              "Generating test split: 0 examples [00:00, ? examples/s]"
            ],
            "application/vnd.jupyter.widget-view+json": {
              "version_major": 2,
              "version_minor": 0,
              "model_id": "acbc79f3bd1444fca2ced66e1cd5a696"
            }
          },
          "metadata": {}
        }
      ]
    },
    {
      "cell_type": "code",
      "source": [
        "train_df = pd.DataFrame(storyseeker_dataset['train'])\n",
        "len(train_df.index)"
      ],
      "metadata": {
        "colab": {
          "base_uri": "https://localhost:8080/"
        },
        "id": "TKsK0Gia2qjZ",
        "outputId": "1b81fa4e-9f88-462a-e0d3-d341c8573061"
      },
      "execution_count": null,
      "outputs": [
        {
          "output_type": "execute_result",
          "data": {
            "text/plain": [
              "301"
            ]
          },
          "metadata": {},
          "execution_count": 14
        }
      ]
    },
    {
      "cell_type": "code",
      "source": [
        "train_df.sample(3)"
      ],
      "metadata": {
        "colab": {
          "base_uri": "https://localhost:8080/",
          "height": 143
        },
        "id": "reMqSFvD2qmg",
        "outputId": "2c4a5dfc-547b-4507-b3df-0781e4dfff2a"
      },
      "execution_count": null,
      "outputs": [
        {
          "output_type": "execute_result",
          "data": {
            "text/plain": [
              "          id     type  gold_intersection  gold_union  gold_consensus  \\\n",
              "5    clvvas8  comment                  0           0               0   \n",
              "115  ccso8hp  comment                  1           1               1   \n",
              "165  cq8us4r  comment                  1           1               1   \n",
              "\n",
              "     maria_span  joel_span  split  \n",
              "5             0          0  train  \n",
              "115           1          1  train  \n",
              "165           1          1  train  "
            ],
            "text/html": [
              "\n",
              "  <div id=\"df-a46707dd-cfed-413a-88fb-03b9045285f4\" class=\"colab-df-container\">\n",
              "    <div>\n",
              "<style scoped>\n",
              "    .dataframe tbody tr th:only-of-type {\n",
              "        vertical-align: middle;\n",
              "    }\n",
              "\n",
              "    .dataframe tbody tr th {\n",
              "        vertical-align: top;\n",
              "    }\n",
              "\n",
              "    .dataframe thead th {\n",
              "        text-align: right;\n",
              "    }\n",
              "</style>\n",
              "<table border=\"1\" class=\"dataframe\">\n",
              "  <thead>\n",
              "    <tr style=\"text-align: right;\">\n",
              "      <th></th>\n",
              "      <th>id</th>\n",
              "      <th>type</th>\n",
              "      <th>gold_intersection</th>\n",
              "      <th>gold_union</th>\n",
              "      <th>gold_consensus</th>\n",
              "      <th>maria_span</th>\n",
              "      <th>joel_span</th>\n",
              "      <th>split</th>\n",
              "    </tr>\n",
              "  </thead>\n",
              "  <tbody>\n",
              "    <tr>\n",
              "      <th>5</th>\n",
              "      <td>clvvas8</td>\n",
              "      <td>comment</td>\n",
              "      <td>0</td>\n",
              "      <td>0</td>\n",
              "      <td>0</td>\n",
              "      <td>0</td>\n",
              "      <td>0</td>\n",
              "      <td>train</td>\n",
              "    </tr>\n",
              "    <tr>\n",
              "      <th>115</th>\n",
              "      <td>ccso8hp</td>\n",
              "      <td>comment</td>\n",
              "      <td>1</td>\n",
              "      <td>1</td>\n",
              "      <td>1</td>\n",
              "      <td>1</td>\n",
              "      <td>1</td>\n",
              "      <td>train</td>\n",
              "    </tr>\n",
              "    <tr>\n",
              "      <th>165</th>\n",
              "      <td>cq8us4r</td>\n",
              "      <td>comment</td>\n",
              "      <td>1</td>\n",
              "      <td>1</td>\n",
              "      <td>1</td>\n",
              "      <td>1</td>\n",
              "      <td>1</td>\n",
              "      <td>train</td>\n",
              "    </tr>\n",
              "  </tbody>\n",
              "</table>\n",
              "</div>\n",
              "    <div class=\"colab-df-buttons\">\n",
              "\n",
              "  <div class=\"colab-df-container\">\n",
              "    <button class=\"colab-df-convert\" onclick=\"convertToInteractive('df-a46707dd-cfed-413a-88fb-03b9045285f4')\"\n",
              "            title=\"Convert this dataframe to an interactive table.\"\n",
              "            style=\"display:none;\">\n",
              "\n",
              "  <svg xmlns=\"http://www.w3.org/2000/svg\" height=\"24px\" viewBox=\"0 -960 960 960\">\n",
              "    <path d=\"M120-120v-720h720v720H120Zm60-500h600v-160H180v160Zm220 220h160v-160H400v160Zm0 220h160v-160H400v160ZM180-400h160v-160H180v160Zm440 0h160v-160H620v160ZM180-180h160v-160H180v160Zm440 0h160v-160H620v160Z\"/>\n",
              "  </svg>\n",
              "    </button>\n",
              "\n",
              "  <style>\n",
              "    .colab-df-container {\n",
              "      display:flex;\n",
              "      gap: 12px;\n",
              "    }\n",
              "\n",
              "    .colab-df-convert {\n",
              "      background-color: #E8F0FE;\n",
              "      border: none;\n",
              "      border-radius: 50%;\n",
              "      cursor: pointer;\n",
              "      display: none;\n",
              "      fill: #1967D2;\n",
              "      height: 32px;\n",
              "      padding: 0 0 0 0;\n",
              "      width: 32px;\n",
              "    }\n",
              "\n",
              "    .colab-df-convert:hover {\n",
              "      background-color: #E2EBFA;\n",
              "      box-shadow: 0px 1px 2px rgba(60, 64, 67, 0.3), 0px 1px 3px 1px rgba(60, 64, 67, 0.15);\n",
              "      fill: #174EA6;\n",
              "    }\n",
              "\n",
              "    .colab-df-buttons div {\n",
              "      margin-bottom: 4px;\n",
              "    }\n",
              "\n",
              "    [theme=dark] .colab-df-convert {\n",
              "      background-color: #3B4455;\n",
              "      fill: #D2E3FC;\n",
              "    }\n",
              "\n",
              "    [theme=dark] .colab-df-convert:hover {\n",
              "      background-color: #434B5C;\n",
              "      box-shadow: 0px 1px 3px 1px rgba(0, 0, 0, 0.15);\n",
              "      filter: drop-shadow(0px 1px 2px rgba(0, 0, 0, 0.3));\n",
              "      fill: #FFFFFF;\n",
              "    }\n",
              "  </style>\n",
              "\n",
              "    <script>\n",
              "      const buttonEl =\n",
              "        document.querySelector('#df-a46707dd-cfed-413a-88fb-03b9045285f4 button.colab-df-convert');\n",
              "      buttonEl.style.display =\n",
              "        google.colab.kernel.accessAllowed ? 'block' : 'none';\n",
              "\n",
              "      async function convertToInteractive(key) {\n",
              "        const element = document.querySelector('#df-a46707dd-cfed-413a-88fb-03b9045285f4');\n",
              "        const dataTable =\n",
              "          await google.colab.kernel.invokeFunction('convertToInteractive',\n",
              "                                                    [key], {});\n",
              "        if (!dataTable) return;\n",
              "\n",
              "        const docLinkHtml = 'Like what you see? Visit the ' +\n",
              "          '<a target=\"_blank\" href=https://colab.research.google.com/notebooks/data_table.ipynb>data table notebook</a>'\n",
              "          + ' to learn more about interactive tables.';\n",
              "        element.innerHTML = '';\n",
              "        dataTable['output_type'] = 'display_data';\n",
              "        await google.colab.output.renderOutput(dataTable, element);\n",
              "        const docLink = document.createElement('div');\n",
              "        docLink.innerHTML = docLinkHtml;\n",
              "        element.appendChild(docLink);\n",
              "      }\n",
              "    </script>\n",
              "  </div>\n",
              "\n",
              "\n",
              "<div id=\"df-8f46f7e1-5d27-484f-98af-ae14e3dcc58c\">\n",
              "  <button class=\"colab-df-quickchart\" onclick=\"quickchart('df-8f46f7e1-5d27-484f-98af-ae14e3dcc58c')\"\n",
              "            title=\"Suggest charts\"\n",
              "            style=\"display:none;\">\n",
              "\n",
              "<svg xmlns=\"http://www.w3.org/2000/svg\" height=\"24px\"viewBox=\"0 0 24 24\"\n",
              "     width=\"24px\">\n",
              "    <g>\n",
              "        <path d=\"M19 3H5c-1.1 0-2 .9-2 2v14c0 1.1.9 2 2 2h14c1.1 0 2-.9 2-2V5c0-1.1-.9-2-2-2zM9 17H7v-7h2v7zm4 0h-2V7h2v10zm4 0h-2v-4h2v4z\"/>\n",
              "    </g>\n",
              "</svg>\n",
              "  </button>\n",
              "\n",
              "<style>\n",
              "  .colab-df-quickchart {\n",
              "      --bg-color: #E8F0FE;\n",
              "      --fill-color: #1967D2;\n",
              "      --hover-bg-color: #E2EBFA;\n",
              "      --hover-fill-color: #174EA6;\n",
              "      --disabled-fill-color: #AAA;\n",
              "      --disabled-bg-color: #DDD;\n",
              "  }\n",
              "\n",
              "  [theme=dark] .colab-df-quickchart {\n",
              "      --bg-color: #3B4455;\n",
              "      --fill-color: #D2E3FC;\n",
              "      --hover-bg-color: #434B5C;\n",
              "      --hover-fill-color: #FFFFFF;\n",
              "      --disabled-bg-color: #3B4455;\n",
              "      --disabled-fill-color: #666;\n",
              "  }\n",
              "\n",
              "  .colab-df-quickchart {\n",
              "    background-color: var(--bg-color);\n",
              "    border: none;\n",
              "    border-radius: 50%;\n",
              "    cursor: pointer;\n",
              "    display: none;\n",
              "    fill: var(--fill-color);\n",
              "    height: 32px;\n",
              "    padding: 0;\n",
              "    width: 32px;\n",
              "  }\n",
              "\n",
              "  .colab-df-quickchart:hover {\n",
              "    background-color: var(--hover-bg-color);\n",
              "    box-shadow: 0 1px 2px rgba(60, 64, 67, 0.3), 0 1px 3px 1px rgba(60, 64, 67, 0.15);\n",
              "    fill: var(--button-hover-fill-color);\n",
              "  }\n",
              "\n",
              "  .colab-df-quickchart-complete:disabled,\n",
              "  .colab-df-quickchart-complete:disabled:hover {\n",
              "    background-color: var(--disabled-bg-color);\n",
              "    fill: var(--disabled-fill-color);\n",
              "    box-shadow: none;\n",
              "  }\n",
              "\n",
              "  .colab-df-spinner {\n",
              "    border: 2px solid var(--fill-color);\n",
              "    border-color: transparent;\n",
              "    border-bottom-color: var(--fill-color);\n",
              "    animation:\n",
              "      spin 1s steps(1) infinite;\n",
              "  }\n",
              "\n",
              "  @keyframes spin {\n",
              "    0% {\n",
              "      border-color: transparent;\n",
              "      border-bottom-color: var(--fill-color);\n",
              "      border-left-color: var(--fill-color);\n",
              "    }\n",
              "    20% {\n",
              "      border-color: transparent;\n",
              "      border-left-color: var(--fill-color);\n",
              "      border-top-color: var(--fill-color);\n",
              "    }\n",
              "    30% {\n",
              "      border-color: transparent;\n",
              "      border-left-color: var(--fill-color);\n",
              "      border-top-color: var(--fill-color);\n",
              "      border-right-color: var(--fill-color);\n",
              "    }\n",
              "    40% {\n",
              "      border-color: transparent;\n",
              "      border-right-color: var(--fill-color);\n",
              "      border-top-color: var(--fill-color);\n",
              "    }\n",
              "    60% {\n",
              "      border-color: transparent;\n",
              "      border-right-color: var(--fill-color);\n",
              "    }\n",
              "    80% {\n",
              "      border-color: transparent;\n",
              "      border-right-color: var(--fill-color);\n",
              "      border-bottom-color: var(--fill-color);\n",
              "    }\n",
              "    90% {\n",
              "      border-color: transparent;\n",
              "      border-bottom-color: var(--fill-color);\n",
              "    }\n",
              "  }\n",
              "</style>\n",
              "\n",
              "  <script>\n",
              "    async function quickchart(key) {\n",
              "      const quickchartButtonEl =\n",
              "        document.querySelector('#' + key + ' button');\n",
              "      quickchartButtonEl.disabled = true;  // To prevent multiple clicks.\n",
              "      quickchartButtonEl.classList.add('colab-df-spinner');\n",
              "      try {\n",
              "        const charts = await google.colab.kernel.invokeFunction(\n",
              "            'suggestCharts', [key], {});\n",
              "      } catch (error) {\n",
              "        console.error('Error during call to suggestCharts:', error);\n",
              "      }\n",
              "      quickchartButtonEl.classList.remove('colab-df-spinner');\n",
              "      quickchartButtonEl.classList.add('colab-df-quickchart-complete');\n",
              "    }\n",
              "    (() => {\n",
              "      let quickchartButtonEl =\n",
              "        document.querySelector('#df-8f46f7e1-5d27-484f-98af-ae14e3dcc58c button');\n",
              "      quickchartButtonEl.style.display =\n",
              "        google.colab.kernel.accessAllowed ? 'block' : 'none';\n",
              "    })();\n",
              "  </script>\n",
              "</div>\n",
              "    </div>\n",
              "  </div>\n"
            ],
            "application/vnd.google.colaboratory.intrinsic+json": {
              "type": "dataframe",
              "summary": "{\n  \"name\": \"train_df\",\n  \"rows\": 3,\n  \"fields\": [\n    {\n      \"column\": \"id\",\n      \"properties\": {\n        \"dtype\": \"string\",\n        \"samples\": [\n          \"clvvas8\",\n          \"ccso8hp\",\n          \"cq8us4r\"\n        ],\n        \"num_unique_values\": 3,\n        \"semantic_type\": \"\",\n        \"description\": \"\"\n      }\n    },\n    {\n      \"column\": \"type\",\n      \"properties\": {\n        \"dtype\": \"category\",\n        \"samples\": [\n          \"comment\"\n        ],\n        \"num_unique_values\": 1,\n        \"semantic_type\": \"\",\n        \"description\": \"\"\n      }\n    },\n    {\n      \"column\": \"gold_intersection\",\n      \"properties\": {\n        \"dtype\": \"number\",\n        \"std\": 0,\n        \"min\": 0,\n        \"max\": 1,\n        \"samples\": [\n          1\n        ],\n        \"num_unique_values\": 2,\n        \"semantic_type\": \"\",\n        \"description\": \"\"\n      }\n    },\n    {\n      \"column\": \"gold_union\",\n      \"properties\": {\n        \"dtype\": \"number\",\n        \"std\": 0,\n        \"min\": 0,\n        \"max\": 1,\n        \"samples\": [\n          1\n        ],\n        \"num_unique_values\": 2,\n        \"semantic_type\": \"\",\n        \"description\": \"\"\n      }\n    },\n    {\n      \"column\": \"gold_consensus\",\n      \"properties\": {\n        \"dtype\": \"number\",\n        \"std\": 0,\n        \"min\": 0,\n        \"max\": 1,\n        \"samples\": [\n          1\n        ],\n        \"num_unique_values\": 2,\n        \"semantic_type\": \"\",\n        \"description\": \"\"\n      }\n    },\n    {\n      \"column\": \"maria_span\",\n      \"properties\": {\n        \"dtype\": \"number\",\n        \"std\": 0,\n        \"min\": 0,\n        \"max\": 1,\n        \"samples\": [\n          1\n        ],\n        \"num_unique_values\": 2,\n        \"semantic_type\": \"\",\n        \"description\": \"\"\n      }\n    },\n    {\n      \"column\": \"joel_span\",\n      \"properties\": {\n        \"dtype\": \"number\",\n        \"std\": 0,\n        \"min\": 0,\n        \"max\": 1,\n        \"samples\": [\n          1\n        ],\n        \"num_unique_values\": 2,\n        \"semantic_type\": \"\",\n        \"description\": \"\"\n      }\n    },\n    {\n      \"column\": \"split\",\n      \"properties\": {\n        \"dtype\": \"category\",\n        \"samples\": [\n          \"train\"\n        ],\n        \"num_unique_values\": 1,\n        \"semantic_type\": \"\",\n        \"description\": \"\"\n      }\n    }\n  ]\n}"
            }
          },
          "metadata": {},
          "execution_count": 15
        }
      ]
    },
    {
      "cell_type": "code",
      "source": [
        "val_df = pd.DataFrame(storyseeker_dataset['val'])\n",
        "len(val_df.index)"
      ],
      "metadata": {
        "colab": {
          "base_uri": "https://localhost:8080/"
        },
        "id": "EB2i0SHHUlp9",
        "outputId": "459bd3e0-345e-4545-cf89-68b4e24c36d5"
      },
      "execution_count": null,
      "outputs": [
        {
          "output_type": "execute_result",
          "data": {
            "text/plain": [
              "100"
            ]
          },
          "metadata": {},
          "execution_count": 16
        }
      ]
    },
    {
      "cell_type": "code",
      "source": [
        "val_df.sample(3)"
      ],
      "metadata": {
        "colab": {
          "base_uri": "https://localhost:8080/",
          "height": 143
        },
        "id": "EdE28OPJUluB",
        "outputId": "fcc6b10b-a8f4-45f8-a356-2d92cd24bf98"
      },
      "execution_count": null,
      "outputs": [
        {
          "output_type": "execute_result",
          "data": {
            "text/plain": [
              "           id     type  gold_intersection  gold_union  gold_consensus  \\\n",
              "1   t3_2xl08s     post                  0           0               0   \n",
              "22    crgepve  comment                  1           1               1   \n",
              "38  t3_1g3j09     post                  1           1               1   \n",
              "\n",
              "    maria_span  joel_span split  \n",
              "1            0          0   val  \n",
              "22           1          1   val  \n",
              "38           1          1   val  "
            ],
            "text/html": [
              "\n",
              "  <div id=\"df-c63c8955-e66c-49a8-a5f1-95d6a7e78ce8\" class=\"colab-df-container\">\n",
              "    <div>\n",
              "<style scoped>\n",
              "    .dataframe tbody tr th:only-of-type {\n",
              "        vertical-align: middle;\n",
              "    }\n",
              "\n",
              "    .dataframe tbody tr th {\n",
              "        vertical-align: top;\n",
              "    }\n",
              "\n",
              "    .dataframe thead th {\n",
              "        text-align: right;\n",
              "    }\n",
              "</style>\n",
              "<table border=\"1\" class=\"dataframe\">\n",
              "  <thead>\n",
              "    <tr style=\"text-align: right;\">\n",
              "      <th></th>\n",
              "      <th>id</th>\n",
              "      <th>type</th>\n",
              "      <th>gold_intersection</th>\n",
              "      <th>gold_union</th>\n",
              "      <th>gold_consensus</th>\n",
              "      <th>maria_span</th>\n",
              "      <th>joel_span</th>\n",
              "      <th>split</th>\n",
              "    </tr>\n",
              "  </thead>\n",
              "  <tbody>\n",
              "    <tr>\n",
              "      <th>1</th>\n",
              "      <td>t3_2xl08s</td>\n",
              "      <td>post</td>\n",
              "      <td>0</td>\n",
              "      <td>0</td>\n",
              "      <td>0</td>\n",
              "      <td>0</td>\n",
              "      <td>0</td>\n",
              "      <td>val</td>\n",
              "    </tr>\n",
              "    <tr>\n",
              "      <th>22</th>\n",
              "      <td>crgepve</td>\n",
              "      <td>comment</td>\n",
              "      <td>1</td>\n",
              "      <td>1</td>\n",
              "      <td>1</td>\n",
              "      <td>1</td>\n",
              "      <td>1</td>\n",
              "      <td>val</td>\n",
              "    </tr>\n",
              "    <tr>\n",
              "      <th>38</th>\n",
              "      <td>t3_1g3j09</td>\n",
              "      <td>post</td>\n",
              "      <td>1</td>\n",
              "      <td>1</td>\n",
              "      <td>1</td>\n",
              "      <td>1</td>\n",
              "      <td>1</td>\n",
              "      <td>val</td>\n",
              "    </tr>\n",
              "  </tbody>\n",
              "</table>\n",
              "</div>\n",
              "    <div class=\"colab-df-buttons\">\n",
              "\n",
              "  <div class=\"colab-df-container\">\n",
              "    <button class=\"colab-df-convert\" onclick=\"convertToInteractive('df-c63c8955-e66c-49a8-a5f1-95d6a7e78ce8')\"\n",
              "            title=\"Convert this dataframe to an interactive table.\"\n",
              "            style=\"display:none;\">\n",
              "\n",
              "  <svg xmlns=\"http://www.w3.org/2000/svg\" height=\"24px\" viewBox=\"0 -960 960 960\">\n",
              "    <path d=\"M120-120v-720h720v720H120Zm60-500h600v-160H180v160Zm220 220h160v-160H400v160Zm0 220h160v-160H400v160ZM180-400h160v-160H180v160Zm440 0h160v-160H620v160ZM180-180h160v-160H180v160Zm440 0h160v-160H620v160Z\"/>\n",
              "  </svg>\n",
              "    </button>\n",
              "\n",
              "  <style>\n",
              "    .colab-df-container {\n",
              "      display:flex;\n",
              "      gap: 12px;\n",
              "    }\n",
              "\n",
              "    .colab-df-convert {\n",
              "      background-color: #E8F0FE;\n",
              "      border: none;\n",
              "      border-radius: 50%;\n",
              "      cursor: pointer;\n",
              "      display: none;\n",
              "      fill: #1967D2;\n",
              "      height: 32px;\n",
              "      padding: 0 0 0 0;\n",
              "      width: 32px;\n",
              "    }\n",
              "\n",
              "    .colab-df-convert:hover {\n",
              "      background-color: #E2EBFA;\n",
              "      box-shadow: 0px 1px 2px rgba(60, 64, 67, 0.3), 0px 1px 3px 1px rgba(60, 64, 67, 0.15);\n",
              "      fill: #174EA6;\n",
              "    }\n",
              "\n",
              "    .colab-df-buttons div {\n",
              "      margin-bottom: 4px;\n",
              "    }\n",
              "\n",
              "    [theme=dark] .colab-df-convert {\n",
              "      background-color: #3B4455;\n",
              "      fill: #D2E3FC;\n",
              "    }\n",
              "\n",
              "    [theme=dark] .colab-df-convert:hover {\n",
              "      background-color: #434B5C;\n",
              "      box-shadow: 0px 1px 3px 1px rgba(0, 0, 0, 0.15);\n",
              "      filter: drop-shadow(0px 1px 2px rgba(0, 0, 0, 0.3));\n",
              "      fill: #FFFFFF;\n",
              "    }\n",
              "  </style>\n",
              "\n",
              "    <script>\n",
              "      const buttonEl =\n",
              "        document.querySelector('#df-c63c8955-e66c-49a8-a5f1-95d6a7e78ce8 button.colab-df-convert');\n",
              "      buttonEl.style.display =\n",
              "        google.colab.kernel.accessAllowed ? 'block' : 'none';\n",
              "\n",
              "      async function convertToInteractive(key) {\n",
              "        const element = document.querySelector('#df-c63c8955-e66c-49a8-a5f1-95d6a7e78ce8');\n",
              "        const dataTable =\n",
              "          await google.colab.kernel.invokeFunction('convertToInteractive',\n",
              "                                                    [key], {});\n",
              "        if (!dataTable) return;\n",
              "\n",
              "        const docLinkHtml = 'Like what you see? Visit the ' +\n",
              "          '<a target=\"_blank\" href=https://colab.research.google.com/notebooks/data_table.ipynb>data table notebook</a>'\n",
              "          + ' to learn more about interactive tables.';\n",
              "        element.innerHTML = '';\n",
              "        dataTable['output_type'] = 'display_data';\n",
              "        await google.colab.output.renderOutput(dataTable, element);\n",
              "        const docLink = document.createElement('div');\n",
              "        docLink.innerHTML = docLinkHtml;\n",
              "        element.appendChild(docLink);\n",
              "      }\n",
              "    </script>\n",
              "  </div>\n",
              "\n",
              "\n",
              "<div id=\"df-bac43f3c-9288-4ece-8f6b-6f44243133b3\">\n",
              "  <button class=\"colab-df-quickchart\" onclick=\"quickchart('df-bac43f3c-9288-4ece-8f6b-6f44243133b3')\"\n",
              "            title=\"Suggest charts\"\n",
              "            style=\"display:none;\">\n",
              "\n",
              "<svg xmlns=\"http://www.w3.org/2000/svg\" height=\"24px\"viewBox=\"0 0 24 24\"\n",
              "     width=\"24px\">\n",
              "    <g>\n",
              "        <path d=\"M19 3H5c-1.1 0-2 .9-2 2v14c0 1.1.9 2 2 2h14c1.1 0 2-.9 2-2V5c0-1.1-.9-2-2-2zM9 17H7v-7h2v7zm4 0h-2V7h2v10zm4 0h-2v-4h2v4z\"/>\n",
              "    </g>\n",
              "</svg>\n",
              "  </button>\n",
              "\n",
              "<style>\n",
              "  .colab-df-quickchart {\n",
              "      --bg-color: #E8F0FE;\n",
              "      --fill-color: #1967D2;\n",
              "      --hover-bg-color: #E2EBFA;\n",
              "      --hover-fill-color: #174EA6;\n",
              "      --disabled-fill-color: #AAA;\n",
              "      --disabled-bg-color: #DDD;\n",
              "  }\n",
              "\n",
              "  [theme=dark] .colab-df-quickchart {\n",
              "      --bg-color: #3B4455;\n",
              "      --fill-color: #D2E3FC;\n",
              "      --hover-bg-color: #434B5C;\n",
              "      --hover-fill-color: #FFFFFF;\n",
              "      --disabled-bg-color: #3B4455;\n",
              "      --disabled-fill-color: #666;\n",
              "  }\n",
              "\n",
              "  .colab-df-quickchart {\n",
              "    background-color: var(--bg-color);\n",
              "    border: none;\n",
              "    border-radius: 50%;\n",
              "    cursor: pointer;\n",
              "    display: none;\n",
              "    fill: var(--fill-color);\n",
              "    height: 32px;\n",
              "    padding: 0;\n",
              "    width: 32px;\n",
              "  }\n",
              "\n",
              "  .colab-df-quickchart:hover {\n",
              "    background-color: var(--hover-bg-color);\n",
              "    box-shadow: 0 1px 2px rgba(60, 64, 67, 0.3), 0 1px 3px 1px rgba(60, 64, 67, 0.15);\n",
              "    fill: var(--button-hover-fill-color);\n",
              "  }\n",
              "\n",
              "  .colab-df-quickchart-complete:disabled,\n",
              "  .colab-df-quickchart-complete:disabled:hover {\n",
              "    background-color: var(--disabled-bg-color);\n",
              "    fill: var(--disabled-fill-color);\n",
              "    box-shadow: none;\n",
              "  }\n",
              "\n",
              "  .colab-df-spinner {\n",
              "    border: 2px solid var(--fill-color);\n",
              "    border-color: transparent;\n",
              "    border-bottom-color: var(--fill-color);\n",
              "    animation:\n",
              "      spin 1s steps(1) infinite;\n",
              "  }\n",
              "\n",
              "  @keyframes spin {\n",
              "    0% {\n",
              "      border-color: transparent;\n",
              "      border-bottom-color: var(--fill-color);\n",
              "      border-left-color: var(--fill-color);\n",
              "    }\n",
              "    20% {\n",
              "      border-color: transparent;\n",
              "      border-left-color: var(--fill-color);\n",
              "      border-top-color: var(--fill-color);\n",
              "    }\n",
              "    30% {\n",
              "      border-color: transparent;\n",
              "      border-left-color: var(--fill-color);\n",
              "      border-top-color: var(--fill-color);\n",
              "      border-right-color: var(--fill-color);\n",
              "    }\n",
              "    40% {\n",
              "      border-color: transparent;\n",
              "      border-right-color: var(--fill-color);\n",
              "      border-top-color: var(--fill-color);\n",
              "    }\n",
              "    60% {\n",
              "      border-color: transparent;\n",
              "      border-right-color: var(--fill-color);\n",
              "    }\n",
              "    80% {\n",
              "      border-color: transparent;\n",
              "      border-right-color: var(--fill-color);\n",
              "      border-bottom-color: var(--fill-color);\n",
              "    }\n",
              "    90% {\n",
              "      border-color: transparent;\n",
              "      border-bottom-color: var(--fill-color);\n",
              "    }\n",
              "  }\n",
              "</style>\n",
              "\n",
              "  <script>\n",
              "    async function quickchart(key) {\n",
              "      const quickchartButtonEl =\n",
              "        document.querySelector('#' + key + ' button');\n",
              "      quickchartButtonEl.disabled = true;  // To prevent multiple clicks.\n",
              "      quickchartButtonEl.classList.add('colab-df-spinner');\n",
              "      try {\n",
              "        const charts = await google.colab.kernel.invokeFunction(\n",
              "            'suggestCharts', [key], {});\n",
              "      } catch (error) {\n",
              "        console.error('Error during call to suggestCharts:', error);\n",
              "      }\n",
              "      quickchartButtonEl.classList.remove('colab-df-spinner');\n",
              "      quickchartButtonEl.classList.add('colab-df-quickchart-complete');\n",
              "    }\n",
              "    (() => {\n",
              "      let quickchartButtonEl =\n",
              "        document.querySelector('#df-bac43f3c-9288-4ece-8f6b-6f44243133b3 button');\n",
              "      quickchartButtonEl.style.display =\n",
              "        google.colab.kernel.accessAllowed ? 'block' : 'none';\n",
              "    })();\n",
              "  </script>\n",
              "</div>\n",
              "    </div>\n",
              "  </div>\n"
            ],
            "application/vnd.google.colaboratory.intrinsic+json": {
              "type": "dataframe",
              "summary": "{\n  \"name\": \"val_df\",\n  \"rows\": 3,\n  \"fields\": [\n    {\n      \"column\": \"id\",\n      \"properties\": {\n        \"dtype\": \"string\",\n        \"samples\": [\n          \"t3_2xl08s\",\n          \"crgepve\",\n          \"t3_1g3j09\"\n        ],\n        \"num_unique_values\": 3,\n        \"semantic_type\": \"\",\n        \"description\": \"\"\n      }\n    },\n    {\n      \"column\": \"type\",\n      \"properties\": {\n        \"dtype\": \"string\",\n        \"samples\": [\n          \"comment\",\n          \"post\"\n        ],\n        \"num_unique_values\": 2,\n        \"semantic_type\": \"\",\n        \"description\": \"\"\n      }\n    },\n    {\n      \"column\": \"gold_intersection\",\n      \"properties\": {\n        \"dtype\": \"number\",\n        \"std\": 0,\n        \"min\": 0,\n        \"max\": 1,\n        \"samples\": [\n          1,\n          0\n        ],\n        \"num_unique_values\": 2,\n        \"semantic_type\": \"\",\n        \"description\": \"\"\n      }\n    },\n    {\n      \"column\": \"gold_union\",\n      \"properties\": {\n        \"dtype\": \"number\",\n        \"std\": 0,\n        \"min\": 0,\n        \"max\": 1,\n        \"samples\": [\n          1,\n          0\n        ],\n        \"num_unique_values\": 2,\n        \"semantic_type\": \"\",\n        \"description\": \"\"\n      }\n    },\n    {\n      \"column\": \"gold_consensus\",\n      \"properties\": {\n        \"dtype\": \"number\",\n        \"std\": 0,\n        \"min\": 0,\n        \"max\": 1,\n        \"samples\": [\n          1,\n          0\n        ],\n        \"num_unique_values\": 2,\n        \"semantic_type\": \"\",\n        \"description\": \"\"\n      }\n    },\n    {\n      \"column\": \"maria_span\",\n      \"properties\": {\n        \"dtype\": \"number\",\n        \"std\": 0,\n        \"min\": 0,\n        \"max\": 1,\n        \"samples\": [\n          1,\n          0\n        ],\n        \"num_unique_values\": 2,\n        \"semantic_type\": \"\",\n        \"description\": \"\"\n      }\n    },\n    {\n      \"column\": \"joel_span\",\n      \"properties\": {\n        \"dtype\": \"number\",\n        \"std\": 0,\n        \"min\": 0,\n        \"max\": 1,\n        \"samples\": [\n          1,\n          0\n        ],\n        \"num_unique_values\": 2,\n        \"semantic_type\": \"\",\n        \"description\": \"\"\n      }\n    },\n    {\n      \"column\": \"split\",\n      \"properties\": {\n        \"dtype\": \"category\",\n        \"samples\": [\n          \"val\"\n        ],\n        \"num_unique_values\": 1,\n        \"semantic_type\": \"\",\n        \"description\": \"\"\n      }\n    }\n  ]\n}"
            }
          },
          "metadata": {},
          "execution_count": 17
        }
      ]
    },
    {
      "cell_type": "markdown",
      "source": [
        "<br><br><br><br>\n",
        "\n",
        "## **Load Reddit data**\n",
        "\n",
        "Again, you don't need to do this unless you are interested in the data we annotated as part of our paper, which was used to finetune the model. If you just want to use our model to predict story labels for your own dataset, then use the above cells.\n",
        "\n",
        "We don't provide exact copies of the Reddit dataset and instead provide IDs that link back to the original Reddit dataset. The code in this section will show you how to \"rehydrate\" our annotated data.\n",
        "\n",
        "\"The Webis TLDR Corpus (2017) consists of approximately 4 Million content-summary pairs extracted for Abstractive Summarization, from the Reddit dataset for the years 2006-2016. This corpus is first of its kind from the social media domain in English and has been created to compensate the lack of variety in the datasets used for abstractive summarization research using deep learning models.\"\n",
        "\n",
        "Read more here: [https://webis.de/data/webis-tldr-17.html](https://webis.de/data/webis-tldr-17.html)\n",
        "\n",
        "From:\n",
        "Michael Völske, Martin Potthast, Shahbaz Syed, and Benno Stein. [TL;DR: Mining Reddit to Learn Automatic Summarization](https://downloads.webis.de/publications/papers/voelske_2017.pdf). In Giuseppe Carenini, Jackie Chi Kit Cheung, Fei Liu, and Lu Wang, editors, Workshop on New Frontiers in Summarization at EMNLP 2017, pages 59–63, September 2017. Association for Computational Linguistics."
      ],
      "metadata": {
        "id": "xgqFMbkn813q"
      }
    },
    {
      "cell_type": "code",
      "source": [
        "reddit_path = 'https://zenodo.org/records/1043504/files/corpus-webis-tldr-17.zip?download=1'"
      ],
      "metadata": {
        "id": "c4aNRqO281-Q"
      },
      "execution_count": null,
      "outputs": []
    },
    {
      "cell_type": "code",
      "source": [
        "import urllib.request\n",
        "import json\n",
        "from io import BytesIO\n",
        "from zipfile import ZipFile"
      ],
      "metadata": {
        "id": "ErBWpyuh9iy1"
      },
      "execution_count": null,
      "outputs": []
    },
    {
      "cell_type": "code",
      "source": [
        "target_ids = train_df['id'].tolist() + val_df['id'].tolist()"
      ],
      "metadata": {
        "id": "PCGFv3B6-0R6"
      },
      "execution_count": null,
      "outputs": []
    },
    {
      "cell_type": "code",
      "source": [
        "access_url = urllib.request.urlopen(reddit_path)\n",
        "\n",
        "id_data_dict = {}\n",
        "with ZipFile(BytesIO(access_url.read()), 'r') as zip_obj:\n",
        "  for _filename in zip_obj.namelist():\n",
        "    with zip_obj.open(_filename) as _file:\n",
        "      for _line in _file:\n",
        "        _data = json.loads(_line)\n",
        "        if _data['id'] in target_ids:\n",
        "          for _key, _value in _data.items():\n",
        "            id_data_dict[_data['id']] = _data\n",
        "len(id_data_dict)"
      ],
      "metadata": {
        "colab": {
          "base_uri": "https://localhost:8080/"
        },
        "id": "bAKDRnzv-r5i",
        "outputId": "a193ca8a-7dd7-417d-bdef-6a5707c81115"
      },
      "execution_count": null,
      "outputs": [
        {
          "output_type": "execute_result",
          "data": {
            "text/plain": [
              "400"
            ]
          },
          "metadata": {},
          "execution_count": 41
        }
      ]
    },
    {
      "cell_type": "code",
      "source": [
        "len(id_data_dict)"
      ],
      "metadata": {
        "colab": {
          "base_uri": "https://localhost:8080/"
        },
        "id": "JjsXCAUI-r-f",
        "outputId": "c0456136-b9ea-46b3-d008-4d8316a022a2"
      },
      "execution_count": null,
      "outputs": [
        {
          "output_type": "execute_result",
          "data": {
            "text/plain": [
              "400"
            ]
          },
          "metadata": {},
          "execution_count": 42
        }
      ]
    },
    {
      "cell_type": "code",
      "source": [
        "random.sample(id_data_dict.items(), 1)"
      ],
      "metadata": {
        "colab": {
          "base_uri": "https://localhost:8080/"
        },
        "id": "Ajmu9vgmBg_l",
        "outputId": "af8d934a-3f0a-4812-939a-1209bb2a2290"
      },
      "execution_count": null,
      "outputs": [
        {
          "output_type": "stream",
          "name": "stderr",
          "text": [
            "<ipython-input-43-33d35bd641a0>:1: DeprecationWarning: Sampling from a set deprecated\n",
            "since Python 3.9 and will be removed in a subsequent version.\n",
            "  random.sample(id_data_dict.items(), 1)\n"
          ]
        },
        {
          "output_type": "execute_result",
          "data": {
            "text/plain": [
              "[('c3q5abb',\n",
              "  {'author': 'phishsticker',\n",
              "   'body': \"With Downing and Kuyt on the field, we lack that cutting edge. Downing is basically invisible most of the game, and Kuyt really lacks the pace and skill to work on the right side. Our attack is so easily defended against that its laughable. We need a skillful RW/LW that can actually beat their player and whip a GOOD ball in or take a 1/2 decent shot. \\n\\nCarroll was back to his usual self, he really seems to hate coming on as a sub. You could hear Kenny on the side constantly yelling at him to apply some pressure. \\n\\nBoth goals were through individual mistakes and were avoidable, but we didn't deserve anything from the match. We were atrocious for 90% of the game. I really think we will regret not bringing in a striker or rw in january, I have no idea where our goals will come from unless Bellamy magically wakes up with working knees. Oh and Evra is a cunt.\\n\\n**tldr: we were shit, evra is a cunt**\",\n",
              "   'normalizedBody': \"With Downing and Kuyt on the field, we lack that cutting edge. Downing is basically invisible most of the game, and Kuyt really lacks the pace and skill to work on the right side. Our attack is so easily defended against that its laughable. We need a skillful RW/LW that can actually beat their player and whip a GOOD ball in or take a 1/2 decent shot. \\n Carroll was back to his usual self, he really seems to hate coming on as a sub. You could hear Kenny on the side constantly yelling at him to apply some pressure. \\n Both goals were through individual mistakes and were avoidable, but we didn't deserve anything from the match. We were atrocious for 90% of the game. I really think we will regret not bringing in a striker or rw in january, I have no idea where our goals will come from unless Bellamy magically wakes up with working knees. Oh and Evra is a cunt. \\n tldr: we were shit, evra is a cunt \\n\",\n",
              "   'content': \"With Downing and Kuyt on the field, we lack that cutting edge. Downing is basically invisible most of the game, and Kuyt really lacks the pace and skill to work on the right side. Our attack is so easily defended against that its laughable. We need a skillful RW/LW that can actually beat their player and whip a GOOD ball in or take a 1/2 decent shot. \\n Carroll was back to his usual self, he really seems to hate coming on as a sub. You could hear Kenny on the side constantly yelling at him to apply some pressure. \\n Both goals were through individual mistakes and were avoidable, but we didn't deserve anything from the match. We were atrocious for 90% of the game. I really think we will regret not bringing in a striker or rw in january, I have no idea where our goals will come from unless Bellamy magically wakes up with working knees. Oh and Evra is a cunt.\",\n",
              "   'content_len': 163,\n",
              "   'summary': 'we were shit, evra is a cunt',\n",
              "   'summary_len': 7,\n",
              "   'id': 'c3q5abb',\n",
              "   'subreddit': 'LiverpoolFC',\n",
              "   'subreddit_id': 't5_2qn0o'})]"
            ]
          },
          "metadata": {},
          "execution_count": 43
        }
      ]
    },
    {
      "cell_type": "code",
      "source": [
        "train_df['text'] = train_df['id'].apply(lambda x: id_data_dict[x]['body'])\n",
        "val_df['text'] = val_df['id'].apply(lambda x: id_data_dict[x]['body'])"
      ],
      "metadata": {
        "id": "xeQ89x4uCiT1"
      },
      "execution_count": null,
      "outputs": []
    },
    {
      "cell_type": "code",
      "source": [
        "train_df.sample(3)"
      ],
      "metadata": {
        "colab": {
          "base_uri": "https://localhost:8080/",
          "height": 143
        },
        "id": "8cN4l9d0C1gk",
        "outputId": "d2ba73f6-7956-4d3c-e89e-0f66b74b5dbe"
      },
      "execution_count": null,
      "outputs": [
        {
          "output_type": "execute_result",
          "data": {
            "text/plain": [
              "          id     type  gold_intersection  gold_union  gold_consensus  \\\n",
              "165  cq8us4r  comment                  1           1               1   \n",
              "205  c1sgi4c  comment                  0           0               0   \n",
              "231  c6n6avv  comment                  0           1               0   \n",
              "\n",
              "     maria_span  joel_span  split  \\\n",
              "165           1          1  train   \n",
              "205           0          0  train   \n",
              "231           0          1  train   \n",
              "\n",
              "                                                  text  \n",
              "165  I know you jest; but PSA: Horses can be danger...  \n",
              "205  For me its because it distills everything Han ...  \n",
              "231  So I did some digging and the long and the sho...  "
            ],
            "text/html": [
              "\n",
              "  <div id=\"df-28908fea-d648-4991-98b1-d60b568e4f50\" class=\"colab-df-container\">\n",
              "    <div>\n",
              "<style scoped>\n",
              "    .dataframe tbody tr th:only-of-type {\n",
              "        vertical-align: middle;\n",
              "    }\n",
              "\n",
              "    .dataframe tbody tr th {\n",
              "        vertical-align: top;\n",
              "    }\n",
              "\n",
              "    .dataframe thead th {\n",
              "        text-align: right;\n",
              "    }\n",
              "</style>\n",
              "<table border=\"1\" class=\"dataframe\">\n",
              "  <thead>\n",
              "    <tr style=\"text-align: right;\">\n",
              "      <th></th>\n",
              "      <th>id</th>\n",
              "      <th>type</th>\n",
              "      <th>gold_intersection</th>\n",
              "      <th>gold_union</th>\n",
              "      <th>gold_consensus</th>\n",
              "      <th>maria_span</th>\n",
              "      <th>joel_span</th>\n",
              "      <th>split</th>\n",
              "      <th>text</th>\n",
              "    </tr>\n",
              "  </thead>\n",
              "  <tbody>\n",
              "    <tr>\n",
              "      <th>165</th>\n",
              "      <td>cq8us4r</td>\n",
              "      <td>comment</td>\n",
              "      <td>1</td>\n",
              "      <td>1</td>\n",
              "      <td>1</td>\n",
              "      <td>1</td>\n",
              "      <td>1</td>\n",
              "      <td>train</td>\n",
              "      <td>I know you jest; but PSA: Horses can be danger...</td>\n",
              "    </tr>\n",
              "    <tr>\n",
              "      <th>205</th>\n",
              "      <td>c1sgi4c</td>\n",
              "      <td>comment</td>\n",
              "      <td>0</td>\n",
              "      <td>0</td>\n",
              "      <td>0</td>\n",
              "      <td>0</td>\n",
              "      <td>0</td>\n",
              "      <td>train</td>\n",
              "      <td>For me its because it distills everything Han ...</td>\n",
              "    </tr>\n",
              "    <tr>\n",
              "      <th>231</th>\n",
              "      <td>c6n6avv</td>\n",
              "      <td>comment</td>\n",
              "      <td>0</td>\n",
              "      <td>1</td>\n",
              "      <td>0</td>\n",
              "      <td>0</td>\n",
              "      <td>1</td>\n",
              "      <td>train</td>\n",
              "      <td>So I did some digging and the long and the sho...</td>\n",
              "    </tr>\n",
              "  </tbody>\n",
              "</table>\n",
              "</div>\n",
              "    <div class=\"colab-df-buttons\">\n",
              "\n",
              "  <div class=\"colab-df-container\">\n",
              "    <button class=\"colab-df-convert\" onclick=\"convertToInteractive('df-28908fea-d648-4991-98b1-d60b568e4f50')\"\n",
              "            title=\"Convert this dataframe to an interactive table.\"\n",
              "            style=\"display:none;\">\n",
              "\n",
              "  <svg xmlns=\"http://www.w3.org/2000/svg\" height=\"24px\" viewBox=\"0 -960 960 960\">\n",
              "    <path d=\"M120-120v-720h720v720H120Zm60-500h600v-160H180v160Zm220 220h160v-160H400v160Zm0 220h160v-160H400v160ZM180-400h160v-160H180v160Zm440 0h160v-160H620v160ZM180-180h160v-160H180v160Zm440 0h160v-160H620v160Z\"/>\n",
              "  </svg>\n",
              "    </button>\n",
              "\n",
              "  <style>\n",
              "    .colab-df-container {\n",
              "      display:flex;\n",
              "      gap: 12px;\n",
              "    }\n",
              "\n",
              "    .colab-df-convert {\n",
              "      background-color: #E8F0FE;\n",
              "      border: none;\n",
              "      border-radius: 50%;\n",
              "      cursor: pointer;\n",
              "      display: none;\n",
              "      fill: #1967D2;\n",
              "      height: 32px;\n",
              "      padding: 0 0 0 0;\n",
              "      width: 32px;\n",
              "    }\n",
              "\n",
              "    .colab-df-convert:hover {\n",
              "      background-color: #E2EBFA;\n",
              "      box-shadow: 0px 1px 2px rgba(60, 64, 67, 0.3), 0px 1px 3px 1px rgba(60, 64, 67, 0.15);\n",
              "      fill: #174EA6;\n",
              "    }\n",
              "\n",
              "    .colab-df-buttons div {\n",
              "      margin-bottom: 4px;\n",
              "    }\n",
              "\n",
              "    [theme=dark] .colab-df-convert {\n",
              "      background-color: #3B4455;\n",
              "      fill: #D2E3FC;\n",
              "    }\n",
              "\n",
              "    [theme=dark] .colab-df-convert:hover {\n",
              "      background-color: #434B5C;\n",
              "      box-shadow: 0px 1px 3px 1px rgba(0, 0, 0, 0.15);\n",
              "      filter: drop-shadow(0px 1px 2px rgba(0, 0, 0, 0.3));\n",
              "      fill: #FFFFFF;\n",
              "    }\n",
              "  </style>\n",
              "\n",
              "    <script>\n",
              "      const buttonEl =\n",
              "        document.querySelector('#df-28908fea-d648-4991-98b1-d60b568e4f50 button.colab-df-convert');\n",
              "      buttonEl.style.display =\n",
              "        google.colab.kernel.accessAllowed ? 'block' : 'none';\n",
              "\n",
              "      async function convertToInteractive(key) {\n",
              "        const element = document.querySelector('#df-28908fea-d648-4991-98b1-d60b568e4f50');\n",
              "        const dataTable =\n",
              "          await google.colab.kernel.invokeFunction('convertToInteractive',\n",
              "                                                    [key], {});\n",
              "        if (!dataTable) return;\n",
              "\n",
              "        const docLinkHtml = 'Like what you see? Visit the ' +\n",
              "          '<a target=\"_blank\" href=https://colab.research.google.com/notebooks/data_table.ipynb>data table notebook</a>'\n",
              "          + ' to learn more about interactive tables.';\n",
              "        element.innerHTML = '';\n",
              "        dataTable['output_type'] = 'display_data';\n",
              "        await google.colab.output.renderOutput(dataTable, element);\n",
              "        const docLink = document.createElement('div');\n",
              "        docLink.innerHTML = docLinkHtml;\n",
              "        element.appendChild(docLink);\n",
              "      }\n",
              "    </script>\n",
              "  </div>\n",
              "\n",
              "\n",
              "<div id=\"df-bde5427a-0b66-43b9-b04a-6728ad41c2bf\">\n",
              "  <button class=\"colab-df-quickchart\" onclick=\"quickchart('df-bde5427a-0b66-43b9-b04a-6728ad41c2bf')\"\n",
              "            title=\"Suggest charts\"\n",
              "            style=\"display:none;\">\n",
              "\n",
              "<svg xmlns=\"http://www.w3.org/2000/svg\" height=\"24px\"viewBox=\"0 0 24 24\"\n",
              "     width=\"24px\">\n",
              "    <g>\n",
              "        <path d=\"M19 3H5c-1.1 0-2 .9-2 2v14c0 1.1.9 2 2 2h14c1.1 0 2-.9 2-2V5c0-1.1-.9-2-2-2zM9 17H7v-7h2v7zm4 0h-2V7h2v10zm4 0h-2v-4h2v4z\"/>\n",
              "    </g>\n",
              "</svg>\n",
              "  </button>\n",
              "\n",
              "<style>\n",
              "  .colab-df-quickchart {\n",
              "      --bg-color: #E8F0FE;\n",
              "      --fill-color: #1967D2;\n",
              "      --hover-bg-color: #E2EBFA;\n",
              "      --hover-fill-color: #174EA6;\n",
              "      --disabled-fill-color: #AAA;\n",
              "      --disabled-bg-color: #DDD;\n",
              "  }\n",
              "\n",
              "  [theme=dark] .colab-df-quickchart {\n",
              "      --bg-color: #3B4455;\n",
              "      --fill-color: #D2E3FC;\n",
              "      --hover-bg-color: #434B5C;\n",
              "      --hover-fill-color: #FFFFFF;\n",
              "      --disabled-bg-color: #3B4455;\n",
              "      --disabled-fill-color: #666;\n",
              "  }\n",
              "\n",
              "  .colab-df-quickchart {\n",
              "    background-color: var(--bg-color);\n",
              "    border: none;\n",
              "    border-radius: 50%;\n",
              "    cursor: pointer;\n",
              "    display: none;\n",
              "    fill: var(--fill-color);\n",
              "    height: 32px;\n",
              "    padding: 0;\n",
              "    width: 32px;\n",
              "  }\n",
              "\n",
              "  .colab-df-quickchart:hover {\n",
              "    background-color: var(--hover-bg-color);\n",
              "    box-shadow: 0 1px 2px rgba(60, 64, 67, 0.3), 0 1px 3px 1px rgba(60, 64, 67, 0.15);\n",
              "    fill: var(--button-hover-fill-color);\n",
              "  }\n",
              "\n",
              "  .colab-df-quickchart-complete:disabled,\n",
              "  .colab-df-quickchart-complete:disabled:hover {\n",
              "    background-color: var(--disabled-bg-color);\n",
              "    fill: var(--disabled-fill-color);\n",
              "    box-shadow: none;\n",
              "  }\n",
              "\n",
              "  .colab-df-spinner {\n",
              "    border: 2px solid var(--fill-color);\n",
              "    border-color: transparent;\n",
              "    border-bottom-color: var(--fill-color);\n",
              "    animation:\n",
              "      spin 1s steps(1) infinite;\n",
              "  }\n",
              "\n",
              "  @keyframes spin {\n",
              "    0% {\n",
              "      border-color: transparent;\n",
              "      border-bottom-color: var(--fill-color);\n",
              "      border-left-color: var(--fill-color);\n",
              "    }\n",
              "    20% {\n",
              "      border-color: transparent;\n",
              "      border-left-color: var(--fill-color);\n",
              "      border-top-color: var(--fill-color);\n",
              "    }\n",
              "    30% {\n",
              "      border-color: transparent;\n",
              "      border-left-color: var(--fill-color);\n",
              "      border-top-color: var(--fill-color);\n",
              "      border-right-color: var(--fill-color);\n",
              "    }\n",
              "    40% {\n",
              "      border-color: transparent;\n",
              "      border-right-color: var(--fill-color);\n",
              "      border-top-color: var(--fill-color);\n",
              "    }\n",
              "    60% {\n",
              "      border-color: transparent;\n",
              "      border-right-color: var(--fill-color);\n",
              "    }\n",
              "    80% {\n",
              "      border-color: transparent;\n",
              "      border-right-color: var(--fill-color);\n",
              "      border-bottom-color: var(--fill-color);\n",
              "    }\n",
              "    90% {\n",
              "      border-color: transparent;\n",
              "      border-bottom-color: var(--fill-color);\n",
              "    }\n",
              "  }\n",
              "</style>\n",
              "\n",
              "  <script>\n",
              "    async function quickchart(key) {\n",
              "      const quickchartButtonEl =\n",
              "        document.querySelector('#' + key + ' button');\n",
              "      quickchartButtonEl.disabled = true;  // To prevent multiple clicks.\n",
              "      quickchartButtonEl.classList.add('colab-df-spinner');\n",
              "      try {\n",
              "        const charts = await google.colab.kernel.invokeFunction(\n",
              "            'suggestCharts', [key], {});\n",
              "      } catch (error) {\n",
              "        console.error('Error during call to suggestCharts:', error);\n",
              "      }\n",
              "      quickchartButtonEl.classList.remove('colab-df-spinner');\n",
              "      quickchartButtonEl.classList.add('colab-df-quickchart-complete');\n",
              "    }\n",
              "    (() => {\n",
              "      let quickchartButtonEl =\n",
              "        document.querySelector('#df-bde5427a-0b66-43b9-b04a-6728ad41c2bf button');\n",
              "      quickchartButtonEl.style.display =\n",
              "        google.colab.kernel.accessAllowed ? 'block' : 'none';\n",
              "    })();\n",
              "  </script>\n",
              "</div>\n",
              "    </div>\n",
              "  </div>\n"
            ],
            "application/vnd.google.colaboratory.intrinsic+json": {
              "type": "dataframe",
              "summary": "{\n  \"name\": \"train_df\",\n  \"rows\": 3,\n  \"fields\": [\n    {\n      \"column\": \"id\",\n      \"properties\": {\n        \"dtype\": \"string\",\n        \"samples\": [\n          \"cq8us4r\",\n          \"c1sgi4c\",\n          \"c6n6avv\"\n        ],\n        \"num_unique_values\": 3,\n        \"semantic_type\": \"\",\n        \"description\": \"\"\n      }\n    },\n    {\n      \"column\": \"type\",\n      \"properties\": {\n        \"dtype\": \"category\",\n        \"samples\": [\n          \"comment\"\n        ],\n        \"num_unique_values\": 1,\n        \"semantic_type\": \"\",\n        \"description\": \"\"\n      }\n    },\n    {\n      \"column\": \"gold_intersection\",\n      \"properties\": {\n        \"dtype\": \"number\",\n        \"std\": 0,\n        \"min\": 0,\n        \"max\": 1,\n        \"samples\": [\n          0\n        ],\n        \"num_unique_values\": 2,\n        \"semantic_type\": \"\",\n        \"description\": \"\"\n      }\n    },\n    {\n      \"column\": \"gold_union\",\n      \"properties\": {\n        \"dtype\": \"number\",\n        \"std\": 0,\n        \"min\": 0,\n        \"max\": 1,\n        \"samples\": [\n          0\n        ],\n        \"num_unique_values\": 2,\n        \"semantic_type\": \"\",\n        \"description\": \"\"\n      }\n    },\n    {\n      \"column\": \"gold_consensus\",\n      \"properties\": {\n        \"dtype\": \"number\",\n        \"std\": 0,\n        \"min\": 0,\n        \"max\": 1,\n        \"samples\": [\n          0\n        ],\n        \"num_unique_values\": 2,\n        \"semantic_type\": \"\",\n        \"description\": \"\"\n      }\n    },\n    {\n      \"column\": \"maria_span\",\n      \"properties\": {\n        \"dtype\": \"number\",\n        \"std\": 0,\n        \"min\": 0,\n        \"max\": 1,\n        \"samples\": [\n          0\n        ],\n        \"num_unique_values\": 2,\n        \"semantic_type\": \"\",\n        \"description\": \"\"\n      }\n    },\n    {\n      \"column\": \"joel_span\",\n      \"properties\": {\n        \"dtype\": \"number\",\n        \"std\": 0,\n        \"min\": 0,\n        \"max\": 1,\n        \"samples\": [\n          0\n        ],\n        \"num_unique_values\": 2,\n        \"semantic_type\": \"\",\n        \"description\": \"\"\n      }\n    },\n    {\n      \"column\": \"split\",\n      \"properties\": {\n        \"dtype\": \"category\",\n        \"samples\": [\n          \"train\"\n        ],\n        \"num_unique_values\": 1,\n        \"semantic_type\": \"\",\n        \"description\": \"\"\n      }\n    },\n    {\n      \"column\": \"text\",\n      \"properties\": {\n        \"dtype\": \"string\",\n        \"samples\": [\n          \"I know you jest; but PSA: Horses can be dangerous, flight-prone creatures.\\n\\nI once went camping with my parents (who have horses). The plan was to hike about a mile and a half into a lake where we would set up camp. My mother decided to take one of her horses as a pack animal. In hind sight, she placed to many items in the saddle packs of the horse. As my parents and I hiked into the lake the unevenly packed items began to shift, which in turn caused the horse to panic. In an instant my mom tried to steady the horse but it was too late; the pack and equipment slide upside down causing the horse to rear up and knock my mom down. The horse landed only a foot or so from her head before bolting off into the woods and arcing back towards the trail and took off out of sight.\\n\\nMy mom was hurt; the horse was gone with a malfunctioning pack and everyone was trying to figure out what to do next. After making sure my mom was okay I took off after the horse; but after a couple of miles up the Pacific Crest Trail; I turned around so I could help my mom stash the expelled equipment in the forest (lest someone would steal our stuff), escort my hurt mother back to the trail head then drive several miles to where the horse would eventually come out at. When we found the horse she had a serious laceration on her ankle; causing her to limp the entire way back to our trailer. Later we found out from the veterinarian the extent of her injuries: she was extremely close to having to be put down due to her injured leg.\\n\\nIn the end everyone was okay; and the horse survived (though our entire camping trip was ruined).\\n\\n**TL;DR: Horses will flip shit and murder-suicide you or your family.**\"\n        ],\n        \"num_unique_values\": 3,\n        \"semantic_type\": \"\",\n        \"description\": \"\"\n      }\n    }\n  ]\n}"
            }
          },
          "metadata": {},
          "execution_count": 45
        }
      ]
    },
    {
      "cell_type": "code",
      "metadata": {
        "id": "h94eg2wlfi6y",
        "colab": {
          "base_uri": "https://localhost:8080/"
        },
        "outputId": "7fba4507-38eb-40f6-85a0-7a3e14ac26af"
      },
      "source": [
        "X_train = train_df['text'].tolist()\n",
        "X_val = val_df['text'].tolist()\n",
        "\n",
        "# y_train = _story_df_train['gold_intersection'].tolist()\n",
        "# y_val = _story_df_test['gold_intersection'].tolist()\n",
        "y_train = train_df['gold_consensus'].tolist()\n",
        "y_val = val_df['gold_consensus'].tolist()\n",
        "\n",
        "len(X_train), len(X_val), len(y_train), len(y_val)"
      ],
      "execution_count": null,
      "outputs": [
        {
          "output_type": "execute_result",
          "data": {
            "text/plain": [
              "(301, 100, 301, 100)"
            ]
          },
          "metadata": {},
          "execution_count": 46
        }
      ]
    },
    {
      "cell_type": "markdown",
      "source": [
        "We recommend using the ```gold_consensus``` labels as these are the highest quality annotations, representing the most discussion and deliberation by the annotators."
      ],
      "metadata": {
        "id": "bSdIFke4RDv5"
      }
    },
    {
      "cell_type": "code",
      "source": [],
      "metadata": {
        "id": "PF-r41DXRGd4"
      },
      "execution_count": null,
      "outputs": []
    }
  ]
}